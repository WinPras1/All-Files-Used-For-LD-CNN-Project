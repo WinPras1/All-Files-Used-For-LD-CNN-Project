{
 "cells": [
  {
   "cell_type": "code",
   "execution_count": 1,
   "id": "edbaba26-907d-44de-a890-3ec01dbd73d7",
   "metadata": {},
   "outputs": [
    {
     "name": "stderr",
     "output_type": "stream",
     "text": [
      "2023-12-29 16:23:43.718628: I tensorflow/tsl/cuda/cudart_stub.cc:28] Could not find cuda drivers on your machine, GPU will not be used.\n",
      "2023-12-29 16:23:43.774246: I tensorflow/tsl/cuda/cudart_stub.cc:28] Could not find cuda drivers on your machine, GPU will not be used.\n",
      "2023-12-29 16:23:43.776780: I tensorflow/core/platform/cpu_feature_guard.cc:182] This TensorFlow binary is optimized to use available CPU instructions in performance-critical operations.\n",
      "To enable the following instructions: AVX2 FMA, in other operations, rebuild TensorFlow with the appropriate compiler flags.\n",
      "2023-12-29 16:23:45.100828: W tensorflow/compiler/tf2tensorrt/utils/py_utils.cc:38] TF-TRT Warning: Could not find TensorRT\n"
     ]
    }
   ],
   "source": [
    "import tensorflow as tf\n",
    "from tensorflow import keras\n",
    "from keras import layers, callbacks\n",
    "from keras.models import Sequential\n",
    "import keras_tuner as kt\n",
    "import pickle\n",
    "from modules.train_cnn import *\n",
    "from modules.process_data import *\n",
    "\n",
    "import os\n",
    "\n",
    "os.environ[\n",
    "    \"TF_CPP_MIN_LOG_LEVEL\"\n",
    "] = \"3\"  # this is to silence some of TF warning messages\n",
    "import typer\n",
    "from typing_extensions import Annotated\n",
    "import pickle\n",
    "import tensorflow as tf\n",
    "import keras_tuner as kt\n",
    "from modules.train_cnn import *\n",
    "from modules.process_data import *\n",
    "from modules.validate import plot_all_gamma_results"
   ]
  },
  {
   "cell_type": "code",
   "execution_count": 3,
   "id": "74c25175",
   "metadata": {},
   "outputs": [],
   "source": [
    "Dprime_model = tf.keras.models.load_model(\"./results/LD_Dprime_trained_no_scale_trying_with_validation\")\n",
    "\n",
    "test_dprime_tensor = np.array(pickle.load(open('./processed_LD_data/test_data_Dprime_labeled_tensors', \"rb\")))\n",
    "test_dprime_label = np.array(pickle.load(open('./processed_LD_data/test_data_Dprime_labeled_labels', 'rb')))\n",
    "\n",
    "train_Dprime_tensors = np.array(pickle.load(open('./processed_LD_data/train_data_Dprime_labeled_tensors', 'rb')))\n",
    "train_Dprime_labels = np.array(pickle.load(open('./processed_LD_data/train_data_Dprime_labeled_labels', 'rb')))"
   ]
  },
  {
   "cell_type": "code",
   "execution_count": 14,
   "id": "d3f2a64a",
   "metadata": {},
   "outputs": [
    {
     "data": {
      "text/plain": [
       "array([ 0.02169405,  0.02169405,  0.02169405, ..., -0.21421611,\n",
       "       -0.21421611, -0.21421611])"
      ]
     },
     "execution_count": 14,
     "metadata": {},
     "output_type": "execute_result"
    }
   ],
   "source": [
    "train_Dprime_labels[:,1] # b parameter values"
   ]
  }
 ],
 "metadata": {
  "kernelspec": {
   "display_name": "dfe-cnn",
   "language": "python",
   "name": "python3"
  },
  "language_info": {
   "codemirror_mode": {
    "name": "ipython",
    "version": 3
   },
   "file_extension": ".py",
   "mimetype": "text/x-python",
   "name": "python",
   "nbconvert_exporter": "python",
   "pygments_lexer": "ipython3",
   "version": "3.11.4"
  }
 },
 "nbformat": 4,
 "nbformat_minor": 5
}
