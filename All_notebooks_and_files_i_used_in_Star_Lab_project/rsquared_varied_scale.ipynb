{
 "cells": [
  {
   "cell_type": "code",
   "execution_count": 1,
   "metadata": {},
   "outputs": [
    {
     "name": "stderr",
     "output_type": "stream",
     "text": [
      "2024-02-06 21:47:43.752835: I tensorflow/tsl/cuda/cudart_stub.cc:28] Could not find cuda drivers on your machine, GPU will not be used.\n",
      "2024-02-06 21:47:43.952696: I tensorflow/tsl/cuda/cudart_stub.cc:28] Could not find cuda drivers on your machine, GPU will not be used.\n",
      "2024-02-06 21:47:43.954912: I tensorflow/core/platform/cpu_feature_guard.cc:182] This TensorFlow binary is optimized to use available CPU instructions in performance-critical operations.\n",
      "To enable the following instructions: AVX2 FMA, in other operations, rebuild TensorFlow with the appropriate compiler flags.\n",
      "2024-02-06 21:47:45.732255: W tensorflow/compiler/tf2tensorrt/utils/py_utils.cc:38] TF-TRT Warning: Could not find TensorRT\n"
     ]
    }
   ],
   "source": [
    "import sys\n",
    "sys.path.append('/mnt/c/Users/Prasa/OneDrive/dfenn-main')\n",
    "# sys.path.append('mnt//c/Users/Prasa/OneDrive/dfenn-main/processed_')\n",
    "\n",
    "import tensorflow as tf\n",
    "from tensorflow import keras\n",
    "from keras import *\n",
    "from keras.models import Sequential\n",
    "import keras_tuner as kt\n",
    "import pickle\n",
    "from modules.train_cnn import *\n",
    "from modules.process_data import *\n",
    "from modules.validate import *\n",
    "import os\n",
    "\n",
    "os.environ[\n",
    "    \"TF_CPP_MIN_LOG_LEVEL\"\n",
    "] = \"3\"  # this is to silence some of TF warning messages\n",
    "import typer\n",
    "from typing_extensions import Annotated\n"
   ]
  },
  {
   "cell_type": "code",
   "execution_count": 2,
   "metadata": {},
   "outputs": [],
   "source": [
    "def scramble(\n",
    "    data_in_path: str,\n",
    "    data_out_path: str,\n",
    "    scramble_row: Annotated[bool, typer.Option()] = True,\n",
    "    free_scramble: Annotated[bool, typer.Option()] = False,\n",
    "    seed: Annotated[int, typer.Option()] = None,\n",
    "):\n",
    "    # read in data\n",
    "    data_in = pickle.load(open(f\"{data_in_path}\", \"rb\"))\n",
    "\n",
    "    # scramble data and store in a new variable\n",
    "    scramble_data = []\n",
    "    # iterate through the data array and alter each tensor\n",
    "    for tensor in data_in:\n",
    "        scramble_tensor = scramble_snp_tensor(\n",
    "            tensor, scramble_row=scramble_row, free_scramble=free_scramble, seed=seed\n",
    "        )\n",
    "        scramble_data.append(scramble_tensor)\n",
    "\n",
    "    # save output scrambled data as a numpy array\n",
    "    pickle.dump(np.array(scramble_data), open(f\"{data_out_path}\", \"wb\"))"
   ]
  },
  {
   "cell_type": "code",
   "execution_count": 4,
   "metadata": {},
   "outputs": [
    {
     "data": {
      "text/plain": [
       "'/mnt/c/Users/Prasa/OneDrive/dfenn-main/All_notebooks_and_files_i_used_in_Star_Lab_project'"
      ]
     },
     "execution_count": 4,
     "metadata": {},
     "output_type": "execute_result"
    }
   ],
   "source": [
    "pwd"
   ]
  },
  {
   "cell_type": "code",
   "execution_count": 5,
   "metadata": {},
   "outputs": [],
   "source": [
    "scramble('../processed_LD_data/test_data_1B08_varied_scale_2_r2_labeled_tensors', '../processed_LD_data/test_r2_varied_scrambled_tensors')"
   ]
  },
  {
   "cell_type": "code",
   "execution_count": 3,
   "metadata": {},
   "outputs": [],
   "source": [
    "scramble('../processed_LD_data/r2_vary_data/test_data_1B08_varied_scale_2_r2_labeled_tensors', '../processed_LD_data/r2_vary_data/test_r2_varied_free_scrambled_tensors', free_scramble=True)"
   ]
  },
  {
   "cell_type": "code",
   "execution_count": 2,
   "metadata": {},
   "outputs": [],
   "source": [
    "r2_varied_train_tensors = np.array(pickle.load(open('../processed_LD_data/r2_vary_data/train_data_1B08_varied_scale_2_r2_labeled_tensors', \"rb\")))\n",
    "r2_varied_train_labels = np.array(pickle.load(open('../processed_LD_data/r2_vary_data/train_data_1B08_varied_scale_2_r2_labeled_labels', \"rb\")))\n",
    "\n",
    "r2_varied_test_tensors = np.array(pickle.load(open('../processed_LD_data/r2_vary_data/test_data_1B08_varied_scale_2_r2_labeled_tensors', \"rb\")))\n",
    "r2_varied_test_labels = np.array(pickle.load(open('../processed_LD_data/r2_vary_data/test_data_1B08_varied_scale_2_r2_labeled_labels', \"rb\")))\n",
    "\n",
    "r2_varied_test_scrambled_tensors = np.array(pickle.load(open('../processed_LD_data/r2_vary_data/test_r2_varied_scrambled_tensors', 'rb')))\n",
    "r2_varied_test_free_scrambled_tensors = np.array(pickle.load(open('../processed_LD_data/r2_vary_data/test_r2_varied_free_scrambled_tensors', 'rb')))\n",
    "\n",
    "r2_varied_test_partition_by_row_tensors = np.array(pickle.load(open('../processed_LD_data/r2_vary_data/test_r2_varied_partition_by_row_tensors', 'rb')))\n",
    "r2_varied_test_partition_by_column_tensors = np.array(pickle.load(open('../processed_LD_data/r2_vary_data/test_r2_varied_partition_by_column_tensors', 'rb')))"
   ]
  },
  {
   "cell_type": "code",
   "execution_count": 3,
   "metadata": {},
   "outputs": [
    {
     "name": "stdout",
     "output_type": "stream",
     "text": [
      "Epoch 1/30\n"
     ]
    },
    {
     "name": "stderr",
     "output_type": "stream",
     "text": [
      "2024-01-17 20:08:36.501135: W tensorflow/tsl/framework/cpu_allocator_impl.cc:83] Allocation of 145680000 exceeds 10% of free system memory.\n"
     ]
    },
    {
     "name": "stdout",
     "output_type": "stream",
     "text": [
      "95/95 [==============================] - ETA: 0s - loss: 0.9802 - mean_squared_error: 0.9802WARNING:tensorflow:Early stopping conditioned on metric `val_loss` which is not available. Available metrics are: loss,mean_squared_error\n",
      "95/95 [==============================] - 13s 128ms/step - loss: 0.9802 - mean_squared_error: 0.9802\n",
      "Epoch 2/30\n",
      "95/95 [==============================] - ETA: 0s - loss: 0.6403 - mean_squared_error: 0.6403WARNING:tensorflow:Early stopping conditioned on metric `val_loss` which is not available. Available metrics are: loss,mean_squared_error\n",
      "95/95 [==============================] - 11s 115ms/step - loss: 0.6403 - mean_squared_error: 0.6403\n",
      "Epoch 3/30\n",
      "95/95 [==============================] - ETA: 0s - loss: 0.6207 - mean_squared_error: 0.6207WARNING:tensorflow:Early stopping conditioned on metric `val_loss` which is not available. Available metrics are: loss,mean_squared_error\n",
      "95/95 [==============================] - 11s 111ms/step - loss: 0.6207 - mean_squared_error: 0.6207\n",
      "Epoch 4/30\n",
      "95/95 [==============================] - ETA: 0s - loss: 0.6026 - mean_squared_error: 0.6026WARNING:tensorflow:Early stopping conditioned on metric `val_loss` which is not available. Available metrics are: loss,mean_squared_error\n",
      "95/95 [==============================] - 10s 109ms/step - loss: 0.6026 - mean_squared_error: 0.6026\n",
      "Epoch 5/30\n",
      "95/95 [==============================] - ETA: 0s - loss: 0.5926 - mean_squared_error: 0.5926WARNING:tensorflow:Early stopping conditioned on metric `val_loss` which is not available. Available metrics are: loss,mean_squared_error\n",
      "95/95 [==============================] - 11s 111ms/step - loss: 0.5926 - mean_squared_error: 0.5926\n",
      "Epoch 6/30\n",
      "95/95 [==============================] - ETA: 0s - loss: 0.5826 - mean_squared_error: 0.5826WARNING:tensorflow:Early stopping conditioned on metric `val_loss` which is not available. Available metrics are: loss,mean_squared_error\n",
      "95/95 [==============================] - 10s 110ms/step - loss: 0.5826 - mean_squared_error: 0.5826\n",
      "Epoch 7/30\n",
      "95/95 [==============================] - ETA: 0s - loss: 0.5774 - mean_squared_error: 0.5774WARNING:tensorflow:Early stopping conditioned on metric `val_loss` which is not available. Available metrics are: loss,mean_squared_error\n",
      "95/95 [==============================] - 11s 111ms/step - loss: 0.5774 - mean_squared_error: 0.5774\n",
      "Epoch 8/30\n",
      "95/95 [==============================] - ETA: 0s - loss: 0.5727 - mean_squared_error: 0.5727WARNING:tensorflow:Early stopping conditioned on metric `val_loss` which is not available. Available metrics are: loss,mean_squared_error\n",
      "95/95 [==============================] - 11s 112ms/step - loss: 0.5727 - mean_squared_error: 0.5727\n",
      "Epoch 9/30\n",
      "95/95 [==============================] - ETA: 0s - loss: 0.5717 - mean_squared_error: 0.5717WARNING:tensorflow:Early stopping conditioned on metric `val_loss` which is not available. Available metrics are: loss,mean_squared_error\n",
      "95/95 [==============================] - 10s 110ms/step - loss: 0.5717 - mean_squared_error: 0.5717\n",
      "Epoch 10/30\n",
      "95/95 [==============================] - ETA: 0s - loss: 0.5727 - mean_squared_error: 0.5727WARNING:tensorflow:Early stopping conditioned on metric `val_loss` which is not available. Available metrics are: loss,mean_squared_error\n",
      "95/95 [==============================] - 11s 112ms/step - loss: 0.5727 - mean_squared_error: 0.5727\n",
      "Epoch 11/30\n",
      "95/95 [==============================] - ETA: 0s - loss: 0.5718 - mean_squared_error: 0.5718WARNING:tensorflow:Early stopping conditioned on metric `val_loss` which is not available. Available metrics are: loss,mean_squared_error\n",
      "95/95 [==============================] - 11s 112ms/step - loss: 0.5718 - mean_squared_error: 0.5718\n",
      "Epoch 12/30\n",
      "95/95 [==============================] - ETA: 0s - loss: 0.5663 - mean_squared_error: 0.5663WARNING:tensorflow:Early stopping conditioned on metric `val_loss` which is not available. Available metrics are: loss,mean_squared_error\n",
      "95/95 [==============================] - 11s 111ms/step - loss: 0.5663 - mean_squared_error: 0.5663\n",
      "Epoch 13/30\n",
      "95/95 [==============================] - ETA: 0s - loss: 0.5640 - mean_squared_error: 0.5640WARNING:tensorflow:Early stopping conditioned on metric `val_loss` which is not available. Available metrics are: loss,mean_squared_error\n",
      "95/95 [==============================] - 11s 114ms/step - loss: 0.5640 - mean_squared_error: 0.5640\n",
      "Epoch 14/30\n",
      "95/95 [==============================] - ETA: 0s - loss: 0.5647 - mean_squared_error: 0.5647WARNING:tensorflow:Early stopping conditioned on metric `val_loss` which is not available. Available metrics are: loss,mean_squared_error\n",
      "95/95 [==============================] - 10s 109ms/step - loss: 0.5647 - mean_squared_error: 0.5647\n",
      "Epoch 15/30\n",
      "95/95 [==============================] - ETA: 0s - loss: 0.5598 - mean_squared_error: 0.5598WARNING:tensorflow:Early stopping conditioned on metric `val_loss` which is not available. Available metrics are: loss,mean_squared_error\n",
      "95/95 [==============================] - 10s 109ms/step - loss: 0.5598 - mean_squared_error: 0.5598\n",
      "Epoch 16/30\n",
      "95/95 [==============================] - ETA: 0s - loss: 0.5568 - mean_squared_error: 0.5568WARNING:tensorflow:Early stopping conditioned on metric `val_loss` which is not available. Available metrics are: loss,mean_squared_error\n",
      "95/95 [==============================] - 10s 109ms/step - loss: 0.5568 - mean_squared_error: 0.5568\n",
      "Epoch 17/30\n",
      "95/95 [==============================] - ETA: 0s - loss: 0.5499 - mean_squared_error: 0.5499WARNING:tensorflow:Early stopping conditioned on metric `val_loss` which is not available. Available metrics are: loss,mean_squared_error\n",
      "95/95 [==============================] - 10s 109ms/step - loss: 0.5499 - mean_squared_error: 0.5499\n",
      "Epoch 18/30\n",
      "95/95 [==============================] - ETA: 0s - loss: 0.5481 - mean_squared_error: 0.5481WARNING:tensorflow:Early stopping conditioned on metric `val_loss` which is not available. Available metrics are: loss,mean_squared_error\n",
      "95/95 [==============================] - 10s 110ms/step - loss: 0.5481 - mean_squared_error: 0.5481\n",
      "Epoch 19/30\n",
      "95/95 [==============================] - ETA: 0s - loss: 0.5462 - mean_squared_error: 0.5462WARNING:tensorflow:Early stopping conditioned on metric `val_loss` which is not available. Available metrics are: loss,mean_squared_error\n",
      "95/95 [==============================] - 10s 111ms/step - loss: 0.5462 - mean_squared_error: 0.5462\n",
      "Epoch 20/30\n",
      "95/95 [==============================] - ETA: 0s - loss: 0.5391 - mean_squared_error: 0.5391WARNING:tensorflow:Early stopping conditioned on metric `val_loss` which is not available. Available metrics are: loss,mean_squared_error\n",
      "95/95 [==============================] - 10s 108ms/step - loss: 0.5391 - mean_squared_error: 0.5391\n",
      "Epoch 21/30\n",
      "95/95 [==============================] - ETA: 0s - loss: 0.5406 - mean_squared_error: 0.5406WARNING:tensorflow:Early stopping conditioned on metric `val_loss` which is not available. Available metrics are: loss,mean_squared_error\n",
      "95/95 [==============================] - 10s 110ms/step - loss: 0.5406 - mean_squared_error: 0.5406\n",
      "Epoch 22/30\n",
      "95/95 [==============================] - ETA: 0s - loss: 0.5342 - mean_squared_error: 0.5342WARNING:tensorflow:Early stopping conditioned on metric `val_loss` which is not available. Available metrics are: loss,mean_squared_error\n",
      "95/95 [==============================] - 10s 108ms/step - loss: 0.5342 - mean_squared_error: 0.5342\n",
      "Epoch 23/30\n",
      "95/95 [==============================] - ETA: 0s - loss: 0.5335 - mean_squared_error: 0.5335WARNING:tensorflow:Early stopping conditioned on metric `val_loss` which is not available. Available metrics are: loss,mean_squared_error\n",
      "95/95 [==============================] - 10s 108ms/step - loss: 0.5335 - mean_squared_error: 0.5335\n",
      "Epoch 24/30\n",
      "95/95 [==============================] - ETA: 0s - loss: 0.5280 - mean_squared_error: 0.5280WARNING:tensorflow:Early stopping conditioned on metric `val_loss` which is not available. Available metrics are: loss,mean_squared_error\n",
      "95/95 [==============================] - 10s 109ms/step - loss: 0.5280 - mean_squared_error: 0.5280\n",
      "Epoch 25/30\n",
      "95/95 [==============================] - ETA: 0s - loss: 0.5240 - mean_squared_error: 0.5240WARNING:tensorflow:Early stopping conditioned on metric `val_loss` which is not available. Available metrics are: loss,mean_squared_error\n",
      "95/95 [==============================] - 10s 108ms/step - loss: 0.5240 - mean_squared_error: 0.5240\n",
      "Epoch 26/30\n",
      "95/95 [==============================] - ETA: 0s - loss: 0.5227 - mean_squared_error: 0.5227WARNING:tensorflow:Early stopping conditioned on metric `val_loss` which is not available. Available metrics are: loss,mean_squared_error\n",
      "95/95 [==============================] - 10s 108ms/step - loss: 0.5227 - mean_squared_error: 0.5227\n",
      "Epoch 27/30\n",
      "95/95 [==============================] - ETA: 0s - loss: 0.5315 - mean_squared_error: 0.5315WARNING:tensorflow:Early stopping conditioned on metric `val_loss` which is not available. Available metrics are: loss,mean_squared_error\n",
      "95/95 [==============================] - 10s 109ms/step - loss: 0.5315 - mean_squared_error: 0.5315\n",
      "Epoch 28/30\n",
      "95/95 [==============================] - ETA: 0s - loss: 0.5186 - mean_squared_error: 0.5186WARNING:tensorflow:Early stopping conditioned on metric `val_loss` which is not available. Available metrics are: loss,mean_squared_error\n",
      "95/95 [==============================] - 10s 108ms/step - loss: 0.5186 - mean_squared_error: 0.5186\n",
      "Epoch 29/30\n",
      "95/95 [==============================] - ETA: 0s - loss: 0.5150 - mean_squared_error: 0.5150WARNING:tensorflow:Early stopping conditioned on metric `val_loss` which is not available. Available metrics are: loss,mean_squared_error\n",
      "95/95 [==============================] - 10s 108ms/step - loss: 0.5150 - mean_squared_error: 0.5150\n",
      "Epoch 30/30\n",
      "95/95 [==============================] - ETA: 0s - loss: 0.5186 - mean_squared_error: 0.5186WARNING:tensorflow:Early stopping conditioned on metric `val_loss` which is not available. Available metrics are: loss,mean_squared_error\n",
      "95/95 [==============================] - 10s 109ms/step - loss: 0.5186 - mean_squared_error: 0.5186\n",
      "10/10 [==============================] - 0s 33ms/step\n"
     ]
    },
    {
     "data": {
      "image/png": "[encoded data removed]",
      "text/plain": [
       "<Figure size 640x480 with 1 Axes>"
      ]
     },
     "metadata": {},
     "output_type": "display_data"
    }
   ],
   "source": [
    "# THIS IS THE MODEL THAT LINH PROVIDED, CHECK HERE TO SEE IF YOUR CHANGES WORKED OR NOT\n",
    "\n",
    "def create_dfe_cnn_linh(input_shape: tuple, n_outputs: int):\n",
    "    model = Sequential()\n",
    "    model.add(\n",
    "        layers.Conv1D(\n",
    "            filters=64,\n",
    "            kernel_size=5,\n",
    "            strides=2,\n",
    "            input_shape=input_shape,\n",
    "            activation=\"relu\",\n",
    "        )\n",
    "    )\n",
    "    # model.add(layers.Dropout(0.2))\n",
    "    model.add(layers.Conv1D(filters=32, kernel_size=3, activation=\"relu\"))\n",
    "    model.add(layers.Conv1D(filters=16, kernel_size=2, strides=2, activation=\"relu\"))\n",
    "    model.add(layers.AveragePooling2D(pool_size=(20, 1)))\n",
    "    model.add(layers.AveragePooling2D(pool_size=(1, 4)))\n",
    "    model.add(layers.GlobalAveragePooling2D())\n",
    "    model.add(layers.Dense(n_outputs))\n",
    "    model.compile(optimizer=\"adam\", loss=\"mse\", metrics=[\"mean_squared_error\"])\n",
    "\n",
    "    return model, {}\n",
    "\n",
    "Linh_architecture, kwargs = create_dfe_cnn_linh(r2_varied_train_tensors.shape[1:], 3) \n",
    "\n",
    "kwargs.update(\n",
    "    x=r2_varied_train_tensors,\n",
    "    y=r2_varied_train_labels,\n",
    "    epochs=30,\n",
    ")\n",
    "\n",
    "callback = callbacks.EarlyStopping(monitor=\"val_loss\", patience=5)\n",
    "Linh_architecture.fit(**kwargs, callbacks=[callback])\n",
    "\n",
    "plot_LD_results(Linh_architecture, r2_varied_test_tensors, r2_varied_test_labels, \"../All_my_plots_not_in_my_jupyter_notebooks/r2_varying_scale_orginal_Linh_model_1_17_24\")"
   ]
  },
  {
   "cell_type": "code",
   "execution_count": 7,
   "metadata": {},
   "outputs": [
    {
     "name": "stdout",
     "output_type": "stream",
     "text": [
      "Epoch 1/30\n",
      "95/95 [==============================] - ETA: 0s - loss: 0.8867 - mean_squared_error: 0.8867WARNING:tensorflow:Early stopping conditioned on metric `val_loss` which is not available. Available metrics are: loss,mean_squared_error\n",
      "95/95 [==============================] - 14s 136ms/step - loss: 0.8867 - mean_squared_error: 0.8867\n",
      "Epoch 2/30\n",
      "95/95 [==============================] - ETA: 0s - loss: 0.6416 - mean_squared_error: 0.6416WARNING:tensorflow:Early stopping conditioned on metric `val_loss` which is not available. Available metrics are: loss,mean_squared_error\n",
      "95/95 [==============================] - 11s 118ms/step - loss: 0.6416 - mean_squared_error: 0.6416\n",
      "Epoch 3/30\n",
      "95/95 [==============================] - ETA: 0s - loss: 0.6084 - mean_squared_error: 0.6084WARNING:tensorflow:Early stopping conditioned on metric `val_loss` which is not available. Available metrics are: loss,mean_squared_error\n",
      "95/95 [==============================] - 11s 119ms/step - loss: 0.6084 - mean_squared_error: 0.6084\n",
      "Epoch 4/30\n",
      "95/95 [==============================] - ETA: 0s - loss: 0.5851 - mean_squared_error: 0.5851WARNING:tensorflow:Early stopping conditioned on metric `val_loss` which is not available. Available metrics are: loss,mean_squared_error\n",
      "95/95 [==============================] - 11s 116ms/step - loss: 0.5851 - mean_squared_error: 0.5851\n",
      "Epoch 5/30\n",
      "95/95 [==============================] - ETA: 0s - loss: 0.5813 - mean_squared_error: 0.5813WARNING:tensorflow:Early stopping conditioned on metric `val_loss` which is not available. Available metrics are: loss,mean_squared_error\n",
      "95/95 [==============================] - 11s 114ms/step - loss: 0.5813 - mean_squared_error: 0.5813\n",
      "Epoch 6/30\n",
      "95/95 [==============================] - ETA: 0s - loss: 0.5822 - mean_squared_error: 0.5822WARNING:tensorflow:Early stopping conditioned on metric `val_loss` which is not available. Available metrics are: loss,mean_squared_error\n",
      "95/95 [==============================] - 11s 118ms/step - loss: 0.5822 - mean_squared_error: 0.5822\n",
      "Epoch 7/30\n",
      "95/95 [==============================] - ETA: 0s - loss: 0.5718 - mean_squared_error: 0.5718WARNING:tensorflow:Early stopping conditioned on metric `val_loss` which is not available. Available metrics are: loss,mean_squared_error\n",
      "95/95 [==============================] - 11s 116ms/step - loss: 0.5718 - mean_squared_error: 0.5718\n",
      "Epoch 8/30\n",
      "95/95 [==============================] - ETA: 0s - loss: 0.5705 - mean_squared_error: 0.5705WARNING:tensorflow:Early stopping conditioned on metric `val_loss` which is not available. Available metrics are: loss,mean_squared_error\n",
      "95/95 [==============================] - 11s 115ms/step - loss: 0.5705 - mean_squared_error: 0.5705\n",
      "Epoch 9/30\n",
      "95/95 [==============================] - ETA: 0s - loss: 0.5724 - mean_squared_error: 0.5724WARNING:tensorflow:Early stopping conditioned on metric `val_loss` which is not available. Available metrics are: loss,mean_squared_error\n",
      "95/95 [==============================] - 11s 117ms/step - loss: 0.5724 - mean_squared_error: 0.5724\n",
      "Epoch 10/30\n",
      "95/95 [==============================] - ETA: 0s - loss: 0.5664 - mean_squared_error: 0.5664WARNING:tensorflow:Early stopping conditioned on metric `val_loss` which is not available. Available metrics are: loss,mean_squared_error\n",
      "95/95 [==============================] - 11s 113ms/step - loss: 0.5664 - mean_squared_error: 0.5664\n",
      "Epoch 11/30\n",
      "95/95 [==============================] - ETA: 0s - loss: 0.5645 - mean_squared_error: 0.5645WARNING:tensorflow:Early stopping conditioned on metric `val_loss` which is not available. Available metrics are: loss,mean_squared_error\n",
      "95/95 [==============================] - 11s 111ms/step - loss: 0.5645 - mean_squared_error: 0.5645\n",
      "Epoch 12/30\n",
      "95/95 [==============================] - ETA: 0s - loss: 0.5645 - mean_squared_error: 0.5645WARNING:tensorflow:Early stopping conditioned on metric `val_loss` which is not available. Available metrics are: loss,mean_squared_error\n",
      "95/95 [==============================] - 11s 112ms/step - loss: 0.5645 - mean_squared_error: 0.5645\n",
      "Epoch 13/30\n",
      "95/95 [==============================] - ETA: 0s - loss: 0.5589 - mean_squared_error: 0.5589WARNING:tensorflow:Early stopping conditioned on metric `val_loss` which is not available. Available metrics are: loss,mean_squared_error\n",
      "95/95 [==============================] - 11s 112ms/step - loss: 0.5589 - mean_squared_error: 0.5589\n",
      "Epoch 14/30\n",
      "95/95 [==============================] - ETA: 0s - loss: 0.5562 - mean_squared_error: 0.5562WARNING:tensorflow:Early stopping conditioned on metric `val_loss` which is not available. Available metrics are: loss,mean_squared_error\n",
      "95/95 [==============================] - 10s 110ms/step - loss: 0.5562 - mean_squared_error: 0.5562\n",
      "Epoch 15/30\n",
      "95/95 [==============================] - ETA: 0s - loss: 0.5586 - mean_squared_error: 0.5586WARNING:tensorflow:Early stopping conditioned on metric `val_loss` which is not available. Available metrics are: loss,mean_squared_error\n",
      "95/95 [==============================] - 10s 109ms/step - loss: 0.5586 - mean_squared_error: 0.5586\n",
      "Epoch 16/30\n",
      "95/95 [==============================] - ETA: 0s - loss: 0.5527 - mean_squared_error: 0.5527WARNING:tensorflow:Early stopping conditioned on metric `val_loss` which is not available. Available metrics are: loss,mean_squared_error\n",
      "95/95 [==============================] - 10s 108ms/step - loss: 0.5527 - mean_squared_error: 0.5527\n",
      "Epoch 17/30\n",
      "95/95 [==============================] - ETA: 0s - loss: 0.5521 - mean_squared_error: 0.5521WARNING:tensorflow:Early stopping conditioned on metric `val_loss` which is not available. Available metrics are: loss,mean_squared_error\n",
      "95/95 [==============================] - 10s 109ms/step - loss: 0.5521 - mean_squared_error: 0.5521\n",
      "Epoch 18/30\n",
      "95/95 [==============================] - ETA: 0s - loss: 0.5473 - mean_squared_error: 0.5473WARNING:tensorflow:Early stopping conditioned on metric `val_loss` which is not available. Available metrics are: loss,mean_squared_error\n",
      "95/95 [==============================] - 10s 106ms/step - loss: 0.5473 - mean_squared_error: 0.5473\n",
      "Epoch 19/30\n",
      "95/95 [==============================] - ETA: 0s - loss: 0.5422 - mean_squared_error: 0.5422WARNING:tensorflow:Early stopping conditioned on metric `val_loss` which is not available. Available metrics are: loss,mean_squared_error\n",
      "95/95 [==============================] - 10s 107ms/step - loss: 0.5422 - mean_squared_error: 0.5422\n",
      "Epoch 20/30\n",
      "95/95 [==============================] - ETA: 0s - loss: 0.5423 - mean_squared_error: 0.5423WARNING:tensorflow:Early stopping conditioned on metric `val_loss` which is not available. Available metrics are: loss,mean_squared_error\n",
      "95/95 [==============================] - 10s 109ms/step - loss: 0.5423 - mean_squared_error: 0.5423\n",
      "Epoch 21/30\n",
      "95/95 [==============================] - ETA: 0s - loss: 0.5389 - mean_squared_error: 0.5389WARNING:tensorflow:Early stopping conditioned on metric `val_loss` which is not available. Available metrics are: loss,mean_squared_error\n",
      "95/95 [==============================] - 10s 107ms/step - loss: 0.5389 - mean_squared_error: 0.5389\n",
      "Epoch 22/30\n",
      "95/95 [==============================] - ETA: 0s - loss: 0.5358 - mean_squared_error: 0.5358WARNING:tensorflow:Early stopping conditioned on metric `val_loss` which is not available. Available metrics are: loss,mean_squared_error\n",
      "95/95 [==============================] - 10s 105ms/step - loss: 0.5358 - mean_squared_error: 0.5358\n",
      "Epoch 23/30\n",
      "95/95 [==============================] - ETA: 0s - loss: 0.5409 - mean_squared_error: 0.5409WARNING:tensorflow:Early stopping conditioned on metric `val_loss` which is not available. Available metrics are: loss,mean_squared_error\n",
      "95/95 [==============================] - 10s 107ms/step - loss: 0.5409 - mean_squared_error: 0.5409\n",
      "Epoch 24/30\n",
      "95/95 [==============================] - ETA: 0s - loss: 0.5334 - mean_squared_error: 0.5334WARNING:tensorflow:Early stopping conditioned on metric `val_loss` which is not available. Available metrics are: loss,mean_squared_error\n",
      "95/95 [==============================] - 10s 105ms/step - loss: 0.5334 - mean_squared_error: 0.5334\n",
      "Epoch 25/30\n",
      "95/95 [==============================] - ETA: 0s - loss: 0.5284 - mean_squared_error: 0.5284WARNING:tensorflow:Early stopping conditioned on metric `val_loss` which is not available. Available metrics are: loss,mean_squared_error\n",
      "95/95 [==============================] - 10s 107ms/step - loss: 0.5284 - mean_squared_error: 0.5284\n",
      "Epoch 26/30\n",
      "95/95 [==============================] - ETA: 0s - loss: 0.5263 - mean_squared_error: 0.5263WARNING:tensorflow:Early stopping conditioned on metric `val_loss` which is not available. Available metrics are: loss,mean_squared_error\n",
      "95/95 [==============================] - 11s 111ms/step - loss: 0.5263 - mean_squared_error: 0.5263\n",
      "Epoch 27/30\n",
      "95/95 [==============================] - ETA: 0s - loss: 0.5231 - mean_squared_error: 0.5231WARNING:tensorflow:Early stopping conditioned on metric `val_loss` which is not available. Available metrics are: loss,mean_squared_error\n",
      "95/95 [==============================] - 10s 105ms/step - loss: 0.5231 - mean_squared_error: 0.5231\n",
      "Epoch 28/30\n",
      "95/95 [==============================] - ETA: 0s - loss: 0.5237 - mean_squared_error: 0.5237WARNING:tensorflow:Early stopping conditioned on metric `val_loss` which is not available. Available metrics are: loss,mean_squared_error\n",
      "95/95 [==============================] - 10s 107ms/step - loss: 0.5237 - mean_squared_error: 0.5237\n",
      "Epoch 29/30\n",
      "95/95 [==============================] - ETA: 0s - loss: 0.5177 - mean_squared_error: 0.5177WARNING:tensorflow:Early stopping conditioned on metric `val_loss` which is not available. Available metrics are: loss,mean_squared_error\n",
      "95/95 [==============================] - 10s 108ms/step - loss: 0.5177 - mean_squared_error: 0.5177\n",
      "Epoch 30/30\n",
      "95/95 [==============================] - ETA: 0s - loss: 0.5189 - mean_squared_error: 0.5189WARNING:tensorflow:Early stopping conditioned on metric `val_loss` which is not available. Available metrics are: loss,mean_squared_error\n",
      "95/95 [==============================] - 10s 105ms/step - loss: 0.5189 - mean_squared_error: 0.5189\n"
     ]
    },
    {
     "name": "stderr",
     "output_type": "stream",
     "text": [
      "2024-01-27 15:45:49.874136: I tensorflow/core/common_runtime/executor.cc:1197] [/device:CPU:0] (DEBUG INFO) Executor start aborting (this does not indicate an error and you can ignore this message): INVALID_ARGUMENT: You must feed a value for placeholder tensor 'conv1d_3_input' with dtype float and shape [?,20,300,2]\n",
      "\t [[{{node conv1d_3_input}}]]\n",
      "2024-01-27 15:45:49.950541: I tensorflow/core/common_runtime/executor.cc:1197] [/device:CPU:0] (DEBUG INFO) Executor start aborting (this does not indicate an error and you can ignore this message): INVALID_ARGUMENT: You must feed a value for placeholder tensor 'conv1d_3_input' with dtype float and shape [?,20,300,2]\n",
      "\t [[{{node conv1d_3_input}}]]\n",
      "2024-01-27 15:45:49.973002: I tensorflow/core/common_runtime/executor.cc:1197] [/device:CPU:0] (DEBUG INFO) Executor start aborting (this does not indicate an error and you can ignore this message): INVALID_ARGUMENT: You must feed a value for placeholder tensor 'inputs' with dtype float and shape [?,20,300,2]\n",
      "\t [[{{node inputs}}]]\n",
      "2024-01-27 15:45:49.994517: I tensorflow/core/common_runtime/executor.cc:1197] [/device:CPU:0] (DEBUG INFO) Executor start aborting (this does not indicate an error and you can ignore this message): INVALID_ARGUMENT: You must feed a value for placeholder tensor 'conv1d_3_input' with dtype float and shape [?,20,300,2]\n",
      "\t [[{{node conv1d_3_input}}]]\n",
      "2024-01-27 15:45:50.003996: I tensorflow/core/common_runtime/executor.cc:1197] [/device:CPU:0] (DEBUG INFO) Executor start aborting (this does not indicate an error and you can ignore this message): INVALID_ARGUMENT: You must feed a value for placeholder tensor 'inputs' with dtype float and shape [?,20,300,2]\n",
      "\t [[{{node inputs}}]]\n",
      "2024-01-27 15:45:50.025195: I tensorflow/core/common_runtime/executor.cc:1197] [/device:CPU:0] (DEBUG INFO) Executor start aborting (this does not indicate an error and you can ignore this message): INVALID_ARGUMENT: You must feed a value for placeholder tensor 'conv1d_3_input' with dtype float and shape [?,20,300,2]\n",
      "\t [[{{node conv1d_3_input}}]]\n",
      "2024-01-27 15:45:50.032115: I tensorflow/core/common_runtime/executor.cc:1197] [/device:CPU:0] (DEBUG INFO) Executor start aborting (this does not indicate an error and you can ignore this message): INVALID_ARGUMENT: You must feed a value for placeholder tensor 'inputs' with dtype float and shape [?,20,300,2]\n",
      "\t [[{{node inputs}}]]\n",
      "2024-01-27 15:45:50.038019: I tensorflow/core/common_runtime/executor.cc:1197] [/device:CPU:0] (DEBUG INFO) Executor start aborting (this does not indicate an error and you can ignore this message): INVALID_ARGUMENT: You must feed a value for placeholder tensor 'inputs' with dtype float and shape [?,20,148,64]\n",
      "\t [[{{node inputs}}]]\n",
      "2024-01-27 15:45:50.044909: I tensorflow/core/common_runtime/executor.cc:1197] [/device:CPU:0] (DEBUG INFO) Executor start aborting (this does not indicate an error and you can ignore this message): INVALID_ARGUMENT: You must feed a value for placeholder tensor 'inputs' with dtype float and shape [?,20,146,32]\n",
      "\t [[{{node inputs}}]]\n",
      "2024-01-27 15:45:50.061449: I tensorflow/core/common_runtime/executor.cc:1197] [/device:CPU:0] (DEBUG INFO) Executor start aborting (this does not indicate an error and you can ignore this message): INVALID_ARGUMENT: You must feed a value for placeholder tensor 'inputs' with dtype float and shape [?,20,300,2]\n",
      "\t [[{{node inputs}}]]\n",
      "2024-01-27 15:45:50.073265: I tensorflow/core/common_runtime/executor.cc:1197] [/device:CPU:0] (DEBUG INFO) Executor start aborting (this does not indicate an error and you can ignore this message): INVALID_ARGUMENT: You must feed a value for placeholder tensor 'inputs' with dtype float and shape [?,20,300,2]\n",
      "\t [[{{node inputs}}]]\n",
      "2024-01-27 15:45:50.163989: I tensorflow/core/common_runtime/executor.cc:1197] [/device:CPU:0] (DEBUG INFO) Executor start aborting (this does not indicate an error and you can ignore this message): INVALID_ARGUMENT: You must feed a value for placeholder tensor 'conv1d_3_input' with dtype float and shape [?,20,300,2]\n",
      "\t [[{{node conv1d_3_input}}]]\n",
      "2024-01-27 15:45:50.187303: I tensorflow/core/common_runtime/executor.cc:1197] [/device:CPU:0] (DEBUG INFO) Executor start aborting (this does not indicate an error and you can ignore this message): INVALID_ARGUMENT: You must feed a value for placeholder tensor 'inputs' with dtype float and shape [?,20,300,2]\n",
      "\t [[{{node inputs}}]]\n",
      "2024-01-27 15:45:50.197834: I tensorflow/core/common_runtime/executor.cc:1197] [/device:CPU:0] (DEBUG INFO) Executor start aborting (this does not indicate an error and you can ignore this message): INVALID_ARGUMENT: You must feed a value for placeholder tensor 'inputs' with dtype float and shape [?,20,300,2]\n",
      "\t [[{{node inputs}}]]\n",
      "2024-01-27 15:45:50.332147: I tensorflow/core/common_runtime/executor.cc:1197] [/device:CPU:0] (DEBUG INFO) Executor start aborting (this does not indicate an error and you can ignore this message): INVALID_ARGUMENT: You must feed a value for placeholder tensor 'inputs' with dtype float and shape [?,20,300,2]\n",
      "\t [[{{node inputs}}]]\n",
      "2024-01-27 15:45:50.374030: I tensorflow/core/common_runtime/executor.cc:1197] [/device:CPU:0] (DEBUG INFO) Executor start aborting (this does not indicate an error and you can ignore this message): INVALID_ARGUMENT: You must feed a value for placeholder tensor 'inputs' with dtype float and shape [?,20,148,64]\n",
      "\t [[{{node inputs}}]]\n",
      "2024-01-27 15:45:50.409620: I tensorflow/core/common_runtime/executor.cc:1197] [/device:CPU:0] (DEBUG INFO) Executor start aborting (this does not indicate an error and you can ignore this message): INVALID_ARGUMENT: You must feed a value for placeholder tensor 'inputs' with dtype float and shape [?,20,146,32]\n",
      "\t [[{{node inputs}}]]\n",
      "WARNING:absl:Found untraced functions such as _jit_compiled_convolution_op, _jit_compiled_convolution_op, _jit_compiled_convolution_op, _update_step_xla while saving (showing 4 of 4). These functions will not be directly callable after loading.\n",
      "2024-01-27 15:45:50.514134: I tensorflow/core/common_runtime/executor.cc:1197] [/device:CPU:0] (DEBUG INFO) Executor start aborting (this does not indicate an error and you can ignore this message): INVALID_ARGUMENT: You must feed a value for placeholder tensor 'serving_default_conv1d_3_input' with dtype float and shape [?,20,300,2]\n",
      "\t [[{{node serving_default_conv1d_3_input}}]]\n"
     ]
    },
    {
     "name": "stdout",
     "output_type": "stream",
     "text": [
      "INFO:tensorflow:Assets written to: ../All_my_models/r2_vary_Linh_org_model_1_27_24/assets\n"
     ]
    },
    {
     "name": "stderr",
     "output_type": "stream",
     "text": [
      "INFO:tensorflow:Assets written to: ../All_my_models/r2_vary_Linh_org_model_1_27_24/assets\n"
     ]
    }
   ],
   "source": [
    "# THIS IS THE MODEL THAT LINH PROVIDED, CHECK HERE TO SEE IF YOUR CHANGES WORKED OR NOT\n",
    "\n",
    "def create_dfe_cnn_linh(input_shape: tuple, n_outputs: int):\n",
    "    model = Sequential()\n",
    "    model.add(\n",
    "        layers.Conv1D(\n",
    "            filters=64,\n",
    "            kernel_size=5,\n",
    "            strides=2,\n",
    "            input_shape=input_shape,\n",
    "            activation=\"relu\",\n",
    "        )\n",
    "    )\n",
    "    # model.add(layers.Dropout(0.2))\n",
    "    model.add(layers.Conv1D(filters=32, kernel_size=3, activation=\"relu\"))\n",
    "    model.add(layers.Conv1D(filters=16, kernel_size=2, strides=2, activation=\"relu\"))\n",
    "    model.add(layers.AveragePooling2D(pool_size=(20, 1)))\n",
    "    model.add(layers.AveragePooling2D(pool_size=(1, 4)))\n",
    "    model.add(layers.GlobalAveragePooling2D())\n",
    "    model.add(layers.Dense(n_outputs))\n",
    "    model.compile(optimizer=\"adam\", loss=\"mse\", metrics=[\"mean_squared_error\"])\n",
    "\n",
    "    return model, {}\n",
    "\n",
    "Linh_architecture, kwargs = create_dfe_cnn_linh(r2_varied_train_tensors.shape[1:], 3) \n",
    "\n",
    "kwargs.update(\n",
    "    x=r2_varied_train_tensors,\n",
    "    y=r2_varied_train_labels,\n",
    "    epochs=30,\n",
    ")\n",
    "\n",
    "callback = callbacks.EarlyStopping(monitor=\"val_loss\", patience=5)\n",
    "Linh_architecture.fit(**kwargs, callbacks=[callback])\n",
    "Linh_architecture.save('../All_my_models/r2_vary_Linh_org_model_1_27_24')\n"
   ]
  },
  {
   "cell_type": "code",
   "execution_count": 8,
   "metadata": {},
   "outputs": [
    {
     "name": "stdout",
     "output_type": "stream",
     "text": [
      "10/10 [==============================] - 1s 71ms/step\n"
     ]
    },
    {
     "data": {
      "image/png": "[encoded data removed]",
      "text/plain": [
       "<Figure size 640x480 with 1 Axes>"
      ]
     },
     "metadata": {},
     "output_type": "display_data"
    }
   ],
   "source": [
    "plot_LD_results(Linh_architecture, r2_varied_test_scrambled_tensors, r2_varied_test_labels, '../All_plots_I_plan_to_use_for_final/r2_varied_Linh_org_graphs_for_test_scrambled_tensors')"
   ]
  },
  {
   "cell_type": "code",
   "execution_count": 9,
   "metadata": {},
   "outputs": [
    {
     "name": "stdout",
     "output_type": "stream",
     "text": [
      "10/10 [==============================] - 1s 50ms/step\n"
     ]
    },
    {
     "data": {
      "image/png": "[encoded data removed]",
      "text/plain": [
       "<Figure size 640x480 with 1 Axes>"
      ]
     },
     "metadata": {},
     "output_type": "display_data"
    }
   ],
   "source": [
    "plot_LD_results(Linh_architecture, r2_varied_test_free_scrambled_tensors, r2_varied_test_labels, '../All_plots_I_plan_to_use_for_final/r2_varied_Linh_org_graphs_for_test_free_scrambled_tensors')"
   ]
  },
  {
   "cell_type": "code",
   "execution_count": 10,
   "metadata": {},
   "outputs": [
    {
     "data": {
      "image/png": "[encoded data removed]",
      "text/plain": [
       "<Figure size 3750x250 with 1 Axes>"
      ]
     },
     "metadata": {},
     "output_type": "display_data"
    },
    {
     "data": {
      "image/png": "[encoded data removed]",
      "text/plain": [
       "<Figure size 3750x250 with 1 Axes>"
      ]
     },
     "metadata": {},
     "output_type": "display_data"
    },
    {
     "data": {
      "image/png": "[encoded data removed]",
      "text/plain": [
       "<Figure size 3750x250 with 1 Axes>"
      ]
     },
     "metadata": {},
     "output_type": "display_data"
    }
   ],
   "source": [
    "visualize_snp_tensor(r2_varied_test_tensors[0])\n",
    "visualize_snp_tensor(r2_varied_test_scrambled_tensors[0])\n",
    "visualize_snp_tensor(r2_varied_test_free_scrambled_tensors[0])"
   ]
  },
  {
   "cell_type": "code",
   "execution_count": 3,
   "metadata": {},
   "outputs": [
    {
     "data": {
      "image/png": "[encoded data removed]",
      "text/plain": [
       "<Figure size 3750x250 with 1 Axes>"
      ]
     },
     "metadata": {},
     "output_type": "display_data"
    },
    {
     "data": {
      "image/png": "[encoded data removed]",
      "text/plain": [
       "<Figure size 3750x250 with 1 Axes>"
      ]
     },
     "metadata": {},
     "output_type": "display_data"
    }
   ],
   "source": [
    "visualize_snp_tensor(r2_varied_test_partition_by_row_tensors[0])\n",
    "visualize_snp_tensor(r2_varied_test_partition_by_column_tensors[0])"
   ]
  },
  {
   "cell_type": "code",
   "execution_count": 4,
   "metadata": {},
   "outputs": [],
   "source": [
    "r2_vary_model = tf.keras.saving.load_model('../All_my_models/r2_vary_Linh_org_model_1_27_24/')"
   ]
  },
  {
   "cell_type": "code",
   "execution_count": 5,
   "metadata": {},
   "outputs": [
    {
     "name": "stdout",
     "output_type": "stream",
     "text": [
      "10/10 [==============================] - 1s 42ms/step\n",
      "10/10 [==============================] - 0s 35ms/step\n"
     ]
    },
    {
     "data": {
      "image/png": "[encoded data removed]",
      "text/plain": [
       "<Figure size 640x480 with 1 Axes>"
      ]
     },
     "metadata": {},
     "output_type": "display_data"
    }
   ],
   "source": [
    "plot_LD_results(r2_vary_model, r2_varied_test_partition_by_row_tensors, r2_varied_test_labels, \"../All_plots_I_plan_to_use_for_final/r2_varied_graphs/partition_by_row_scramble_1_28_24\")\n",
    "plot_LD_results(r2_vary_model, r2_varied_test_partition_by_column_tensors, r2_varied_test_labels, \"../All_plots_I_plan_to_use_for_final/r2_varied_graphs/partition_by_column_scramble_1_28_24\")"
   ]
  },
  {
   "cell_type": "code",
   "execution_count": 10,
   "metadata": {},
   "outputs": [
    {
     "data": {
      "text/plain": [
       "(3035, 20, 300, 2)"
      ]
     },
     "execution_count": 10,
     "metadata": {},
     "output_type": "execute_result"
    }
   ],
   "source": [
    "r2_varied_train_tensors.shape"
   ]
  },
  {
   "cell_type": "code",
   "execution_count": 30,
   "metadata": {},
   "outputs": [
    {
     "name": "stdout",
     "output_type": "stream",
     "text": [
      "Epoch 1/30\n",
      "95/95 [==============================] - ETA: 0s - loss: 0.8638 - mean_squared_error: 0.8638WARNING:tensorflow:Early stopping conditioned on metric `val_loss` which is not available. Available metrics are: loss,mean_squared_error\n"
     ]
    },
    {
     "name": "stderr",
     "output_type": "stream",
     "text": [
      "WARNING:tensorflow:Early stopping conditioned on metric `val_loss` which is not available. Available metrics are: loss,mean_squared_error\n"
     ]
    },
    {
     "name": "stdout",
     "output_type": "stream",
     "text": [
      "95/95 [==============================] - 11s 108ms/step - loss: 0.8638 - mean_squared_error: 0.8638\n",
      "Epoch 2/30\n",
      "95/95 [==============================] - ETA: 0s - loss: 0.6383 - mean_squared_error: 0.6383WARNING:tensorflow:Early stopping conditioned on metric `val_loss` which is not available. Available metrics are: loss,mean_squared_error\n"
     ]
    },
    {
     "name": "stderr",
     "output_type": "stream",
     "text": [
      "WARNING:tensorflow:Early stopping conditioned on metric `val_loss` which is not available. Available metrics are: loss,mean_squared_error\n"
     ]
    },
    {
     "name": "stdout",
     "output_type": "stream",
     "text": [
      "95/95 [==============================] - 9s 99ms/step - loss: 0.6383 - mean_squared_error: 0.6383\n",
      "Epoch 3/30\n",
      "95/95 [==============================] - ETA: 0s - loss: 0.6147 - mean_squared_error: 0.6147WARNING:tensorflow:Early stopping conditioned on metric `val_loss` which is not available. Available metrics are: loss,mean_squared_error\n"
     ]
    },
    {
     "name": "stderr",
     "output_type": "stream",
     "text": [
      "WARNING:tensorflow:Early stopping conditioned on metric `val_loss` which is not available. Available metrics are: loss,mean_squared_error\n"
     ]
    },
    {
     "name": "stdout",
     "output_type": "stream",
     "text": [
      "95/95 [==============================] - 9s 96ms/step - loss: 0.6147 - mean_squared_error: 0.6147\n",
      "Epoch 4/30\n",
      "95/95 [==============================] - ETA: 0s - loss: 0.5945 - mean_squared_error: 0.5945WARNING:tensorflow:Early stopping conditioned on metric `val_loss` which is not available. Available metrics are: loss,mean_squared_error\n"
     ]
    },
    {
     "name": "stderr",
     "output_type": "stream",
     "text": [
      "WARNING:tensorflow:Early stopping conditioned on metric `val_loss` which is not available. Available metrics are: loss,mean_squared_error\n"
     ]
    },
    {
     "name": "stdout",
     "output_type": "stream",
     "text": [
      "95/95 [==============================] - 9s 99ms/step - loss: 0.5945 - mean_squared_error: 0.5945\n",
      "Epoch 5/30\n",
      "95/95 [==============================] - ETA: 0s - loss: 0.5860 - mean_squared_error: 0.5860WARNING:tensorflow:Early stopping conditioned on metric `val_loss` which is not available. Available metrics are: loss,mean_squared_error\n"
     ]
    },
    {
     "name": "stderr",
     "output_type": "stream",
     "text": [
      "WARNING:tensorflow:Early stopping conditioned on metric `val_loss` which is not available. Available metrics are: loss,mean_squared_error\n"
     ]
    },
    {
     "name": "stdout",
     "output_type": "stream",
     "text": [
      "95/95 [==============================] - 9s 99ms/step - loss: 0.5860 - mean_squared_error: 0.5860\n",
      "Epoch 6/30\n",
      "95/95 [==============================] - ETA: 0s - loss: 0.5790 - mean_squared_error: 0.5790WARNING:tensorflow:Early stopping conditioned on metric `val_loss` which is not available. Available metrics are: loss,mean_squared_error\n"
     ]
    },
    {
     "name": "stderr",
     "output_type": "stream",
     "text": [
      "WARNING:tensorflow:Early stopping conditioned on metric `val_loss` which is not available. Available metrics are: loss,mean_squared_error\n"
     ]
    },
    {
     "name": "stdout",
     "output_type": "stream",
     "text": [
      "95/95 [==============================] - 9s 97ms/step - loss: 0.5790 - mean_squared_error: 0.5790\n",
      "Epoch 7/30\n",
      "95/95 [==============================] - ETA: 0s - loss: 0.5803 - mean_squared_error: 0.5803WARNING:tensorflow:Early stopping conditioned on metric `val_loss` which is not available. Available metrics are: loss,mean_squared_error\n"
     ]
    },
    {
     "name": "stderr",
     "output_type": "stream",
     "text": [
      "WARNING:tensorflow:Early stopping conditioned on metric `val_loss` which is not available. Available metrics are: loss,mean_squared_error\n"
     ]
    },
    {
     "name": "stdout",
     "output_type": "stream",
     "text": [
      "95/95 [==============================] - 9s 94ms/step - loss: 0.5803 - mean_squared_error: 0.5803\n",
      "Epoch 8/30\n",
      "95/95 [==============================] - ETA: 0s - loss: 0.5770 - mean_squared_error: 0.5770WARNING:tensorflow:Early stopping conditioned on metric `val_loss` which is not available. Available metrics are: loss,mean_squared_error\n"
     ]
    },
    {
     "name": "stderr",
     "output_type": "stream",
     "text": [
      "WARNING:tensorflow:Early stopping conditioned on metric `val_loss` which is not available. Available metrics are: loss,mean_squared_error\n"
     ]
    },
    {
     "name": "stdout",
     "output_type": "stream",
     "text": [
      "95/95 [==============================] - 9s 94ms/step - loss: 0.5770 - mean_squared_error: 0.5770\n",
      "Epoch 9/30\n",
      "95/95 [==============================] - ETA: 0s - loss: 0.5764 - mean_squared_error: 0.5764WARNING:tensorflow:Early stopping conditioned on metric `val_loss` which is not available. Available metrics are: loss,mean_squared_error\n"
     ]
    },
    {
     "name": "stderr",
     "output_type": "stream",
     "text": [
      "WARNING:tensorflow:Early stopping conditioned on metric `val_loss` which is not available. Available metrics are: loss,mean_squared_error\n"
     ]
    },
    {
     "name": "stdout",
     "output_type": "stream",
     "text": [
      "95/95 [==============================] - 9s 93ms/step - loss: 0.5764 - mean_squared_error: 0.5764\n",
      "Epoch 10/30\n",
      "95/95 [==============================] - ETA: 0s - loss: 0.5672 - mean_squared_error: 0.5672WARNING:tensorflow:Early stopping conditioned on metric `val_loss` which is not available. Available metrics are: loss,mean_squared_error\n"
     ]
    },
    {
     "name": "stderr",
     "output_type": "stream",
     "text": [
      "WARNING:tensorflow:Early stopping conditioned on metric `val_loss` which is not available. Available metrics are: loss,mean_squared_error\n"
     ]
    },
    {
     "name": "stdout",
     "output_type": "stream",
     "text": [
      "95/95 [==============================] - 9s 96ms/step - loss: 0.5672 - mean_squared_error: 0.5672\n",
      "Epoch 11/30\n",
      "95/95 [==============================] - ETA: 0s - loss: 0.5649 - mean_squared_error: 0.5649WARNING:tensorflow:Early stopping conditioned on metric `val_loss` which is not available. Available metrics are: loss,mean_squared_error\n"
     ]
    },
    {
     "name": "stderr",
     "output_type": "stream",
     "text": [
      "WARNING:tensorflow:Early stopping conditioned on metric `val_loss` which is not available. Available metrics are: loss,mean_squared_error\n"
     ]
    },
    {
     "name": "stdout",
     "output_type": "stream",
     "text": [
      "95/95 [==============================] - 9s 96ms/step - loss: 0.5649 - mean_squared_error: 0.5649\n",
      "Epoch 12/30\n",
      "95/95 [==============================] - ETA: 0s - loss: 0.5669 - mean_squared_error: 0.5669WARNING:tensorflow:Early stopping conditioned on metric `val_loss` which is not available. Available metrics are: loss,mean_squared_error\n"
     ]
    },
    {
     "name": "stderr",
     "output_type": "stream",
     "text": [
      "WARNING:tensorflow:Early stopping conditioned on metric `val_loss` which is not available. Available metrics are: loss,mean_squared_error\n"
     ]
    },
    {
     "name": "stdout",
     "output_type": "stream",
     "text": [
      "95/95 [==============================] - 9s 97ms/step - loss: 0.5669 - mean_squared_error: 0.5669\n",
      "Epoch 13/30\n",
      "95/95 [==============================] - ETA: 0s - loss: 0.5575 - mean_squared_error: 0.5575WARNING:tensorflow:Early stopping conditioned on metric `val_loss` which is not available. Available metrics are: loss,mean_squared_error\n"
     ]
    },
    {
     "name": "stderr",
     "output_type": "stream",
     "text": [
      "WARNING:tensorflow:Early stopping conditioned on metric `val_loss` which is not available. Available metrics are: loss,mean_squared_error\n"
     ]
    },
    {
     "name": "stdout",
     "output_type": "stream",
     "text": [
      "95/95 [==============================] - 9s 95ms/step - loss: 0.5575 - mean_squared_error: 0.5575\n",
      "Epoch 14/30\n",
      "95/95 [==============================] - ETA: 0s - loss: 0.5508 - mean_squared_error: 0.5508WARNING:tensorflow:Early stopping conditioned on metric `val_loss` which is not available. Available metrics are: loss,mean_squared_error\n"
     ]
    },
    {
     "name": "stderr",
     "output_type": "stream",
     "text": [
      "WARNING:tensorflow:Early stopping conditioned on metric `val_loss` which is not available. Available metrics are: loss,mean_squared_error\n"
     ]
    },
    {
     "name": "stdout",
     "output_type": "stream",
     "text": [
      "95/95 [==============================] - 10s 101ms/step - loss: 0.5508 - mean_squared_error: 0.5508\n",
      "Epoch 15/30\n",
      "95/95 [==============================] - ETA: 0s - loss: 0.5484 - mean_squared_error: 0.5484WARNING:tensorflow:Early stopping conditioned on metric `val_loss` which is not available. Available metrics are: loss,mean_squared_error\n"
     ]
    },
    {
     "name": "stderr",
     "output_type": "stream",
     "text": [
      "WARNING:tensorflow:Early stopping conditioned on metric `val_loss` which is not available. Available metrics are: loss,mean_squared_error\n"
     ]
    },
    {
     "name": "stdout",
     "output_type": "stream",
     "text": [
      "95/95 [==============================] - 9s 97ms/step - loss: 0.5484 - mean_squared_error: 0.5484\n",
      "Epoch 16/30\n",
      "95/95 [==============================] - ETA: 0s - loss: 0.5462 - mean_squared_error: 0.5462WARNING:tensorflow:Early stopping conditioned on metric `val_loss` which is not available. Available metrics are: loss,mean_squared_error\n"
     ]
    },
    {
     "name": "stderr",
     "output_type": "stream",
     "text": [
      "WARNING:tensorflow:Early stopping conditioned on metric `val_loss` which is not available. Available metrics are: loss,mean_squared_error\n"
     ]
    },
    {
     "name": "stdout",
     "output_type": "stream",
     "text": [
      "95/95 [==============================] - 9s 98ms/step - loss: 0.5462 - mean_squared_error: 0.5462\n",
      "Epoch 17/30\n",
      "95/95 [==============================] - ETA: 0s - loss: 0.5451 - mean_squared_error: 0.5451WARNING:tensorflow:Early stopping conditioned on metric `val_loss` which is not available. Available metrics are: loss,mean_squared_error\n"
     ]
    },
    {
     "name": "stderr",
     "output_type": "stream",
     "text": [
      "WARNING:tensorflow:Early stopping conditioned on metric `val_loss` which is not available. Available metrics are: loss,mean_squared_error\n"
     ]
    },
    {
     "name": "stdout",
     "output_type": "stream",
     "text": [
      "95/95 [==============================] - 9s 96ms/step - loss: 0.5451 - mean_squared_error: 0.5451\n",
      "Epoch 18/30\n",
      "95/95 [==============================] - ETA: 0s - loss: 0.5386 - mean_squared_error: 0.5386WARNING:tensorflow:Early stopping conditioned on metric `val_loss` which is not available. Available metrics are: loss,mean_squared_error\n"
     ]
    },
    {
     "name": "stderr",
     "output_type": "stream",
     "text": [
      "WARNING:tensorflow:Early stopping conditioned on metric `val_loss` which is not available. Available metrics are: loss,mean_squared_error\n"
     ]
    },
    {
     "name": "stdout",
     "output_type": "stream",
     "text": [
      "95/95 [==============================] - 9s 95ms/step - loss: 0.5386 - mean_squared_error: 0.5386\n",
      "Epoch 19/30\n",
      "95/95 [==============================] - ETA: 0s - loss: 0.5370 - mean_squared_error: 0.5370WARNING:tensorflow:Early stopping conditioned on metric `val_loss` which is not available. Available metrics are: loss,mean_squared_error\n"
     ]
    },
    {
     "name": "stderr",
     "output_type": "stream",
     "text": [
      "WARNING:tensorflow:Early stopping conditioned on metric `val_loss` which is not available. Available metrics are: loss,mean_squared_error\n"
     ]
    },
    {
     "name": "stdout",
     "output_type": "stream",
     "text": [
      "95/95 [==============================] - 9s 96ms/step - loss: 0.5370 - mean_squared_error: 0.5370\n",
      "Epoch 20/30\n",
      "95/95 [==============================] - ETA: 0s - loss: 0.5331 - mean_squared_error: 0.5331WARNING:tensorflow:Early stopping conditioned on metric `val_loss` which is not available. Available metrics are: loss,mean_squared_error\n"
     ]
    },
    {
     "name": "stderr",
     "output_type": "stream",
     "text": [
      "WARNING:tensorflow:Early stopping conditioned on metric `val_loss` which is not available. Available metrics are: loss,mean_squared_error\n"
     ]
    },
    {
     "name": "stdout",
     "output_type": "stream",
     "text": [
      "95/95 [==============================] - 9s 95ms/step - loss: 0.5331 - mean_squared_error: 0.5331\n",
      "Epoch 21/30\n",
      "95/95 [==============================] - ETA: 0s - loss: 0.5300 - mean_squared_error: 0.5300WARNING:tensorflow:Early stopping conditioned on metric `val_loss` which is not available. Available metrics are: loss,mean_squared_error\n"
     ]
    },
    {
     "name": "stderr",
     "output_type": "stream",
     "text": [
      "WARNING:tensorflow:Early stopping conditioned on metric `val_loss` which is not available. Available metrics are: loss,mean_squared_error\n"
     ]
    },
    {
     "name": "stdout",
     "output_type": "stream",
     "text": [
      "95/95 [==============================] - 9s 98ms/step - loss: 0.5300 - mean_squared_error: 0.5300\n",
      "Epoch 22/30\n",
      "95/95 [==============================] - ETA: 0s - loss: 0.5323 - mean_squared_error: 0.5323WARNING:tensorflow:Early stopping conditioned on metric `val_loss` which is not available. Available metrics are: loss,mean_squared_error\n"
     ]
    },
    {
     "name": "stderr",
     "output_type": "stream",
     "text": [
      "WARNING:tensorflow:Early stopping conditioned on metric `val_loss` which is not available. Available metrics are: loss,mean_squared_error\n"
     ]
    },
    {
     "name": "stdout",
     "output_type": "stream",
     "text": [
      "95/95 [==============================] - 9s 95ms/step - loss: 0.5323 - mean_squared_error: 0.5323\n",
      "Epoch 23/30\n",
      "95/95 [==============================] - ETA: 0s - loss: 0.5238 - mean_squared_error: 0.5238WARNING:tensorflow:Early stopping conditioned on metric `val_loss` which is not available. Available metrics are: loss,mean_squared_error\n"
     ]
    },
    {
     "name": "stderr",
     "output_type": "stream",
     "text": [
      "WARNING:tensorflow:Early stopping conditioned on metric `val_loss` which is not available. Available metrics are: loss,mean_squared_error\n"
     ]
    },
    {
     "name": "stdout",
     "output_type": "stream",
     "text": [
      "95/95 [==============================] - 9s 95ms/step - loss: 0.5238 - mean_squared_error: 0.5238\n",
      "Epoch 24/30\n",
      "95/95 [==============================] - ETA: 0s - loss: 0.5201 - mean_squared_error: 0.5201WARNING:tensorflow:Early stopping conditioned on metric `val_loss` which is not available. Available metrics are: loss,mean_squared_error\n"
     ]
    },
    {
     "name": "stderr",
     "output_type": "stream",
     "text": [
      "WARNING:tensorflow:Early stopping conditioned on metric `val_loss` which is not available. Available metrics are: loss,mean_squared_error\n"
     ]
    },
    {
     "name": "stdout",
     "output_type": "stream",
     "text": [
      "95/95 [==============================] - 9s 95ms/step - loss: 0.5201 - mean_squared_error: 0.5201\n",
      "Epoch 25/30\n",
      "95/95 [==============================] - ETA: 0s - loss: 0.5169 - mean_squared_error: 0.5169WARNING:tensorflow:Early stopping conditioned on metric `val_loss` which is not available. Available metrics are: loss,mean_squared_error\n"
     ]
    },
    {
     "name": "stderr",
     "output_type": "stream",
     "text": [
      "WARNING:tensorflow:Early stopping conditioned on metric `val_loss` which is not available. Available metrics are: loss,mean_squared_error\n"
     ]
    },
    {
     "name": "stdout",
     "output_type": "stream",
     "text": [
      "95/95 [==============================] - 9s 98ms/step - loss: 0.5169 - mean_squared_error: 0.5169\n",
      "Epoch 26/30\n",
      "95/95 [==============================] - ETA: 0s - loss: 0.5110 - mean_squared_error: 0.5110WARNING:tensorflow:Early stopping conditioned on metric `val_loss` which is not available. Available metrics are: loss,mean_squared_error\n"
     ]
    },
    {
     "name": "stderr",
     "output_type": "stream",
     "text": [
      "WARNING:tensorflow:Early stopping conditioned on metric `val_loss` which is not available. Available metrics are: loss,mean_squared_error\n"
     ]
    },
    {
     "name": "stdout",
     "output_type": "stream",
     "text": [
      "95/95 [==============================] - 10s 101ms/step - loss: 0.5110 - mean_squared_error: 0.5110\n",
      "Epoch 27/30\n",
      "95/95 [==============================] - ETA: 0s - loss: 0.5094 - mean_squared_error: 0.5094WARNING:tensorflow:Early stopping conditioned on metric `val_loss` which is not available. Available metrics are: loss,mean_squared_error\n"
     ]
    },
    {
     "name": "stderr",
     "output_type": "stream",
     "text": [
      "WARNING:tensorflow:Early stopping conditioned on metric `val_loss` which is not available. Available metrics are: loss,mean_squared_error\n"
     ]
    },
    {
     "name": "stdout",
     "output_type": "stream",
     "text": [
      "95/95 [==============================] - 10s 105ms/step - loss: 0.5094 - mean_squared_error: 0.5094\n",
      "Epoch 28/30\n",
      "95/95 [==============================] - ETA: 0s - loss: 0.5074 - mean_squared_error: 0.5074WARNING:tensorflow:Early stopping conditioned on metric `val_loss` which is not available. Available metrics are: loss,mean_squared_error\n"
     ]
    },
    {
     "name": "stderr",
     "output_type": "stream",
     "text": [
      "WARNING:tensorflow:Early stopping conditioned on metric `val_loss` which is not available. Available metrics are: loss,mean_squared_error\n"
     ]
    },
    {
     "name": "stdout",
     "output_type": "stream",
     "text": [
      "95/95 [==============================] - 10s 107ms/step - loss: 0.5074 - mean_squared_error: 0.5074\n",
      "Epoch 29/30\n",
      "95/95 [==============================] - ETA: 0s - loss: 0.4990 - mean_squared_error: 0.4990WARNING:tensorflow:Early stopping conditioned on metric `val_loss` which is not available. Available metrics are: loss,mean_squared_error\n"
     ]
    },
    {
     "name": "stderr",
     "output_type": "stream",
     "text": [
      "WARNING:tensorflow:Early stopping conditioned on metric `val_loss` which is not available. Available metrics are: loss,mean_squared_error\n"
     ]
    },
    {
     "name": "stdout",
     "output_type": "stream",
     "text": [
      "95/95 [==============================] - 10s 104ms/step - loss: 0.4990 - mean_squared_error: 0.4990\n",
      "Epoch 30/30\n",
      "95/95 [==============================] - ETA: 0s - loss: 0.4977 - mean_squared_error: 0.4977WARNING:tensorflow:Early stopping conditioned on metric `val_loss` which is not available. Available metrics are: loss,mean_squared_error\n"
     ]
    },
    {
     "name": "stderr",
     "output_type": "stream",
     "text": [
      "WARNING:tensorflow:Early stopping conditioned on metric `val_loss` which is not available. Available metrics are: loss,mean_squared_error\n"
     ]
    },
    {
     "name": "stdout",
     "output_type": "stream",
     "text": [
      "95/95 [==============================] - 10s 104ms/step - loss: 0.4977 - mean_squared_error: 0.4977\n"
     ]
    },
    {
     "data": {
      "text/plain": [
       "<keras.callbacks.History at 0x7fe60c17ba10>"
      ]
     },
     "execution_count": 30,
     "metadata": {},
     "output_type": "execute_result"
    }
   ],
   "source": [
    "# New changes to the r^2 CNN 2/6/24\n",
    "def create_dfe_cnn_r2(input_shape: tuple, n_outputs: int):\n",
    "    model = Sequential()\n",
    "    model.add(\n",
    "        layers.Conv1D(\n",
    "            filters=64,\n",
    "            kernel_size=5,\n",
    "            strides=2,\n",
    "            input_shape=input_shape,\n",
    "            activation=\"relu\",\n",
    "        )\n",
    "    )\n",
    "    # model.add(layers.Dropout(0.2))\n",
    "    model.add(layers.Conv1D(filters=32, kernel_size=3, activation=\"relu\")) # Kernel size refers to the size of the filter\n",
    "    model.add(layers.Conv1D(filters=16, kernel_size=2, strides=2, activation=\"relu\")) \n",
    "    model.add(layers.AveragePooling2D(pool_size=(20, 4))) # Maybe increasing the pool layer size can help decrease the resolution for the CNN, causing it to focus on bigger trends in the data?\n",
    "    ''' Converts ouput of conv layer into a smaller matrix and the numbers of that matrix depend on if its taking the average of the region with a 2x2 Filter size with stride = 2 (How much the filter moves over after finishing a region).\n",
    "     Allows the CNN to look at larger areas of the image since the resolution is less the kinda proportionally the image is smaller. Helps reduce overfitting as parameters in CNN decrease\n",
    "    after this. The size of the filter is the pool size.\n",
    "    '''\n",
    "    model.add(layers.AveragePooling2D(pool_size=(1, 4)))\n",
    "    model.add(layers.GlobalAveragePooling2D()) # Ask Linh about these pooling layers\n",
    "    model.add(layers.Dense(n_outputs))\n",
    "    model.compile(optimizer=\"adam\", loss=\"mse\", metrics=[\"mean_squared_error\"])\n",
    "\n",
    "    return model, {}\n",
    "\n",
    "r2_vary_model, kwargs = create_dfe_cnn_r2(r2_varied_train_tensors.shape[1:], 3) \n",
    "\n",
    "kwargs.update(\n",
    "    x=r2_varied_train_tensors,\n",
    "    y=r2_varied_train_labels,\n",
    "    epochs=30,\n",
    ")\n",
    "\n",
    "callback = callbacks.EarlyStopping(monitor=\"val_loss\", patience=5)\n",
    "r2_vary_model.fit(**kwargs, callbacks=[callback])\n",
    "\n",
    "# r2_vary_model.summary()"
   ]
  },
  {
   "cell_type": "code",
   "execution_count": 31,
   "metadata": {},
   "outputs": [
    {
     "name": "stderr",
     "output_type": "stream",
     "text": [
      "2024-02-07 13:57:42.414700: I tensorflow/core/common_runtime/executor.cc:1197] [/device:CPU:0] (DEBUG INFO) Executor start aborting (this does not indicate an error and you can ignore this message): INVALID_ARGUMENT: You must feed a value for placeholder tensor 'conv1d_45_input' with dtype float and shape [?,20,300,2]\n",
      "\t [[{{node conv1d_45_input}}]]\n",
      "2024-02-07 13:57:42.561897: I tensorflow/core/common_runtime/executor.cc:1197] [/device:CPU:0] (DEBUG INFO) Executor start aborting (this does not indicate an error and you can ignore this message): INVALID_ARGUMENT: You must feed a value for placeholder tensor 'conv1d_45_input' with dtype float and shape [?,20,300,2]\n",
      "\t [[{{node conv1d_45_input}}]]\n",
      "2024-02-07 13:57:42.587706: I tensorflow/core/common_runtime/executor.cc:1197] [/device:CPU:0] (DEBUG INFO) Executor start aborting (this does not indicate an error and you can ignore this message): INVALID_ARGUMENT: You must feed a value for placeholder tensor 'inputs' with dtype float and shape [?,20,300,2]\n",
      "\t [[{{node inputs}}]]\n",
      "2024-02-07 13:57:42.614577: I tensorflow/core/common_runtime/executor.cc:1197] [/device:CPU:0] (DEBUG INFO) Executor start aborting (this does not indicate an error and you can ignore this message): INVALID_ARGUMENT: You must feed a value for placeholder tensor 'conv1d_45_input' with dtype float and shape [?,20,300,2]\n",
      "\t [[{{node conv1d_45_input}}]]\n",
      "2024-02-07 13:57:42.631059: I tensorflow/core/common_runtime/executor.cc:1197] [/device:CPU:0] (DEBUG INFO) Executor start aborting (this does not indicate an error and you can ignore this message): INVALID_ARGUMENT: You must feed a value for placeholder tensor 'inputs' with dtype float and shape [?,20,300,2]\n",
      "\t [[{{node inputs}}]]\n",
      "2024-02-07 13:57:42.670205: I tensorflow/core/common_runtime/executor.cc:1197] [/device:CPU:0] (DEBUG INFO) Executor start aborting (this does not indicate an error and you can ignore this message): INVALID_ARGUMENT: You must feed a value for placeholder tensor 'conv1d_45_input' with dtype float and shape [?,20,300,2]\n",
      "\t [[{{node conv1d_45_input}}]]\n",
      "2024-02-07 13:57:42.679371: I tensorflow/core/common_runtime/executor.cc:1197] [/device:CPU:0] (DEBUG INFO) Executor start aborting (this does not indicate an error and you can ignore this message): INVALID_ARGUMENT: You must feed a value for placeholder tensor 'inputs' with dtype float and shape [?,20,300,2]\n",
      "\t [[{{node inputs}}]]\n",
      "2024-02-07 13:57:42.688009: I tensorflow/core/common_runtime/executor.cc:1197] [/device:CPU:0] (DEBUG INFO) Executor start aborting (this does not indicate an error and you can ignore this message): INVALID_ARGUMENT: You must feed a value for placeholder tensor 'inputs' with dtype float and shape [?,20,148,64]\n",
      "\t [[{{node inputs}}]]\n",
      "2024-02-07 13:57:42.701108: I tensorflow/core/common_runtime/executor.cc:1197] [/device:CPU:0] (DEBUG INFO) Executor start aborting (this does not indicate an error and you can ignore this message): INVALID_ARGUMENT: You must feed a value for placeholder tensor 'inputs' with dtype float and shape [?,20,146,32]\n",
      "\t [[{{node inputs}}]]\n",
      "2024-02-07 13:57:42.725240: I tensorflow/core/common_runtime/executor.cc:1197] [/device:CPU:0] (DEBUG INFO) Executor start aborting (this does not indicate an error and you can ignore this message): INVALID_ARGUMENT: You must feed a value for placeholder tensor 'inputs' with dtype float and shape [?,20,300,2]\n",
      "\t [[{{node inputs}}]]\n",
      "2024-02-07 13:57:42.741319: I tensorflow/core/common_runtime/executor.cc:1197] [/device:CPU:0] (DEBUG INFO) Executor start aborting (this does not indicate an error and you can ignore this message): INVALID_ARGUMENT: You must feed a value for placeholder tensor 'inputs' with dtype float and shape [?,20,300,2]\n",
      "\t [[{{node inputs}}]]\n",
      "2024-02-07 13:57:42.773016: I tensorflow/core/common_runtime/executor.cc:1197] [/device:CPU:0] (DEBUG INFO) Executor start aborting (this does not indicate an error and you can ignore this message): INVALID_ARGUMENT: You must feed a value for placeholder tensor 'conv1d_45_input' with dtype float and shape [?,20,300,2]\n",
      "\t [[{{node conv1d_45_input}}]]\n",
      "2024-02-07 13:57:42.798432: I tensorflow/core/common_runtime/executor.cc:1197] [/device:CPU:0] (DEBUG INFO) Executor start aborting (this does not indicate an error and you can ignore this message): INVALID_ARGUMENT: You must feed a value for placeholder tensor 'inputs' with dtype float and shape [?,20,300,2]\n",
      "\t [[{{node inputs}}]]\n",
      "2024-02-07 13:57:42.810565: I tensorflow/core/common_runtime/executor.cc:1197] [/device:CPU:0] (DEBUG INFO) Executor start aborting (this does not indicate an error and you can ignore this message): INVALID_ARGUMENT: You must feed a value for placeholder tensor 'inputs' with dtype float and shape [?,20,300,2]\n",
      "\t [[{{node inputs}}]]\n",
      "2024-02-07 13:57:42.994443: I tensorflow/core/common_runtime/executor.cc:1197] [/device:CPU:0] (DEBUG INFO) Executor start aborting (this does not indicate an error and you can ignore this message): INVALID_ARGUMENT: You must feed a value for placeholder tensor 'inputs' with dtype float and shape [?,20,300,2]\n",
      "\t [[{{node inputs}}]]\n",
      "2024-02-07 13:57:43.024815: I tensorflow/core/common_runtime/executor.cc:1197] [/device:CPU:0] (DEBUG INFO) Executor start aborting (this does not indicate an error and you can ignore this message): INVALID_ARGUMENT: You must feed a value for placeholder tensor 'inputs' with dtype float and shape [?,20,148,64]\n",
      "\t [[{{node inputs}}]]\n",
      "2024-02-07 13:57:43.056263: I tensorflow/core/common_runtime/executor.cc:1197] [/device:CPU:0] (DEBUG INFO) Executor start aborting (this does not indicate an error and you can ignore this message): INVALID_ARGUMENT: You must feed a value for placeholder tensor 'inputs' with dtype float and shape [?,20,146,32]\n",
      "\t [[{{node inputs}}]]\n",
      "WARNING:absl:Found untraced functions such as _jit_compiled_convolution_op, _jit_compiled_convolution_op, _jit_compiled_convolution_op, _update_step_xla while saving (showing 4 of 4). These functions will not be directly callable after loading.\n",
      "2024-02-07 13:57:43.197350: I tensorflow/core/common_runtime/executor.cc:1197] [/device:CPU:0] (DEBUG INFO) Executor start aborting (this does not indicate an error and you can ignore this message): INVALID_ARGUMENT: You must feed a value for placeholder tensor 'serving_default_conv1d_45_input' with dtype float and shape [?,20,300,2]\n",
      "\t [[{{node serving_default_conv1d_45_input}}]]\n"
     ]
    },
    {
     "name": "stdout",
     "output_type": "stream",
     "text": [
      "INFO:tensorflow:Assets written to: ../All_my_models/r2_vary_model_downsize_pool_layer_2_7_24/assets\n"
     ]
    },
    {
     "name": "stderr",
     "output_type": "stream",
     "text": [
      "INFO:tensorflow:Assets written to: ../All_my_models/r2_vary_model_downsize_pool_layer_2_7_24/assets\n"
     ]
    }
   ],
   "source": [
    "r2_vary_model.save(\"../All_my_models/r2_vary_model_downsize_pool_layer_2_7_24\")"
   ]
  },
  {
   "cell_type": "code",
   "execution_count": 32,
   "metadata": {},
   "outputs": [
    {
     "name": "stdout",
     "output_type": "stream",
     "text": [
      "10/10 [==============================] - 1s 47ms/step\n"
     ]
    },
    {
     "data": {
      "image/png": "[encoded data removed]",
      "text/plain": [
       "<Figure size 640x480 with 1 Axes>"
      ]
     },
     "metadata": {},
     "output_type": "display_data"
    }
   ],
   "source": [
    "# 2/6/24\n",
    "plot_LD_results(r2_vary_model, r2_varied_test_tensors, r2_varied_test_labels, \"../Downsizing_pooling_layer_r2_vary_change_2_6_24\")"
   ]
  },
  {
   "cell_type": "code",
   "execution_count": 28,
   "metadata": {},
   "outputs": [
    {
     "name": "stdout",
     "output_type": "stream",
     "text": [
      "Model: \"sequential_14\"\n",
      "_________________________________________________________________\n",
      " Layer (type)                Output Shape              Param #   \n",
      "=================================================================\n",
      " conv1d_42 (Conv1D)          (None, 20, 148, 64)       704       \n",
      "                                                                 \n",
      " conv1d_43 (Conv1D)          (None, 20, 146, 32)       6176      \n",
      "                                                                 \n",
      " conv1d_44 (Conv1D)          (None, 20, 73, 16)        1040      \n",
      "                                                                 \n",
      " average_pooling2d_27 (Avera  (None, 1, 18, 16)        0         \n",
      " gePooling2D)                                                    \n",
      "                                                                 \n",
      " average_pooling2d_28 (Avera  (None, 1, 4, 16)         0         \n",
      " gePooling2D)                                                    \n",
      "                                                                 \n",
      " global_average_pooling2d_13  (None, 16)               0         \n",
      "  (GlobalAveragePooling2D)                                       \n",
      "                                                                 \n",
      " dense_13 (Dense)            (None, 3)                 51        \n",
      "                                                                 \n",
      "=================================================================\n",
      "Total params: 7,971\n",
      "Trainable params: 7,971\n",
      "Non-trainable params: 0\n",
      "_________________________________________________________________\n"
     ]
    }
   ],
   "source": [
    "r2_vary_model.summary()"
   ]
  },
  {
   "cell_type": "code",
   "execution_count": 33,
   "metadata": {},
   "outputs": [
    {
     "name": "stdout",
     "output_type": "stream",
     "text": [
      "10/10 [==============================] - 0s 40ms/step\n"
     ]
    },
    {
     "data": {
      "image/png": "[encoded data removed]",
      "text/plain": [
       "<Figure size 640x480 with 1 Axes>"
      ]
     },
     "metadata": {},
     "output_type": "display_data"
    }
   ],
   "source": [
    "# r2_vary_model.save(\"../All_my_models/r2_vary_model_pool_layer_shrink_2_7_24\")\n",
    "# 2/7/24\n",
    "plot_LD_results(r2_vary_model, r2_varied_test_free_scrambled_tensors, r2_varied_test_labels, \"../Downsize_pool_layer_free_test_2_7_24\")"
   ]
  },
  {
   "cell_type": "code",
   "execution_count": 35,
   "metadata": {},
   "outputs": [
    {
     "name": "stdout",
     "output_type": "stream",
     "text": [
      "Model: \"sequential_17\"\n",
      "_________________________________________________________________\n",
      " Layer (type)                Output Shape              Param #   \n",
      "=================================================================\n",
      " conv1d_51 (Conv1D)          (None, 20, 148, 64)       704       \n",
      "                                                                 \n",
      " conv1d_52 (Conv1D)          (None, 20, 146, 32)       6176      \n",
      "                                                                 \n",
      " conv1d_53 (Conv1D)          (None, 20, 73, 16)        1040      \n",
      "                                                                 \n",
      " average_pooling2d_31 (Avera  (None, 1, 73, 16)        0         \n",
      " gePooling2D)                                                    \n",
      "                                                                 \n",
      " average_pooling2d_32 (Avera  (None, 1, 18, 16)        0         \n",
      " gePooling2D)                                                    \n",
      "                                                                 \n",
      " global_average_pooling2d_15  (None, 16)               0         \n",
      "  (GlobalAveragePooling2D)                                       \n",
      "                                                                 \n",
      " dense_15 (Dense)            (None, 3)                 51        \n",
      "                                                                 \n",
      "=================================================================\n",
      "Total params: 7,971\n",
      "Trainable params: 7,971\n",
      "Non-trainable params: 0\n",
      "_________________________________________________________________\n"
     ]
    }
   ],
   "source": [
    "# New changes to the r^2 CNN 2/7/24\n",
    "def create_dfe_cnn_r2_layer(input_shape: tuple, n_outputs: int):\n",
    "    model = Sequential()\n",
    "    model.add(\n",
    "        layers.Conv1D(\n",
    "            filters=64,\n",
    "            kernel_size=5,\n",
    "            strides=2,\n",
    "            input_shape=input_shape,\n",
    "            activation=\"relu\",\n",
    "        )\n",
    "    )\n",
    "    # model.add(layers.Dropout(0.2))\n",
    "    model.add(layers.Conv1D(filters=32, kernel_size=3, activation=\"relu\")) # Kernel size refers to the size of the filter\n",
    "    model.add(layers.Conv1D(filters=16, kernel_size=2, strides=2, activation=\"relu\")) \n",
    "    model.add(layers.AveragePooling2D(pool_size=(20, 1))) \n",
    "    ''' Converts ouput of conv layer into a smaller matrix and the numbers of that matrix depend on if its taking the average of the region with a 2x2 Filter size with stride = 2 \n",
    "    (How much the filter moves over after finishing a region).\n",
    "     Allows the CNN to look at more aactivated areas of the image from the convolutions in the conv layer. Helps reduce overfitting as parameters in CNN decrease\n",
    "    after this. The size of the filter is the pool size.\n",
    "    '''\n",
    "    model.add(layers.AveragePooling2D(pool_size=(1, 4)))\n",
    "    model.add(layers.GlobalAveragePooling2D()) # Ask Linh about these pooling layers\n",
    "    model.add(layers.Dense(n_outputs))\n",
    "    model.compile(optimizer=\"adam\", loss=\"mse\", metrics=[\"mean_squared_error\"])\n",
    "\n",
    "    return model, {}\n",
    "\n",
    "r2_vary_model_layer, kwargs = create_dfe_cnn_r2_layer(r2_varied_train_tensors.shape[1:], 3) \n",
    "\n",
    "kwargs.update(\n",
    "    x=r2_varied_train_tensors,\n",
    "    y=r2_varied_train_labels,\n",
    "    epochs=30,\n",
    ")\n",
    "\n",
    "# callback = callbacks.EarlyStopping(monitor=\"val_loss\", patience=5)\n",
    "# r2_vary_model_layer.fit(**kwargs, callbacks=[callback])\n",
    "\n",
    "r2_vary_model_layer.summary()"
   ]
  },
  {
   "cell_type": "code",
   "execution_count": 36,
   "metadata": {},
   "outputs": [
    {
     "name": "stdout",
     "output_type": "stream",
     "text": [
      "Model: \"sequential_18\"\n",
      "_________________________________________________________________\n",
      " Layer (type)                Output Shape              Param #   \n",
      "=================================================================\n",
      " conv1d_54 (Conv1D)          (None, 20, 148, 64)       704       \n",
      "                                                                 \n",
      " conv1d_55 (Conv1D)          (None, 20, 146, 32)       6176      \n",
      "                                                                 \n",
      " average_pooling2d_33 (Avera  (None, 1, 146, 32)       0         \n",
      " gePooling2D)                                                    \n",
      "                                                                 \n",
      " conv1d_56 (Conv1D)          (None, 1, 73, 16)         1040      \n",
      "                                                                 \n",
      " average_pooling2d_34 (Avera  (None, 1, 18, 16)        0         \n",
      " gePooling2D)                                                    \n",
      "                                                                 \n",
      " global_average_pooling2d_16  (None, 16)               0         \n",
      "  (GlobalAveragePooling2D)                                       \n",
      "                                                                 \n",
      " dense_16 (Dense)            (None, 3)                 51        \n",
      "                                                                 \n",
      "=================================================================\n",
      "Total params: 7,971\n",
      "Trainable params: 7,971\n",
      "Non-trainable params: 0\n",
      "_________________________________________________________________\n"
     ]
    }
   ],
   "source": [
    "# New changes to the r^2 CNN 2/7/24\n",
    "def create_dfe_cnn_r2_conv(input_shape: tuple, n_outputs: int):\n",
    "    model = Sequential()\n",
    "    model.add(\n",
    "        layers.Conv1D(\n",
    "            filters=64,\n",
    "            kernel_size=5,\n",
    "            strides=2,\n",
    "            input_shape=input_shape,\n",
    "            activation=\"relu\",\n",
    "        )\n",
    "    )\n",
    "    # model.add(layers.Dropout(0.2)) Dropout layers disable a certain amount of neurons in the previous layer iteration so that some neurons don't take over and prevent the next layer from learning from a certain neuron. Helps prevent overfitting\n",
    "    model.add(layers.Conv1D(filters=32, kernel_size=3, activation=\"relu\")) # Kernel size refers to the size of the filter\n",
    "    # model.add(layers.Conv1D(filters=16, kernel_size=2, strides=2, activation=\"relu\")) \n",
    "    model.add(layers.AveragePooling2D(pool_size=(20, 1))) \n",
    "    ''' Converts ouput of conv layer into a smaller matrix and the numbers of that matrix depend on if its taking the average of the region with a 2x2 Filter size with stride = 2 \n",
    "    (How much the filter moves over after finishing a region).\n",
    "     Allows the CNN to look at more aactivated areas of the image from the convolutions in the conv layer. Helps reduce overfitting as parameters in CNN decrease\n",
    "    after this. The size of the filter is the pool size.\n",
    "    '''\n",
    "    # Can do convolutions on smaller maps given by the average pooling layer. This can maybe extract even more prominent details\n",
    "    model.add(layers.Conv1D(filters=16, kernel_size=2, strides=2, activation=\"relu\")) \n",
    "    model.add(layers.AveragePooling2D(pool_size=(1, 4)))\n",
    "    model.add(layers.GlobalAveragePooling2D()) # Takes the average number in each feature map (Channel) given as an input. Like one giant filter, that's why there isn't parameter to input a filter size\n",
    "    model.add(layers.Dense(n_outputs))\n",
    "    model.compile(optimizer=\"adam\", loss=\"mse\", metrics=[\"mean_squared_error\"])\n",
    "\n",
    "    return model, {}\n",
    "\n",
    "r2_vary_model_conv, kwargs = create_dfe_cnn_r2_conv(r2_varied_train_tensors.shape[1:], 3) \n",
    "\n",
    "kwargs.update(\n",
    "    x=r2_varied_train_tensors,\n",
    "    y=r2_varied_train_labels,\n",
    "    epochs=30,\n",
    ")\n",
    "\n",
    "# callback = callbacks.EarlyStopping(monitor=\"val_loss\", patience=5)\n",
    "# r2_vary_model_conv.fit(**kwargs, callbacks=[callback])\n",
    "\n",
    "r2_vary_model_conv.summary()"
   ]
  },
  {
   "cell_type": "code",
   "execution_count": null,
   "metadata": {},
   "outputs": [],
   "source": [
    "# THIS CELL IS ONLY FOR SCREENSHOTS OF THE CONV LAYER SWITCH CNN ARCHITECTURE\n",
    "\n",
    "\n",
    "\n",
    "# def create_dfe_cnn_r2_conv(input_shape: tuple, n_outputs: int):\n",
    "#     model = Sequential()\n",
    "#     model.add(\n",
    "#         layers.Conv1D(\n",
    "#             filters=64,\n",
    "#             kernel_size=5,\n",
    "#             strides=2,\n",
    "#             input_shape=input_shape,\n",
    "#             activation=\"relu\",\n",
    "#         )\n",
    "#     )\n",
    "    \n",
    "#     model.add(layers.Conv1D(filters=32, kernel_size=3, activation=\"relu\"))\n",
    "#     model.add(layers.AveragePooling2D(pool_size=(20, 1))) \n",
    "\n",
    "#  # Can do convolutions on smaller maps given by the average pooling layer. This can maybe extract even more prominent details\n",
    "#     model.add(layers.Conv1D(filters=16, kernel_size=2, strides=2, activation=\"relu\")) \n",
    "#     model.add(layers.AveragePooling2D(pool_size=(1, 4)))\n",
    "#     model.add(layers.GlobalAveragePooling2D()) \n",
    "#     model.add(layers.Dense(n_outputs))\n",
    "#     model.compile(optimizer=\"adam\", loss=\"mse\", metrics=[\"mean_squared_error\"])\n",
    "\n",
    "#     return model, {}\n",
    "\n",
    "# r2_vary_model_conv, kwargs = create_dfe_cnn_r2_conv(r2_varied_train_tensors.shape[1:], 3) \n",
    "\n",
    "# kwargs.update(\n",
    "#     x=r2_varied_train_tensors,\n",
    "#     y=r2_varied_train_labels,\n",
    "#     epochs=30,\n",
    "# )\n",
    "\n",
    "# # callback = callbacks.EarlyStopping(monitor=\"val_loss\", patience=5)\n",
    "# # r2_vary_model_conv.fit(**kwargs, callbacks=[callback])\n",
    "\n",
    "# r2_vary_model_conv.summary()"
   ]
  },
  {
   "cell_type": "code",
   "execution_count": 37,
   "metadata": {},
   "outputs": [
    {
     "name": "stdout",
     "output_type": "stream",
     "text": [
      "Epoch 1/30\n",
      "95/95 [==============================] - ETA: 0s - loss: 0.8460 - mean_squared_error: 0.8460WARNING:tensorflow:Early stopping conditioned on metric `val_loss` which is not available. Available metrics are: loss,mean_squared_error\n"
     ]
    },
    {
     "name": "stderr",
     "output_type": "stream",
     "text": [
      "WARNING:tensorflow:Early stopping conditioned on metric `val_loss` which is not available. Available metrics are: loss,mean_squared_error\n"
     ]
    },
    {
     "name": "stdout",
     "output_type": "stream",
     "text": [
      "95/95 [==============================] - 15s 113ms/step - loss: 0.8460 - mean_squared_error: 0.8460\n",
      "Epoch 2/30\n",
      "95/95 [==============================] - ETA: 0s - loss: 0.6372 - mean_squared_error: 0.6372WARNING:tensorflow:Early stopping conditioned on metric `val_loss` which is not available. Available metrics are: loss,mean_squared_error\n"
     ]
    },
    {
     "name": "stderr",
     "output_type": "stream",
     "text": [
      "WARNING:tensorflow:Early stopping conditioned on metric `val_loss` which is not available. Available metrics are: loss,mean_squared_error\n"
     ]
    },
    {
     "name": "stdout",
     "output_type": "stream",
     "text": [
      "95/95 [==============================] - 10s 102ms/step - loss: 0.6372 - mean_squared_error: 0.6372\n",
      "Epoch 3/30\n",
      "95/95 [==============================] - ETA: 0s - loss: 0.6089 - mean_squared_error: 0.6089WARNING:tensorflow:Early stopping conditioned on metric `val_loss` which is not available. Available metrics are: loss,mean_squared_error\n"
     ]
    },
    {
     "name": "stderr",
     "output_type": "stream",
     "text": [
      "WARNING:tensorflow:Early stopping conditioned on metric `val_loss` which is not available. Available metrics are: loss,mean_squared_error\n"
     ]
    },
    {
     "name": "stdout",
     "output_type": "stream",
     "text": [
      "95/95 [==============================] - 9s 100ms/step - loss: 0.6089 - mean_squared_error: 0.6089\n",
      "Epoch 4/30\n",
      "95/95 [==============================] - ETA: 0s - loss: 0.5961 - mean_squared_error: 0.5961WARNING:tensorflow:Early stopping conditioned on metric `val_loss` which is not available. Available metrics are: loss,mean_squared_error\n"
     ]
    },
    {
     "name": "stderr",
     "output_type": "stream",
     "text": [
      "WARNING:tensorflow:Early stopping conditioned on metric `val_loss` which is not available. Available metrics are: loss,mean_squared_error\n"
     ]
    },
    {
     "name": "stdout",
     "output_type": "stream",
     "text": [
      "95/95 [==============================] - 10s 102ms/step - loss: 0.5961 - mean_squared_error: 0.5961\n",
      "Epoch 5/30\n",
      "95/95 [==============================] - ETA: 0s - loss: 0.5722 - mean_squared_error: 0.5722WARNING:tensorflow:Early stopping conditioned on metric `val_loss` which is not available. Available metrics are: loss,mean_squared_error\n"
     ]
    },
    {
     "name": "stderr",
     "output_type": "stream",
     "text": [
      "WARNING:tensorflow:Early stopping conditioned on metric `val_loss` which is not available. Available metrics are: loss,mean_squared_error\n"
     ]
    },
    {
     "name": "stdout",
     "output_type": "stream",
     "text": [
      "95/95 [==============================] - 9s 99ms/step - loss: 0.5722 - mean_squared_error: 0.5722\n",
      "Epoch 6/30\n",
      "95/95 [==============================] - ETA: 0s - loss: 0.5543 - mean_squared_error: 0.5543WARNING:tensorflow:Early stopping conditioned on metric `val_loss` which is not available. Available metrics are: loss,mean_squared_error\n"
     ]
    },
    {
     "name": "stderr",
     "output_type": "stream",
     "text": [
      "WARNING:tensorflow:Early stopping conditioned on metric `val_loss` which is not available. Available metrics are: loss,mean_squared_error\n"
     ]
    },
    {
     "name": "stdout",
     "output_type": "stream",
     "text": [
      "95/95 [==============================] - 10s 105ms/step - loss: 0.5543 - mean_squared_error: 0.5543\n",
      "Epoch 7/30\n",
      "95/95 [==============================] - ETA: 0s - loss: 0.5448 - mean_squared_error: 0.5448WARNING:tensorflow:Early stopping conditioned on metric `val_loss` which is not available. Available metrics are: loss,mean_squared_error\n"
     ]
    },
    {
     "name": "stderr",
     "output_type": "stream",
     "text": [
      "WARNING:tensorflow:Early stopping conditioned on metric `val_loss` which is not available. Available metrics are: loss,mean_squared_error\n"
     ]
    },
    {
     "name": "stdout",
     "output_type": "stream",
     "text": [
      "95/95 [==============================] - 10s 105ms/step - loss: 0.5448 - mean_squared_error: 0.5448\n",
      "Epoch 8/30\n",
      "95/95 [==============================] - ETA: 0s - loss: 0.5180 - mean_squared_error: 0.5180WARNING:tensorflow:Early stopping conditioned on metric `val_loss` which is not available. Available metrics are: loss,mean_squared_error\n"
     ]
    },
    {
     "name": "stderr",
     "output_type": "stream",
     "text": [
      "WARNING:tensorflow:Early stopping conditioned on metric `val_loss` which is not available. Available metrics are: loss,mean_squared_error\n"
     ]
    },
    {
     "name": "stdout",
     "output_type": "stream",
     "text": [
      "95/95 [==============================] - 11s 116ms/step - loss: 0.5180 - mean_squared_error: 0.5180\n",
      "Epoch 9/30\n",
      "95/95 [==============================] - ETA: 0s - loss: 0.5017 - mean_squared_error: 0.5017WARNING:tensorflow:Early stopping conditioned on metric `val_loss` which is not available. Available metrics are: loss,mean_squared_error\n"
     ]
    },
    {
     "name": "stderr",
     "output_type": "stream",
     "text": [
      "WARNING:tensorflow:Early stopping conditioned on metric `val_loss` which is not available. Available metrics are: loss,mean_squared_error\n"
     ]
    },
    {
     "name": "stdout",
     "output_type": "stream",
     "text": [
      "95/95 [==============================] - 11s 116ms/step - loss: 0.5017 - mean_squared_error: 0.5017\n",
      "Epoch 10/30\n",
      "95/95 [==============================] - ETA: 0s - loss: 0.4979 - mean_squared_error: 0.4979WARNING:tensorflow:Early stopping conditioned on metric `val_loss` which is not available. Available metrics are: loss,mean_squared_error\n"
     ]
    },
    {
     "name": "stderr",
     "output_type": "stream",
     "text": [
      "WARNING:tensorflow:Early stopping conditioned on metric `val_loss` which is not available. Available metrics are: loss,mean_squared_error\n"
     ]
    },
    {
     "name": "stdout",
     "output_type": "stream",
     "text": [
      "95/95 [==============================] - 11s 118ms/step - loss: 0.4979 - mean_squared_error: 0.4979\n",
      "Epoch 11/30\n",
      "95/95 [==============================] - ETA: 0s - loss: 0.4877 - mean_squared_error: 0.4877WARNING:tensorflow:Early stopping conditioned on metric `val_loss` which is not available. Available metrics are: loss,mean_squared_error\n"
     ]
    },
    {
     "name": "stderr",
     "output_type": "stream",
     "text": [
      "WARNING:tensorflow:Early stopping conditioned on metric `val_loss` which is not available. Available metrics are: loss,mean_squared_error\n"
     ]
    },
    {
     "name": "stdout",
     "output_type": "stream",
     "text": [
      "95/95 [==============================] - 10s 102ms/step - loss: 0.4877 - mean_squared_error: 0.4877\n",
      "Epoch 12/30\n",
      "95/95 [==============================] - ETA: 0s - loss: 0.4802 - mean_squared_error: 0.4802WARNING:tensorflow:Early stopping conditioned on metric `val_loss` which is not available. Available metrics are: loss,mean_squared_error\n"
     ]
    },
    {
     "name": "stderr",
     "output_type": "stream",
     "text": [
      "WARNING:tensorflow:Early stopping conditioned on metric `val_loss` which is not available. Available metrics are: loss,mean_squared_error\n"
     ]
    },
    {
     "name": "stdout",
     "output_type": "stream",
     "text": [
      "95/95 [==============================] - 10s 104ms/step - loss: 0.4802 - mean_squared_error: 0.4802\n",
      "Epoch 13/30\n",
      "95/95 [==============================] - ETA: 0s - loss: 0.4803 - mean_squared_error: 0.4803WARNING:tensorflow:Early stopping conditioned on metric `val_loss` which is not available. Available metrics are: loss,mean_squared_error\n"
     ]
    },
    {
     "name": "stderr",
     "output_type": "stream",
     "text": [
      "WARNING:tensorflow:Early stopping conditioned on metric `val_loss` which is not available. Available metrics are: loss,mean_squared_error\n"
     ]
    },
    {
     "name": "stdout",
     "output_type": "stream",
     "text": [
      "95/95 [==============================] - 9s 99ms/step - loss: 0.4803 - mean_squared_error: 0.4803\n",
      "Epoch 14/30\n",
      "95/95 [==============================] - ETA: 0s - loss: 0.4729 - mean_squared_error: 0.4729WARNING:tensorflow:Early stopping conditioned on metric `val_loss` which is not available. Available metrics are: loss,mean_squared_error\n"
     ]
    },
    {
     "name": "stderr",
     "output_type": "stream",
     "text": [
      "WARNING:tensorflow:Early stopping conditioned on metric `val_loss` which is not available. Available metrics are: loss,mean_squared_error\n"
     ]
    },
    {
     "name": "stdout",
     "output_type": "stream",
     "text": [
      "95/95 [==============================] - 9s 98ms/step - loss: 0.4729 - mean_squared_error: 0.4729\n",
      "Epoch 15/30\n",
      "95/95 [==============================] - ETA: 0s - loss: 0.4658 - mean_squared_error: 0.4658WARNING:tensorflow:Early stopping conditioned on metric `val_loss` which is not available. Available metrics are: loss,mean_squared_error\n"
     ]
    },
    {
     "name": "stderr",
     "output_type": "stream",
     "text": [
      "WARNING:tensorflow:Early stopping conditioned on metric `val_loss` which is not available. Available metrics are: loss,mean_squared_error\n"
     ]
    },
    {
     "name": "stdout",
     "output_type": "stream",
     "text": [
      "95/95 [==============================] - 10s 102ms/step - loss: 0.4658 - mean_squared_error: 0.4658\n",
      "Epoch 16/30\n",
      "95/95 [==============================] - ETA: 0s - loss: 0.4730 - mean_squared_error: 0.4730WARNING:tensorflow:Early stopping conditioned on metric `val_loss` which is not available. Available metrics are: loss,mean_squared_error\n"
     ]
    },
    {
     "name": "stderr",
     "output_type": "stream",
     "text": [
      "WARNING:tensorflow:Early stopping conditioned on metric `val_loss` which is not available. Available metrics are: loss,mean_squared_error\n"
     ]
    },
    {
     "name": "stdout",
     "output_type": "stream",
     "text": [
      "95/95 [==============================] - 10s 104ms/step - loss: 0.4730 - mean_squared_error: 0.4730\n",
      "Epoch 17/30\n",
      "95/95 [==============================] - ETA: 0s - loss: 0.4616 - mean_squared_error: 0.4616WARNING:tensorflow:Early stopping conditioned on metric `val_loss` which is not available. Available metrics are: loss,mean_squared_error\n"
     ]
    },
    {
     "name": "stderr",
     "output_type": "stream",
     "text": [
      "WARNING:tensorflow:Early stopping conditioned on metric `val_loss` which is not available. Available metrics are: loss,mean_squared_error\n"
     ]
    },
    {
     "name": "stdout",
     "output_type": "stream",
     "text": [
      "95/95 [==============================] - 10s 110ms/step - loss: 0.4616 - mean_squared_error: 0.4616\n",
      "Epoch 18/30\n",
      "95/95 [==============================] - ETA: 0s - loss: 0.4668 - mean_squared_error: 0.4668WARNING:tensorflow:Early stopping conditioned on metric `val_loss` which is not available. Available metrics are: loss,mean_squared_error\n"
     ]
    },
    {
     "name": "stderr",
     "output_type": "stream",
     "text": [
      "WARNING:tensorflow:Early stopping conditioned on metric `val_loss` which is not available. Available metrics are: loss,mean_squared_error\n"
     ]
    },
    {
     "name": "stdout",
     "output_type": "stream",
     "text": [
      "95/95 [==============================] - 10s 100ms/step - loss: 0.4668 - mean_squared_error: 0.4668\n",
      "Epoch 19/30\n",
      "95/95 [==============================] - ETA: 0s - loss: 0.4549 - mean_squared_error: 0.4549WARNING:tensorflow:Early stopping conditioned on metric `val_loss` which is not available. Available metrics are: loss,mean_squared_error\n"
     ]
    },
    {
     "name": "stderr",
     "output_type": "stream",
     "text": [
      "WARNING:tensorflow:Early stopping conditioned on metric `val_loss` which is not available. Available metrics are: loss,mean_squared_error\n"
     ]
    },
    {
     "name": "stdout",
     "output_type": "stream",
     "text": [
      "95/95 [==============================] - 9s 98ms/step - loss: 0.4549 - mean_squared_error: 0.4549\n",
      "Epoch 20/30\n",
      "95/95 [==============================] - ETA: 0s - loss: 0.4546 - mean_squared_error: 0.4546WARNING:tensorflow:Early stopping conditioned on metric `val_loss` which is not available. Available metrics are: loss,mean_squared_error\n"
     ]
    },
    {
     "name": "stderr",
     "output_type": "stream",
     "text": [
      "WARNING:tensorflow:Early stopping conditioned on metric `val_loss` which is not available. Available metrics are: loss,mean_squared_error\n"
     ]
    },
    {
     "name": "stdout",
     "output_type": "stream",
     "text": [
      "95/95 [==============================] - 9s 97ms/step - loss: 0.4546 - mean_squared_error: 0.4546\n",
      "Epoch 21/30\n",
      "95/95 [==============================] - ETA: 0s - loss: 0.4518 - mean_squared_error: 0.4518WARNING:tensorflow:Early stopping conditioned on metric `val_loss` which is not available. Available metrics are: loss,mean_squared_error\n"
     ]
    },
    {
     "name": "stderr",
     "output_type": "stream",
     "text": [
      "WARNING:tensorflow:Early stopping conditioned on metric `val_loss` which is not available. Available metrics are: loss,mean_squared_error\n"
     ]
    },
    {
     "name": "stdout",
     "output_type": "stream",
     "text": [
      "95/95 [==============================] - 9s 96ms/step - loss: 0.4518 - mean_squared_error: 0.4518\n",
      "Epoch 22/30\n",
      "95/95 [==============================] - ETA: 0s - loss: 0.4477 - mean_squared_error: 0.4477WARNING:tensorflow:Early stopping conditioned on metric `val_loss` which is not available. Available metrics are: loss,mean_squared_error\n"
     ]
    },
    {
     "name": "stderr",
     "output_type": "stream",
     "text": [
      "WARNING:tensorflow:Early stopping conditioned on metric `val_loss` which is not available. Available metrics are: loss,mean_squared_error\n"
     ]
    },
    {
     "name": "stdout",
     "output_type": "stream",
     "text": [
      "95/95 [==============================] - 9s 96ms/step - loss: 0.4477 - mean_squared_error: 0.4477\n",
      "Epoch 23/30\n",
      "95/95 [==============================] - ETA: 0s - loss: 0.4471 - mean_squared_error: 0.4471WARNING:tensorflow:Early stopping conditioned on metric `val_loss` which is not available. Available metrics are: loss,mean_squared_error\n"
     ]
    },
    {
     "name": "stderr",
     "output_type": "stream",
     "text": [
      "WARNING:tensorflow:Early stopping conditioned on metric `val_loss` which is not available. Available metrics are: loss,mean_squared_error\n"
     ]
    },
    {
     "name": "stdout",
     "output_type": "stream",
     "text": [
      "95/95 [==============================] - 9s 95ms/step - loss: 0.4471 - mean_squared_error: 0.4471\n",
      "Epoch 24/30\n",
      "95/95 [==============================] - ETA: 0s - loss: 0.4444 - mean_squared_error: 0.4444WARNING:tensorflow:Early stopping conditioned on metric `val_loss` which is not available. Available metrics are: loss,mean_squared_error\n"
     ]
    },
    {
     "name": "stderr",
     "output_type": "stream",
     "text": [
      "WARNING:tensorflow:Early stopping conditioned on metric `val_loss` which is not available. Available metrics are: loss,mean_squared_error\n"
     ]
    },
    {
     "name": "stdout",
     "output_type": "stream",
     "text": [
      "95/95 [==============================] - 9s 97ms/step - loss: 0.4444 - mean_squared_error: 0.4444\n",
      "Epoch 25/30\n",
      "95/95 [==============================] - ETA: 0s - loss: 0.4430 - mean_squared_error: 0.4430WARNING:tensorflow:Early stopping conditioned on metric `val_loss` which is not available. Available metrics are: loss,mean_squared_error\n"
     ]
    },
    {
     "name": "stderr",
     "output_type": "stream",
     "text": [
      "WARNING:tensorflow:Early stopping conditioned on metric `val_loss` which is not available. Available metrics are: loss,mean_squared_error\n"
     ]
    },
    {
     "name": "stdout",
     "output_type": "stream",
     "text": [
      "95/95 [==============================] - 9s 96ms/step - loss: 0.4430 - mean_squared_error: 0.4430\n",
      "Epoch 26/30\n",
      "95/95 [==============================] - ETA: 0s - loss: 0.4416 - mean_squared_error: 0.4416WARNING:tensorflow:Early stopping conditioned on metric `val_loss` which is not available. Available metrics are: loss,mean_squared_error\n"
     ]
    },
    {
     "name": "stderr",
     "output_type": "stream",
     "text": [
      "WARNING:tensorflow:Early stopping conditioned on metric `val_loss` which is not available. Available metrics are: loss,mean_squared_error\n"
     ]
    },
    {
     "name": "stdout",
     "output_type": "stream",
     "text": [
      "95/95 [==============================] - 9s 97ms/step - loss: 0.4416 - mean_squared_error: 0.4416\n",
      "Epoch 27/30\n",
      "95/95 [==============================] - ETA: 0s - loss: 0.4401 - mean_squared_error: 0.4401WARNING:tensorflow:Early stopping conditioned on metric `val_loss` which is not available. Available metrics are: loss,mean_squared_error\n"
     ]
    },
    {
     "name": "stderr",
     "output_type": "stream",
     "text": [
      "WARNING:tensorflow:Early stopping conditioned on metric `val_loss` which is not available. Available metrics are: loss,mean_squared_error\n"
     ]
    },
    {
     "name": "stdout",
     "output_type": "stream",
     "text": [
      "95/95 [==============================] - 9s 97ms/step - loss: 0.4401 - mean_squared_error: 0.4401\n",
      "Epoch 28/30\n",
      "95/95 [==============================] - ETA: 0s - loss: 0.4362 - mean_squared_error: 0.4362WARNING:tensorflow:Early stopping conditioned on metric `val_loss` which is not available. Available metrics are: loss,mean_squared_error\n"
     ]
    },
    {
     "name": "stderr",
     "output_type": "stream",
     "text": [
      "WARNING:tensorflow:Early stopping conditioned on metric `val_loss` which is not available. Available metrics are: loss,mean_squared_error\n"
     ]
    },
    {
     "name": "stdout",
     "output_type": "stream",
     "text": [
      "95/95 [==============================] - 9s 96ms/step - loss: 0.4362 - mean_squared_error: 0.4362\n",
      "Epoch 29/30\n",
      "95/95 [==============================] - ETA: 0s - loss: 0.4375 - mean_squared_error: 0.4375WARNING:tensorflow:Early stopping conditioned on metric `val_loss` which is not available. Available metrics are: loss,mean_squared_error\n"
     ]
    },
    {
     "name": "stderr",
     "output_type": "stream",
     "text": [
      "WARNING:tensorflow:Early stopping conditioned on metric `val_loss` which is not available. Available metrics are: loss,mean_squared_error\n"
     ]
    },
    {
     "name": "stdout",
     "output_type": "stream",
     "text": [
      "95/95 [==============================] - 9s 96ms/step - loss: 0.4375 - mean_squared_error: 0.4375\n",
      "Epoch 30/30\n",
      "95/95 [==============================] - ETA: 0s - loss: 0.4348 - mean_squared_error: 0.4348WARNING:tensorflow:Early stopping conditioned on metric `val_loss` which is not available. Available metrics are: loss,mean_squared_error\n"
     ]
    },
    {
     "name": "stderr",
     "output_type": "stream",
     "text": [
      "WARNING:tensorflow:Early stopping conditioned on metric `val_loss` which is not available. Available metrics are: loss,mean_squared_error\n"
     ]
    },
    {
     "name": "stdout",
     "output_type": "stream",
     "text": [
      "95/95 [==============================] - 9s 97ms/step - loss: 0.4348 - mean_squared_error: 0.4348\n"
     ]
    },
    {
     "data": {
      "text/plain": [
       "<keras.callbacks.History at 0x7fe5e416cc90>"
      ]
     },
     "execution_count": 37,
     "metadata": {},
     "output_type": "execute_result"
    }
   ],
   "source": [
    "callback = callbacks.EarlyStopping(monitor=\"val_loss\", patience=5)\n",
    "r2_vary_model_conv.fit(**kwargs, callbacks=[callback])"
   ]
  },
  {
   "cell_type": "code",
   "execution_count": 38,
   "metadata": {},
   "outputs": [
    {
     "name": "stdout",
     "output_type": "stream",
     "text": [
      "10/10 [==============================] - 0s 33ms/step\n",
      "10/10 [==============================] - 0s 31ms/step\n"
     ]
    },
    {
     "data": {
      "image/png": "[encoded data removed]",
      "text/plain": [
       "<Figure size 640x480 with 1 Axes>"
      ]
     },
     "metadata": {},
     "output_type": "display_data"
    }
   ],
   "source": [
    "# 2/7/24\n",
    "plot_LD_results(r2_vary_model_conv, r2_varied_test_tensors, r2_varied_test_labels, \"../r2_vary_change_conv_layer_order_graphs\")\n",
    "plot_LD_results(r2_vary_model_conv, r2_varied_test_free_scrambled_tensors, r2_varied_test_labels, \"../r2_vary_conv_graphs\")"
   ]
  },
  {
   "cell_type": "code",
   "execution_count": 39,
   "metadata": {},
   "outputs": [
    {
     "name": "stderr",
     "output_type": "stream",
     "text": [
      "2024-02-07 20:41:31.790524: I tensorflow/core/common_runtime/executor.cc:1197] [/device:CPU:0] (DEBUG INFO) Executor start aborting (this does not indicate an error and you can ignore this message): INVALID_ARGUMENT: You must feed a value for placeholder tensor 'conv1d_54_input' with dtype float and shape [?,20,300,2]\n",
      "\t [[{{node conv1d_54_input}}]]\n",
      "2024-02-07 20:41:31.863155: I tensorflow/core/common_runtime/executor.cc:1197] [/device:CPU:0] (DEBUG INFO) Executor start aborting (this does not indicate an error and you can ignore this message): INVALID_ARGUMENT: You must feed a value for placeholder tensor 'conv1d_54_input' with dtype float and shape [?,20,300,2]\n",
      "\t [[{{node conv1d_54_input}}]]\n",
      "2024-02-07 20:41:31.881943: I tensorflow/core/common_runtime/executor.cc:1197] [/device:CPU:0] (DEBUG INFO) Executor start aborting (this does not indicate an error and you can ignore this message): INVALID_ARGUMENT: You must feed a value for placeholder tensor 'inputs' with dtype float and shape [?,20,300,2]\n",
      "\t [[{{node inputs}}]]\n",
      "2024-02-07 20:41:31.906474: I tensorflow/core/common_runtime/executor.cc:1197] [/device:CPU:0] (DEBUG INFO) Executor start aborting (this does not indicate an error and you can ignore this message): INVALID_ARGUMENT: You must feed a value for placeholder tensor 'conv1d_54_input' with dtype float and shape [?,20,300,2]\n",
      "\t [[{{node conv1d_54_input}}]]\n",
      "2024-02-07 20:41:31.915598: I tensorflow/core/common_runtime/executor.cc:1197] [/device:CPU:0] (DEBUG INFO) Executor start aborting (this does not indicate an error and you can ignore this message): INVALID_ARGUMENT: You must feed a value for placeholder tensor 'inputs' with dtype float and shape [?,20,300,2]\n",
      "\t [[{{node inputs}}]]\n",
      "2024-02-07 20:41:31.934817: I tensorflow/core/common_runtime/executor.cc:1197] [/device:CPU:0] (DEBUG INFO) Executor start aborting (this does not indicate an error and you can ignore this message): INVALID_ARGUMENT: You must feed a value for placeholder tensor 'conv1d_54_input' with dtype float and shape [?,20,300,2]\n",
      "\t [[{{node conv1d_54_input}}]]\n",
      "2024-02-07 20:41:31.941436: I tensorflow/core/common_runtime/executor.cc:1197] [/device:CPU:0] (DEBUG INFO) Executor start aborting (this does not indicate an error and you can ignore this message): INVALID_ARGUMENT: You must feed a value for placeholder tensor 'inputs' with dtype float and shape [?,20,300,2]\n",
      "\t [[{{node inputs}}]]\n",
      "2024-02-07 20:41:31.947469: I tensorflow/core/common_runtime/executor.cc:1197] [/device:CPU:0] (DEBUG INFO) Executor start aborting (this does not indicate an error and you can ignore this message): INVALID_ARGUMENT: You must feed a value for placeholder tensor 'inputs' with dtype float and shape [?,20,148,64]\n",
      "\t [[{{node inputs}}]]\n",
      "2024-02-07 20:41:31.953391: I tensorflow/core/common_runtime/executor.cc:1197] [/device:CPU:0] (DEBUG INFO) Executor start aborting (this does not indicate an error and you can ignore this message): INVALID_ARGUMENT: You must feed a value for placeholder tensor 'inputs' with dtype float and shape [?,1,146,32]\n",
      "\t [[{{node inputs}}]]\n",
      "2024-02-07 20:41:31.970053: I tensorflow/core/common_runtime/executor.cc:1197] [/device:CPU:0] (DEBUG INFO) Executor start aborting (this does not indicate an error and you can ignore this message): INVALID_ARGUMENT: You must feed a value for placeholder tensor 'inputs' with dtype float and shape [?,20,300,2]\n",
      "\t [[{{node inputs}}]]\n",
      "2024-02-07 20:41:31.979650: I tensorflow/core/common_runtime/executor.cc:1197] [/device:CPU:0] (DEBUG INFO) Executor start aborting (this does not indicate an error and you can ignore this message): INVALID_ARGUMENT: You must feed a value for placeholder tensor 'inputs' with dtype float and shape [?,20,300,2]\n",
      "\t [[{{node inputs}}]]\n",
      "2024-02-07 20:41:32.004300: I tensorflow/core/common_runtime/executor.cc:1197] [/device:CPU:0] (DEBUG INFO) Executor start aborting (this does not indicate an error and you can ignore this message): INVALID_ARGUMENT: You must feed a value for placeholder tensor 'conv1d_54_input' with dtype float and shape [?,20,300,2]\n",
      "\t [[{{node conv1d_54_input}}]]\n",
      "2024-02-07 20:41:32.028845: I tensorflow/core/common_runtime/executor.cc:1197] [/device:CPU:0] (DEBUG INFO) Executor start aborting (this does not indicate an error and you can ignore this message): INVALID_ARGUMENT: You must feed a value for placeholder tensor 'inputs' with dtype float and shape [?,20,300,2]\n",
      "\t [[{{node inputs}}]]\n",
      "2024-02-07 20:41:32.038943: I tensorflow/core/common_runtime/executor.cc:1197] [/device:CPU:0] (DEBUG INFO) Executor start aborting (this does not indicate an error and you can ignore this message): INVALID_ARGUMENT: You must feed a value for placeholder tensor 'inputs' with dtype float and shape [?,20,300,2]\n",
      "\t [[{{node inputs}}]]\n",
      "2024-02-07 20:41:32.189654: I tensorflow/core/common_runtime/executor.cc:1197] [/device:CPU:0] (DEBUG INFO) Executor start aborting (this does not indicate an error and you can ignore this message): INVALID_ARGUMENT: You must feed a value for placeholder tensor 'inputs' with dtype float and shape [?,20,300,2]\n",
      "\t [[{{node inputs}}]]\n",
      "2024-02-07 20:41:32.216478: I tensorflow/core/common_runtime/executor.cc:1197] [/device:CPU:0] (DEBUG INFO) Executor start aborting (this does not indicate an error and you can ignore this message): INVALID_ARGUMENT: You must feed a value for placeholder tensor 'inputs' with dtype float and shape [?,20,148,64]\n",
      "\t [[{{node inputs}}]]\n",
      "2024-02-07 20:41:32.253424: I tensorflow/core/common_runtime/executor.cc:1197] [/device:CPU:0] (DEBUG INFO) Executor start aborting (this does not indicate an error and you can ignore this message): INVALID_ARGUMENT: You must feed a value for placeholder tensor 'inputs' with dtype float and shape [?,1,146,32]\n",
      "\t [[{{node inputs}}]]\n",
      "WARNING:absl:Found untraced functions such as _jit_compiled_convolution_op, _jit_compiled_convolution_op, _jit_compiled_convolution_op, _update_step_xla while saving (showing 4 of 4). These functions will not be directly callable after loading.\n",
      "2024-02-07 20:41:32.344856: I tensorflow/core/common_runtime/executor.cc:1197] [/device:CPU:0] (DEBUG INFO) Executor start aborting (this does not indicate an error and you can ignore this message): INVALID_ARGUMENT: You must feed a value for placeholder tensor 'serving_default_conv1d_54_input' with dtype float and shape [?,20,300,2]\n",
      "\t [[{{node serving_default_conv1d_54_input}}]]\n"
     ]
    },
    {
     "name": "stdout",
     "output_type": "stream",
     "text": [
      "INFO:tensorflow:Assets written to: ../r2_vary_conv_order_model/assets\n"
     ]
    },
    {
     "name": "stderr",
     "output_type": "stream",
     "text": [
      "INFO:tensorflow:Assets written to: ../r2_vary_conv_order_model/assets\n"
     ]
    }
   ],
   "source": [
    "r2_vary_model_conv.save(\"../r2_vary_conv_order_model\")"
   ]
  },
  {
   "cell_type": "code",
   "execution_count": 40,
   "metadata": {},
   "outputs": [
    {
     "name": "stdout",
     "output_type": "stream",
     "text": [
      "10/10 [==============================] - 0s 29ms/step\n"
     ]
    },
    {
     "data": {
      "image/png": "[encoded data removed]",
      "text/plain": [
       "<Figure size 640x480 with 1 Axes>"
      ]
     },
     "metadata": {},
     "output_type": "display_data"
    }
   ],
   "source": [
    "plot_LD_results(r2_vary_model_conv, r2_varied_test_partition_by_row_tensors, r2_varied_test_labels, \"../r2_vary_change_conv_layer_order_graphs/Partition_test\")"
   ]
  },
  {
   "cell_type": "code",
   "execution_count": 42,
   "metadata": {},
   "outputs": [],
   "source": [
    "new_pool_downsize_model = tf.keras.saving.load_model('../All_my_models/r2_vary_model_downsize_pool_layer_2_7_24/')"
   ]
  },
  {
   "cell_type": "code",
   "execution_count": 43,
   "metadata": {},
   "outputs": [
    {
     "name": "stdout",
     "output_type": "stream",
     "text": [
      "10/10 [==============================] - 0s 29ms/step\n"
     ]
    },
    {
     "data": {
      "image/png": "[encoded data removed]",
      "text/plain": [
       "<Figure size 640x480 with 1 Axes>"
      ]
     },
     "metadata": {},
     "output_type": "display_data"
    }
   ],
   "source": [
    "plot_LD_results(r2_vary_model, r2_varied_test_partition_by_row_tensors, r2_varied_test_labels, \"../Downsize_pool_layer_parition_by_row_test_2_7_24\")"
   ]
  },
  {
   "cell_type": "code",
   "execution_count": 44,
   "metadata": {},
   "outputs": [
    {
     "name": "stdout",
     "output_type": "stream",
     "text": [
      "Model: \"sequential_19\"\n",
      "_________________________________________________________________\n",
      " Layer (type)                Output Shape              Param #   \n",
      "=================================================================\n",
      " conv1d_57 (Conv1D)          (None, 20, 148, 64)       704       \n",
      "                                                                 \n",
      " average_pooling2d_35 (Avera  (None, 1, 148, 64)       0         \n",
      " gePooling2D)                                                    \n",
      "                                                                 \n",
      " conv1d_58 (Conv1D)          (None, 1, 74, 16)         2064      \n",
      "                                                                 \n",
      " average_pooling2d_36 (Avera  (None, 1, 18, 16)        0         \n",
      " gePooling2D)                                                    \n",
      "                                                                 \n",
      " global_average_pooling2d_17  (None, 16)               0         \n",
      "  (GlobalAveragePooling2D)                                       \n",
      "                                                                 \n",
      " dropout (Dropout)           (None, 16)                0         \n",
      "                                                                 \n",
      " dense_17 (Dense)            (None, 3)                 51        \n",
      "                                                                 \n",
      "=================================================================\n",
      "Total params: 2,819\n",
      "Trainable params: 2,819\n",
      "Non-trainable params: 0\n",
      "_________________________________________________________________\n"
     ]
    }
   ],
   "source": [
    "# New changes to the r^2 CNN 2/9/24\n",
    "def create_dfe_cnn_r2_conv_plus_regularization(input_shape: tuple, n_outputs: int):\n",
    "    model = Sequential()\n",
    "    model.add(\n",
    "        layers.Conv1D(\n",
    "            filters=64,\n",
    "            kernel_size=5,\n",
    "            strides=2,\n",
    "            input_shape=input_shape,\n",
    "            activation=\"relu\",\n",
    "        )\n",
    "    )\n",
    "    # model.add(layers.Dropout(0.2)) \n",
    "    model.add(layers.AveragePooling2D(pool_size=(20, 1))) \n",
    "    model.add(layers.Conv1D(filters=16, kernel_size=2, strides=2, activation=\"relu\")) \n",
    "    model.add(layers.AveragePooling2D(pool_size=(1, 4)))\n",
    "    model.add(layers.GlobalAveragePooling2D())\n",
    "    model.add(layers.Dropout(0.2)) # Can help prevent overfitting and make sure not some neurons take over, the arguement is a little small (0.2) because the global average pooling layer already shrinks the feature maps a lot so there aren't many neurons left.\n",
    "    model.add(layers.Dense(n_outputs))\n",
    "    model.compile(optimizer=\"adam\", loss=\"mse\", metrics=[\"mean_squared_error\"])\n",
    "\n",
    "    return model, {}\n",
    "\n",
    "r2_vary_model_conv_plus_regular, kwargs = create_dfe_cnn_r2_conv_plus_regularization(r2_varied_train_tensors.shape[1:], 3) \n",
    "\n",
    "kwargs.update(\n",
    "    x=r2_varied_train_tensors,\n",
    "    y=r2_varied_train_labels,\n",
    "    epochs=30,\n",
    ")\n",
    "\n",
    "# callback = callbacks.EarlyStopping(monitor=\"val_loss\", patience=5)\n",
    "# r2_vary_model_conv_plus_regular.fit(**kwargs, callbacks=[callback])\n",
    "\n",
    "r2_vary_model_conv_plus_regular.summary()"
   ]
  },
  {
   "cell_type": "code",
   "execution_count": 45,
   "metadata": {},
   "outputs": [
    {
     "name": "stdout",
     "output_type": "stream",
     "text": [
      "Epoch 1/30\n",
      "95/95 [==============================] - ETA: 0s - loss: 0.9685 - mean_squared_error: 0.9685WARNING:tensorflow:Early stopping conditioned on metric `val_loss` which is not available. Available metrics are: loss,mean_squared_error\n"
     ]
    },
    {
     "name": "stderr",
     "output_type": "stream",
     "text": [
      "WARNING:tensorflow:Early stopping conditioned on metric `val_loss` which is not available. Available metrics are: loss,mean_squared_error\n"
     ]
    },
    {
     "name": "stdout",
     "output_type": "stream",
     "text": [
      "95/95 [==============================] - 7s 60ms/step - loss: 0.9685 - mean_squared_error: 0.9685\n",
      "Epoch 2/30\n",
      "94/95 [============================>.] - ETA: 0s - loss: 0.7080 - mean_squared_error: 0.7080WARNING:tensorflow:Early stopping conditioned on metric `val_loss` which is not available. Available metrics are: loss,mean_squared_error\n"
     ]
    },
    {
     "name": "stderr",
     "output_type": "stream",
     "text": [
      "WARNING:tensorflow:Early stopping conditioned on metric `val_loss` which is not available. Available metrics are: loss,mean_squared_error\n"
     ]
    },
    {
     "name": "stdout",
     "output_type": "stream",
     "text": [
      "95/95 [==============================] - 5s 51ms/step - loss: 0.7068 - mean_squared_error: 0.7068\n",
      "Epoch 3/30\n",
      "94/95 [============================>.] - ETA: 0s - loss: 0.6645 - mean_squared_error: 0.6645WARNING:tensorflow:Early stopping conditioned on metric `val_loss` which is not available. Available metrics are: loss,mean_squared_error\n"
     ]
    },
    {
     "name": "stderr",
     "output_type": "stream",
     "text": [
      "WARNING:tensorflow:Early stopping conditioned on metric `val_loss` which is not available. Available metrics are: loss,mean_squared_error\n"
     ]
    },
    {
     "name": "stdout",
     "output_type": "stream",
     "text": [
      "95/95 [==============================] - 4s 47ms/step - loss: 0.6630 - mean_squared_error: 0.6630\n",
      "Epoch 4/30\n",
      "95/95 [==============================] - ETA: 0s - loss: 0.6382 - mean_squared_error: 0.6382WARNING:tensorflow:Early stopping conditioned on metric `val_loss` which is not available. Available metrics are: loss,mean_squared_error\n"
     ]
    },
    {
     "name": "stderr",
     "output_type": "stream",
     "text": [
      "WARNING:tensorflow:Early stopping conditioned on metric `val_loss` which is not available. Available metrics are: loss,mean_squared_error\n"
     ]
    },
    {
     "name": "stdout",
     "output_type": "stream",
     "text": [
      "95/95 [==============================] - 4s 46ms/step - loss: 0.6382 - mean_squared_error: 0.6382\n",
      "Epoch 5/30\n",
      "94/95 [============================>.] - ETA: 0s - loss: 0.6140 - mean_squared_error: 0.6140WARNING:tensorflow:Early stopping conditioned on metric `val_loss` which is not available. Available metrics are: loss,mean_squared_error\n"
     ]
    },
    {
     "name": "stderr",
     "output_type": "stream",
     "text": [
      "WARNING:tensorflow:Early stopping conditioned on metric `val_loss` which is not available. Available metrics are: loss,mean_squared_error\n"
     ]
    },
    {
     "name": "stdout",
     "output_type": "stream",
     "text": [
      "95/95 [==============================] - 4s 47ms/step - loss: 0.6136 - mean_squared_error: 0.6136\n",
      "Epoch 6/30\n",
      "95/95 [==============================] - ETA: 0s - loss: 0.6104 - mean_squared_error: 0.6104WARNING:tensorflow:Early stopping conditioned on metric `val_loss` which is not available. Available metrics are: loss,mean_squared_error\n"
     ]
    },
    {
     "name": "stderr",
     "output_type": "stream",
     "text": [
      "WARNING:tensorflow:Early stopping conditioned on metric `val_loss` which is not available. Available metrics are: loss,mean_squared_error\n"
     ]
    },
    {
     "name": "stdout",
     "output_type": "stream",
     "text": [
      "95/95 [==============================] - 4s 46ms/step - loss: 0.6104 - mean_squared_error: 0.6104\n",
      "Epoch 7/30\n",
      "95/95 [==============================] - ETA: 0s - loss: 0.5844 - mean_squared_error: 0.5844WARNING:tensorflow:Early stopping conditioned on metric `val_loss` which is not available. Available metrics are: loss,mean_squared_error\n"
     ]
    },
    {
     "name": "stderr",
     "output_type": "stream",
     "text": [
      "WARNING:tensorflow:Early stopping conditioned on metric `val_loss` which is not available. Available metrics are: loss,mean_squared_error\n"
     ]
    },
    {
     "name": "stdout",
     "output_type": "stream",
     "text": [
      "95/95 [==============================] - 4s 45ms/step - loss: 0.5844 - mean_squared_error: 0.5844\n",
      "Epoch 8/30\n",
      "95/95 [==============================] - ETA: 0s - loss: 0.5777 - mean_squared_error: 0.5777WARNING:tensorflow:Early stopping conditioned on metric `val_loss` which is not available. Available metrics are: loss,mean_squared_error\n"
     ]
    },
    {
     "name": "stderr",
     "output_type": "stream",
     "text": [
      "WARNING:tensorflow:Early stopping conditioned on metric `val_loss` which is not available. Available metrics are: loss,mean_squared_error\n"
     ]
    },
    {
     "name": "stdout",
     "output_type": "stream",
     "text": [
      "95/95 [==============================] - 5s 48ms/step - loss: 0.5777 - mean_squared_error: 0.5777\n",
      "Epoch 9/30\n",
      "95/95 [==============================] - ETA: 0s - loss: 0.5737 - mean_squared_error: 0.5737WARNING:tensorflow:Early stopping conditioned on metric `val_loss` which is not available. Available metrics are: loss,mean_squared_error\n"
     ]
    },
    {
     "name": "stderr",
     "output_type": "stream",
     "text": [
      "WARNING:tensorflow:Early stopping conditioned on metric `val_loss` which is not available. Available metrics are: loss,mean_squared_error\n"
     ]
    },
    {
     "name": "stdout",
     "output_type": "stream",
     "text": [
      "95/95 [==============================] - 4s 45ms/step - loss: 0.5737 - mean_squared_error: 0.5737\n",
      "Epoch 10/30\n",
      "95/95 [==============================] - ETA: 0s - loss: 0.5763 - mean_squared_error: 0.5763WARNING:tensorflow:Early stopping conditioned on metric `val_loss` which is not available. Available metrics are: loss,mean_squared_error\n"
     ]
    },
    {
     "name": "stderr",
     "output_type": "stream",
     "text": [
      "WARNING:tensorflow:Early stopping conditioned on metric `val_loss` which is not available. Available metrics are: loss,mean_squared_error\n"
     ]
    },
    {
     "name": "stdout",
     "output_type": "stream",
     "text": [
      "95/95 [==============================] - 4s 46ms/step - loss: 0.5763 - mean_squared_error: 0.5763\n",
      "Epoch 11/30\n",
      "94/95 [============================>.] - ETA: 0s - loss: 0.5759 - mean_squared_error: 0.5759WARNING:tensorflow:Early stopping conditioned on metric `val_loss` which is not available. Available metrics are: loss,mean_squared_error\n"
     ]
    },
    {
     "name": "stderr",
     "output_type": "stream",
     "text": [
      "WARNING:tensorflow:Early stopping conditioned on metric `val_loss` which is not available. Available metrics are: loss,mean_squared_error\n"
     ]
    },
    {
     "name": "stdout",
     "output_type": "stream",
     "text": [
      "95/95 [==============================] - 5s 48ms/step - loss: 0.5775 - mean_squared_error: 0.5775\n",
      "Epoch 12/30\n",
      "95/95 [==============================] - ETA: 0s - loss: 0.5724 - mean_squared_error: 0.5724WARNING:tensorflow:Early stopping conditioned on metric `val_loss` which is not available. Available metrics are: loss,mean_squared_error\n"
     ]
    },
    {
     "name": "stderr",
     "output_type": "stream",
     "text": [
      "WARNING:tensorflow:Early stopping conditioned on metric `val_loss` which is not available. Available metrics are: loss,mean_squared_error\n"
     ]
    },
    {
     "name": "stdout",
     "output_type": "stream",
     "text": [
      "95/95 [==============================] - 5s 48ms/step - loss: 0.5724 - mean_squared_error: 0.5724\n",
      "Epoch 13/30\n",
      "95/95 [==============================] - ETA: 0s - loss: 0.5843 - mean_squared_error: 0.5843WARNING:tensorflow:Early stopping conditioned on metric `val_loss` which is not available. Available metrics are: loss,mean_squared_error\n"
     ]
    },
    {
     "name": "stderr",
     "output_type": "stream",
     "text": [
      "WARNING:tensorflow:Early stopping conditioned on metric `val_loss` which is not available. Available metrics are: loss,mean_squared_error\n"
     ]
    },
    {
     "name": "stdout",
     "output_type": "stream",
     "text": [
      "95/95 [==============================] - 5s 49ms/step - loss: 0.5843 - mean_squared_error: 0.5843\n",
      "Epoch 14/30\n",
      "95/95 [==============================] - ETA: 0s - loss: 0.5779 - mean_squared_error: 0.5779WARNING:tensorflow:Early stopping conditioned on metric `val_loss` which is not available. Available metrics are: loss,mean_squared_error\n"
     ]
    },
    {
     "name": "stderr",
     "output_type": "stream",
     "text": [
      "WARNING:tensorflow:Early stopping conditioned on metric `val_loss` which is not available. Available metrics are: loss,mean_squared_error\n"
     ]
    },
    {
     "name": "stdout",
     "output_type": "stream",
     "text": [
      "95/95 [==============================] - 4s 46ms/step - loss: 0.5779 - mean_squared_error: 0.5779\n",
      "Epoch 15/30\n",
      "94/95 [============================>.] - ETA: 0s - loss: 0.5713 - mean_squared_error: 0.5713WARNING:tensorflow:Early stopping conditioned on metric `val_loss` which is not available. Available metrics are: loss,mean_squared_error\n"
     ]
    },
    {
     "name": "stderr",
     "output_type": "stream",
     "text": [
      "WARNING:tensorflow:Early stopping conditioned on metric `val_loss` which is not available. Available metrics are: loss,mean_squared_error\n"
     ]
    },
    {
     "name": "stdout",
     "output_type": "stream",
     "text": [
      "95/95 [==============================] - 4s 45ms/step - loss: 0.5760 - mean_squared_error: 0.5760\n",
      "Epoch 16/30\n",
      "94/95 [============================>.] - ETA: 0s - loss: 0.5662 - mean_squared_error: 0.5662WARNING:tensorflow:Early stopping conditioned on metric `val_loss` which is not available. Available metrics are: loss,mean_squared_error\n"
     ]
    },
    {
     "name": "stderr",
     "output_type": "stream",
     "text": [
      "WARNING:tensorflow:Early stopping conditioned on metric `val_loss` which is not available. Available metrics are: loss,mean_squared_error\n"
     ]
    },
    {
     "name": "stdout",
     "output_type": "stream",
     "text": [
      "95/95 [==============================] - 4s 45ms/step - loss: 0.5678 - mean_squared_error: 0.5678\n",
      "Epoch 17/30\n",
      "95/95 [==============================] - ETA: 0s - loss: 0.5696 - mean_squared_error: 0.5696WARNING:tensorflow:Early stopping conditioned on metric `val_loss` which is not available. Available metrics are: loss,mean_squared_error\n"
     ]
    },
    {
     "name": "stderr",
     "output_type": "stream",
     "text": [
      "WARNING:tensorflow:Early stopping conditioned on metric `val_loss` which is not available. Available metrics are: loss,mean_squared_error\n"
     ]
    },
    {
     "name": "stdout",
     "output_type": "stream",
     "text": [
      "95/95 [==============================] - 4s 47ms/step - loss: 0.5696 - mean_squared_error: 0.5696\n",
      "Epoch 18/30\n",
      "94/95 [============================>.] - ETA: 0s - loss: 0.5711 - mean_squared_error: 0.5711WARNING:tensorflow:Early stopping conditioned on metric `val_loss` which is not available. Available metrics are: loss,mean_squared_error\n"
     ]
    },
    {
     "name": "stderr",
     "output_type": "stream",
     "text": [
      "WARNING:tensorflow:Early stopping conditioned on metric `val_loss` which is not available. Available metrics are: loss,mean_squared_error\n"
     ]
    },
    {
     "name": "stdout",
     "output_type": "stream",
     "text": [
      "95/95 [==============================] - 4s 46ms/step - loss: 0.5686 - mean_squared_error: 0.5686\n",
      "Epoch 19/30\n",
      "94/95 [============================>.] - ETA: 0s - loss: 0.5773 - mean_squared_error: 0.5773WARNING:tensorflow:Early stopping conditioned on metric `val_loss` which is not available. Available metrics are: loss,mean_squared_error\n"
     ]
    },
    {
     "name": "stderr",
     "output_type": "stream",
     "text": [
      "WARNING:tensorflow:Early stopping conditioned on metric `val_loss` which is not available. Available metrics are: loss,mean_squared_error\n"
     ]
    },
    {
     "name": "stdout",
     "output_type": "stream",
     "text": [
      "95/95 [==============================] - 4s 45ms/step - loss: 0.5757 - mean_squared_error: 0.5757\n",
      "Epoch 20/30\n",
      "95/95 [==============================] - ETA: 0s - loss: 0.5795 - mean_squared_error: 0.5795WARNING:tensorflow:Early stopping conditioned on metric `val_loss` which is not available. Available metrics are: loss,mean_squared_error\n"
     ]
    },
    {
     "name": "stderr",
     "output_type": "stream",
     "text": [
      "WARNING:tensorflow:Early stopping conditioned on metric `val_loss` which is not available. Available metrics are: loss,mean_squared_error\n"
     ]
    },
    {
     "name": "stdout",
     "output_type": "stream",
     "text": [
      "95/95 [==============================] - 5s 47ms/step - loss: 0.5795 - mean_squared_error: 0.5795\n",
      "Epoch 21/30\n",
      "95/95 [==============================] - ETA: 0s - loss: 0.5700 - mean_squared_error: 0.5700WARNING:tensorflow:Early stopping conditioned on metric `val_loss` which is not available. Available metrics are: loss,mean_squared_error\n"
     ]
    },
    {
     "name": "stderr",
     "output_type": "stream",
     "text": [
      "WARNING:tensorflow:Early stopping conditioned on metric `val_loss` which is not available. Available metrics are: loss,mean_squared_error\n"
     ]
    },
    {
     "name": "stdout",
     "output_type": "stream",
     "text": [
      "95/95 [==============================] - 4s 46ms/step - loss: 0.5700 - mean_squared_error: 0.5700\n",
      "Epoch 22/30\n",
      "95/95 [==============================] - ETA: 0s - loss: 0.5642 - mean_squared_error: 0.5642WARNING:tensorflow:Early stopping conditioned on metric `val_loss` which is not available. Available metrics are: loss,mean_squared_error\n"
     ]
    },
    {
     "name": "stderr",
     "output_type": "stream",
     "text": [
      "WARNING:tensorflow:Early stopping conditioned on metric `val_loss` which is not available. Available metrics are: loss,mean_squared_error\n"
     ]
    },
    {
     "name": "stdout",
     "output_type": "stream",
     "text": [
      "95/95 [==============================] - 4s 45ms/step - loss: 0.5642 - mean_squared_error: 0.5642\n",
      "Epoch 23/30\n",
      "94/95 [============================>.] - ETA: 0s - loss: 0.5661 - mean_squared_error: 0.5661WARNING:tensorflow:Early stopping conditioned on metric `val_loss` which is not available. Available metrics are: loss,mean_squared_error\n"
     ]
    },
    {
     "name": "stderr",
     "output_type": "stream",
     "text": [
      "WARNING:tensorflow:Early stopping conditioned on metric `val_loss` which is not available. Available metrics are: loss,mean_squared_error\n"
     ]
    },
    {
     "name": "stdout",
     "output_type": "stream",
     "text": [
      "95/95 [==============================] - 4s 46ms/step - loss: 0.5673 - mean_squared_error: 0.5673\n",
      "Epoch 24/30\n",
      "94/95 [============================>.] - ETA: 0s - loss: 0.5650 - mean_squared_error: 0.5650WARNING:tensorflow:Early stopping conditioned on metric `val_loss` which is not available. Available metrics are: loss,mean_squared_error\n"
     ]
    },
    {
     "name": "stderr",
     "output_type": "stream",
     "text": [
      "WARNING:tensorflow:Early stopping conditioned on metric `val_loss` which is not available. Available metrics are: loss,mean_squared_error\n"
     ]
    },
    {
     "name": "stdout",
     "output_type": "stream",
     "text": [
      "95/95 [==============================] - 4s 45ms/step - loss: 0.5694 - mean_squared_error: 0.5694\n",
      "Epoch 25/30\n",
      "94/95 [============================>.] - ETA: 0s - loss: 0.5744 - mean_squared_error: 0.5744WARNING:tensorflow:Early stopping conditioned on metric `val_loss` which is not available. Available metrics are: loss,mean_squared_error\n"
     ]
    },
    {
     "name": "stderr",
     "output_type": "stream",
     "text": [
      "WARNING:tensorflow:Early stopping conditioned on metric `val_loss` which is not available. Available metrics are: loss,mean_squared_error\n"
     ]
    },
    {
     "name": "stdout",
     "output_type": "stream",
     "text": [
      "95/95 [==============================] - 4s 46ms/step - loss: 0.5715 - mean_squared_error: 0.5715\n",
      "Epoch 26/30\n",
      "94/95 [============================>.] - ETA: 0s - loss: 0.5748 - mean_squared_error: 0.5748WARNING:tensorflow:Early stopping conditioned on metric `val_loss` which is not available. Available metrics are: loss,mean_squared_error\n"
     ]
    },
    {
     "name": "stderr",
     "output_type": "stream",
     "text": [
      "WARNING:tensorflow:Early stopping conditioned on metric `val_loss` which is not available. Available metrics are: loss,mean_squared_error\n"
     ]
    },
    {
     "name": "stdout",
     "output_type": "stream",
     "text": [
      "95/95 [==============================] - 4s 46ms/step - loss: 0.5741 - mean_squared_error: 0.5741\n",
      "Epoch 27/30\n",
      "94/95 [============================>.] - ETA: 0s - loss: 0.5661 - mean_squared_error: 0.5661WARNING:tensorflow:Early stopping conditioned on metric `val_loss` which is not available. Available metrics are: loss,mean_squared_error\n"
     ]
    },
    {
     "name": "stderr",
     "output_type": "stream",
     "text": [
      "WARNING:tensorflow:Early stopping conditioned on metric `val_loss` which is not available. Available metrics are: loss,mean_squared_error\n"
     ]
    },
    {
     "name": "stdout",
     "output_type": "stream",
     "text": [
      "95/95 [==============================] - 5s 48ms/step - loss: 0.5634 - mean_squared_error: 0.5634\n",
      "Epoch 28/30\n",
      "95/95 [==============================] - ETA: 0s - loss: 0.5695 - mean_squared_error: 0.5695WARNING:tensorflow:Early stopping conditioned on metric `val_loss` which is not available. Available metrics are: loss,mean_squared_error\n"
     ]
    },
    {
     "name": "stderr",
     "output_type": "stream",
     "text": [
      "WARNING:tensorflow:Early stopping conditioned on metric `val_loss` which is not available. Available metrics are: loss,mean_squared_error\n"
     ]
    },
    {
     "name": "stdout",
     "output_type": "stream",
     "text": [
      "95/95 [==============================] - 4s 47ms/step - loss: 0.5695 - mean_squared_error: 0.5695\n",
      "Epoch 29/30\n",
      "94/95 [============================>.] - ETA: 0s - loss: 0.5685 - mean_squared_error: 0.5685WARNING:tensorflow:Early stopping conditioned on metric `val_loss` which is not available. Available metrics are: loss,mean_squared_error\n"
     ]
    },
    {
     "name": "stderr",
     "output_type": "stream",
     "text": [
      "WARNING:tensorflow:Early stopping conditioned on metric `val_loss` which is not available. Available metrics are: loss,mean_squared_error\n"
     ]
    },
    {
     "name": "stdout",
     "output_type": "stream",
     "text": [
      "95/95 [==============================] - 4s 45ms/step - loss: 0.5714 - mean_squared_error: 0.5714\n",
      "Epoch 30/30\n",
      "94/95 [============================>.] - ETA: 0s - loss: 0.5768 - mean_squared_error: 0.5768WARNING:tensorflow:Early stopping conditioned on metric `val_loss` which is not available. Available metrics are: loss,mean_squared_error\n"
     ]
    },
    {
     "name": "stderr",
     "output_type": "stream",
     "text": [
      "WARNING:tensorflow:Early stopping conditioned on metric `val_loss` which is not available. Available metrics are: loss,mean_squared_error\n"
     ]
    },
    {
     "name": "stdout",
     "output_type": "stream",
     "text": [
      "95/95 [==============================] - 4s 45ms/step - loss: 0.5753 - mean_squared_error: 0.5753\n"
     ]
    },
    {
     "data": {
      "text/plain": [
       "<keras.callbacks.History at 0x7fe696c24c90>"
      ]
     },
     "execution_count": 45,
     "metadata": {},
     "output_type": "execute_result"
    }
   ],
   "source": [
    "callback = callbacks.EarlyStopping(monitor=\"val_loss\", patience=5)\n",
    "r2_vary_model_conv_plus_regular.fit(**kwargs, callbacks=[callback])"
   ]
  },
  {
   "cell_type": "code",
   "execution_count": 46,
   "metadata": {},
   "outputs": [
    {
     "name": "stdout",
     "output_type": "stream",
     "text": [
      "10/10 [==============================] - 0s 23ms/step\n"
     ]
    },
    {
     "data": {
      "image/png": "[encoded data removed]",
      "text/plain": [
       "<Figure size 640x480 with 1 Axes>"
      ]
     },
     "metadata": {},
     "output_type": "display_data"
    }
   ],
   "source": [
    "plot_LD_results(r2_vary_model_conv_plus_regular, r2_varied_test_tensors, r2_varied_test_labels, \"../r2_vary_change_conv_layer_order_plus_dropout_graphs\")"
   ]
  },
  {
   "cell_type": "code",
   "execution_count": 49,
   "metadata": {},
   "outputs": [
    {
     "name": "stdout",
     "output_type": "stream",
     "text": [
      "Model: \"sequential_22\"\n",
      "_________________________________________________________________\n",
      " Layer (type)                Output Shape              Param #   \n",
      "=================================================================\n",
      " conv1d_63 (Conv1D)          (None, 20, 148, 64)       704       \n",
      "                                                                 \n",
      " average_pooling2d_41 (Avera  (None, 1, 148, 64)       0         \n",
      " gePooling2D)                                                    \n",
      "                                                                 \n",
      " conv1d_64 (Conv1D)          (None, 1, 74, 16)         2064      \n",
      "                                                                 \n",
      " dropout_3 (Dropout)         (None, 1, 74, 16)         0         \n",
      "                                                                 \n",
      " average_pooling2d_42 (Avera  (None, 1, 18, 16)        0         \n",
      " gePooling2D)                                                    \n",
      "                                                                 \n",
      " global_average_pooling2d_20  (None, 16)               0         \n",
      "  (GlobalAveragePooling2D)                                       \n",
      "                                                                 \n",
      " dense_20 (Dense)            (None, 3)                 51        \n",
      "                                                                 \n",
      "=================================================================\n",
      "Total params: 2,819\n",
      "Trainable params: 2,819\n",
      "Non-trainable params: 0\n",
      "_________________________________________________________________\n"
     ]
    }
   ],
   "source": [
    "# New changes to the r^2 CNN 2/9/24\n",
    "def create_dfe_cnn_r2_conv_plus_drop(input_shape: tuple, n_outputs: int):\n",
    "    model = Sequential()\n",
    "    model.add(\n",
    "        layers.Conv1D(\n",
    "            filters=64,\n",
    "            kernel_size=5,\n",
    "            strides=2,\n",
    "            input_shape=input_shape,\n",
    "            activation=\"relu\",\n",
    "        )\n",
    "    )\n",
    "    # model.add(layers.Dropout(0.2)) \n",
    "    model.add(layers.AveragePooling2D(pool_size=(20, 1))) \n",
    "    model.add(layers.Conv1D(filters=16, kernel_size=2, strides=2, activation=\"relu\")) \n",
    "    model.add(layers.Dropout(0.35)) # Can help prevent overfitting and make sure not some neurons take over, the arguement is not too big but not too small (0.35) because the previous conv1d layer should create 16 more feature maps for the CNN to work with\n",
    "    model.add(layers.AveragePooling2D(pool_size=(1, 4)))\n",
    "    model.add(layers.GlobalAveragePooling2D())\n",
    "    model.add(layers.Dense(n_outputs))\n",
    "    model.compile(optimizer=\"adam\", loss=\"mse\", metrics=[\"mean_squared_error\"])\n",
    "\n",
    "    return model, {}\n",
    "\n",
    "r2_vary_model_conv_plus_drop, kwargs = create_dfe_cnn_r2_conv_plus_drop(r2_varied_train_tensors.shape[1:], 3) \n",
    "\n",
    "kwargs.update(\n",
    "    x=r2_varied_train_tensors,\n",
    "    y=r2_varied_train_labels,\n",
    "    epochs=30,\n",
    ")\n",
    "\n",
    "# callback = callbacks.EarlyStopping(monitor=\"val_loss\", patience=5)\n",
    "# r2_vary_model_conv_plus_drop.fit(**kwargs, callbacks=[callback])\n",
    "\n",
    "r2_vary_model_conv_plus_drop.summary()"
   ]
  },
  {
   "cell_type": "code",
   "execution_count": 50,
   "metadata": {},
   "outputs": [
    {
     "name": "stdout",
     "output_type": "stream",
     "text": [
      "Epoch 1/30\n",
      "95/95 [==============================] - ETA: 0s - loss: 1.0072 - mean_squared_error: 1.0072WARNING:tensorflow:Early stopping conditioned on metric `val_loss` which is not available. Available metrics are: loss,mean_squared_error\n"
     ]
    },
    {
     "name": "stderr",
     "output_type": "stream",
     "text": [
      "WARNING:tensorflow:Early stopping conditioned on metric `val_loss` which is not available. Available metrics are: loss,mean_squared_error\n"
     ]
    },
    {
     "name": "stdout",
     "output_type": "stream",
     "text": [
      "95/95 [==============================] - 6s 54ms/step - loss: 1.0072 - mean_squared_error: 1.0072\n",
      "Epoch 2/30\n",
      "94/95 [============================>.] - ETA: 0s - loss: 0.6844 - mean_squared_error: 0.6844WARNING:tensorflow:Early stopping conditioned on metric `val_loss` which is not available. Available metrics are: loss,mean_squared_error\n"
     ]
    },
    {
     "name": "stderr",
     "output_type": "stream",
     "text": [
      "WARNING:tensorflow:Early stopping conditioned on metric `val_loss` which is not available. Available metrics are: loss,mean_squared_error\n"
     ]
    },
    {
     "name": "stdout",
     "output_type": "stream",
     "text": [
      "95/95 [==============================] - 5s 48ms/step - loss: 0.6843 - mean_squared_error: 0.6843\n",
      "Epoch 3/30\n",
      "94/95 [============================>.] - ETA: 0s - loss: 0.6119 - mean_squared_error: 0.6119WARNING:tensorflow:Early stopping conditioned on metric `val_loss` which is not available. Available metrics are: loss,mean_squared_error\n"
     ]
    },
    {
     "name": "stderr",
     "output_type": "stream",
     "text": [
      "WARNING:tensorflow:Early stopping conditioned on metric `val_loss` which is not available. Available metrics are: loss,mean_squared_error\n"
     ]
    },
    {
     "name": "stdout",
     "output_type": "stream",
     "text": [
      "95/95 [==============================] - 5s 50ms/step - loss: 0.6132 - mean_squared_error: 0.6132\n",
      "Epoch 4/30\n",
      "94/95 [============================>.] - ETA: 0s - loss: 0.5773 - mean_squared_error: 0.5773WARNING:tensorflow:Early stopping conditioned on metric `val_loss` which is not available. Available metrics are: loss,mean_squared_error\n"
     ]
    },
    {
     "name": "stderr",
     "output_type": "stream",
     "text": [
      "WARNING:tensorflow:Early stopping conditioned on metric `val_loss` which is not available. Available metrics are: loss,mean_squared_error\n"
     ]
    },
    {
     "name": "stdout",
     "output_type": "stream",
     "text": [
      "95/95 [==============================] - 5s 48ms/step - loss: 0.5791 - mean_squared_error: 0.5791\n",
      "Epoch 5/30\n",
      "95/95 [==============================] - ETA: 0s - loss: 0.5635 - mean_squared_error: 0.5635WARNING:tensorflow:Early stopping conditioned on metric `val_loss` which is not available. Available metrics are: loss,mean_squared_error\n"
     ]
    },
    {
     "name": "stderr",
     "output_type": "stream",
     "text": [
      "WARNING:tensorflow:Early stopping conditioned on metric `val_loss` which is not available. Available metrics are: loss,mean_squared_error\n"
     ]
    },
    {
     "name": "stdout",
     "output_type": "stream",
     "text": [
      "95/95 [==============================] - 5s 48ms/step - loss: 0.5635 - mean_squared_error: 0.5635\n",
      "Epoch 6/30\n",
      "94/95 [============================>.] - ETA: 0s - loss: 0.5613 - mean_squared_error: 0.5613WARNING:tensorflow:Early stopping conditioned on metric `val_loss` which is not available. Available metrics are: loss,mean_squared_error\n"
     ]
    },
    {
     "name": "stderr",
     "output_type": "stream",
     "text": [
      "WARNING:tensorflow:Early stopping conditioned on metric `val_loss` which is not available. Available metrics are: loss,mean_squared_error\n"
     ]
    },
    {
     "name": "stdout",
     "output_type": "stream",
     "text": [
      "95/95 [==============================] - 5s 48ms/step - loss: 0.5601 - mean_squared_error: 0.5601\n",
      "Epoch 7/30\n",
      "94/95 [============================>.] - ETA: 0s - loss: 0.5607 - mean_squared_error: 0.5607WARNING:tensorflow:Early stopping conditioned on metric `val_loss` which is not available. Available metrics are: loss,mean_squared_error\n"
     ]
    },
    {
     "name": "stderr",
     "output_type": "stream",
     "text": [
      "WARNING:tensorflow:Early stopping conditioned on metric `val_loss` which is not available. Available metrics are: loss,mean_squared_error\n"
     ]
    },
    {
     "name": "stdout",
     "output_type": "stream",
     "text": [
      "95/95 [==============================] - 5s 50ms/step - loss: 0.5585 - mean_squared_error: 0.5585\n",
      "Epoch 8/30\n",
      "94/95 [============================>.] - ETA: 0s - loss: 0.5532 - mean_squared_error: 0.5532WARNING:tensorflow:Early stopping conditioned on metric `val_loss` which is not available. Available metrics are: loss,mean_squared_error\n"
     ]
    },
    {
     "name": "stderr",
     "output_type": "stream",
     "text": [
      "WARNING:tensorflow:Early stopping conditioned on metric `val_loss` which is not available. Available metrics are: loss,mean_squared_error\n"
     ]
    },
    {
     "name": "stdout",
     "output_type": "stream",
     "text": [
      "95/95 [==============================] - 4s 47ms/step - loss: 0.5522 - mean_squared_error: 0.5522\n",
      "Epoch 9/30\n",
      "94/95 [============================>.] - ETA: 0s - loss: 0.5508 - mean_squared_error: 0.5508WARNING:tensorflow:Early stopping conditioned on metric `val_loss` which is not available. Available metrics are: loss,mean_squared_error\n"
     ]
    },
    {
     "name": "stderr",
     "output_type": "stream",
     "text": [
      "WARNING:tensorflow:Early stopping conditioned on metric `val_loss` which is not available. Available metrics are: loss,mean_squared_error\n"
     ]
    },
    {
     "name": "stdout",
     "output_type": "stream",
     "text": [
      "95/95 [==============================] - 4s 47ms/step - loss: 0.5483 - mean_squared_error: 0.5483\n",
      "Epoch 10/30\n",
      "95/95 [==============================] - ETA: 0s - loss: 0.5472 - mean_squared_error: 0.5472WARNING:tensorflow:Early stopping conditioned on metric `val_loss` which is not available. Available metrics are: loss,mean_squared_error\n"
     ]
    },
    {
     "name": "stderr",
     "output_type": "stream",
     "text": [
      "WARNING:tensorflow:Early stopping conditioned on metric `val_loss` which is not available. Available metrics are: loss,mean_squared_error\n"
     ]
    },
    {
     "name": "stdout",
     "output_type": "stream",
     "text": [
      "95/95 [==============================] - 5s 49ms/step - loss: 0.5472 - mean_squared_error: 0.5472\n",
      "Epoch 11/30\n",
      "95/95 [==============================] - ETA: 0s - loss: 0.5551 - mean_squared_error: 0.5551WARNING:tensorflow:Early stopping conditioned on metric `val_loss` which is not available. Available metrics are: loss,mean_squared_error\n"
     ]
    },
    {
     "name": "stderr",
     "output_type": "stream",
     "text": [
      "WARNING:tensorflow:Early stopping conditioned on metric `val_loss` which is not available. Available metrics are: loss,mean_squared_error\n"
     ]
    },
    {
     "name": "stdout",
     "output_type": "stream",
     "text": [
      "95/95 [==============================] - 4s 47ms/step - loss: 0.5551 - mean_squared_error: 0.5551\n",
      "Epoch 12/30\n",
      "95/95 [==============================] - ETA: 0s - loss: 0.5447 - mean_squared_error: 0.5447WARNING:tensorflow:Early stopping conditioned on metric `val_loss` which is not available. Available metrics are: loss,mean_squared_error\n"
     ]
    },
    {
     "name": "stderr",
     "output_type": "stream",
     "text": [
      "WARNING:tensorflow:Early stopping conditioned on metric `val_loss` which is not available. Available metrics are: loss,mean_squared_error\n"
     ]
    },
    {
     "name": "stdout",
     "output_type": "stream",
     "text": [
      "95/95 [==============================] - 4s 47ms/step - loss: 0.5447 - mean_squared_error: 0.5447\n",
      "Epoch 13/30\n",
      "95/95 [==============================] - ETA: 0s - loss: 0.5444 - mean_squared_error: 0.5444WARNING:tensorflow:Early stopping conditioned on metric `val_loss` which is not available. Available metrics are: loss,mean_squared_error\n"
     ]
    },
    {
     "name": "stderr",
     "output_type": "stream",
     "text": [
      "WARNING:tensorflow:Early stopping conditioned on metric `val_loss` which is not available. Available metrics are: loss,mean_squared_error\n"
     ]
    },
    {
     "name": "stdout",
     "output_type": "stream",
     "text": [
      "95/95 [==============================] - 5s 49ms/step - loss: 0.5444 - mean_squared_error: 0.5444\n",
      "Epoch 14/30\n",
      "94/95 [============================>.] - ETA: 0s - loss: 0.5450 - mean_squared_error: 0.5450WARNING:tensorflow:Early stopping conditioned on metric `val_loss` which is not available. Available metrics are: loss,mean_squared_error\n"
     ]
    },
    {
     "name": "stderr",
     "output_type": "stream",
     "text": [
      "WARNING:tensorflow:Early stopping conditioned on metric `val_loss` which is not available. Available metrics are: loss,mean_squared_error\n"
     ]
    },
    {
     "name": "stdout",
     "output_type": "stream",
     "text": [
      "95/95 [==============================] - 4s 47ms/step - loss: 0.5443 - mean_squared_error: 0.5443\n",
      "Epoch 15/30\n",
      "95/95 [==============================] - ETA: 0s - loss: 0.5447 - mean_squared_error: 0.5447WARNING:tensorflow:Early stopping conditioned on metric `val_loss` which is not available. Available metrics are: loss,mean_squared_error\n"
     ]
    },
    {
     "name": "stderr",
     "output_type": "stream",
     "text": [
      "WARNING:tensorflow:Early stopping conditioned on metric `val_loss` which is not available. Available metrics are: loss,mean_squared_error\n"
     ]
    },
    {
     "name": "stdout",
     "output_type": "stream",
     "text": [
      "95/95 [==============================] - 4s 47ms/step - loss: 0.5447 - mean_squared_error: 0.5447\n",
      "Epoch 16/30\n",
      "94/95 [============================>.] - ETA: 0s - loss: 0.5493 - mean_squared_error: 0.5493WARNING:tensorflow:Early stopping conditioned on metric `val_loss` which is not available. Available metrics are: loss,mean_squared_error\n"
     ]
    },
    {
     "name": "stderr",
     "output_type": "stream",
     "text": [
      "WARNING:tensorflow:Early stopping conditioned on metric `val_loss` which is not available. Available metrics are: loss,mean_squared_error\n"
     ]
    },
    {
     "name": "stdout",
     "output_type": "stream",
     "text": [
      "95/95 [==============================] - 5s 47ms/step - loss: 0.5479 - mean_squared_error: 0.5479\n",
      "Epoch 17/30\n",
      "94/95 [============================>.] - ETA: 0s - loss: 0.5362 - mean_squared_error: 0.5362WARNING:tensorflow:Early stopping conditioned on metric `val_loss` which is not available. Available metrics are: loss,mean_squared_error\n"
     ]
    },
    {
     "name": "stderr",
     "output_type": "stream",
     "text": [
      "WARNING:tensorflow:Early stopping conditioned on metric `val_loss` which is not available. Available metrics are: loss,mean_squared_error\n"
     ]
    },
    {
     "name": "stdout",
     "output_type": "stream",
     "text": [
      "95/95 [==============================] - 4s 47ms/step - loss: 0.5416 - mean_squared_error: 0.5416\n",
      "Epoch 18/30\n",
      "94/95 [============================>.] - ETA: 0s - loss: 0.5454 - mean_squared_error: 0.5454WARNING:tensorflow:Early stopping conditioned on metric `val_loss` which is not available. Available metrics are: loss,mean_squared_error\n"
     ]
    },
    {
     "name": "stderr",
     "output_type": "stream",
     "text": [
      "WARNING:tensorflow:Early stopping conditioned on metric `val_loss` which is not available. Available metrics are: loss,mean_squared_error\n"
     ]
    },
    {
     "name": "stdout",
     "output_type": "stream",
     "text": [
      "95/95 [==============================] - 4s 47ms/step - loss: 0.5433 - mean_squared_error: 0.5433\n",
      "Epoch 19/30\n",
      "95/95 [==============================] - ETA: 0s - loss: 0.5474 - mean_squared_error: 0.5474WARNING:tensorflow:Early stopping conditioned on metric `val_loss` which is not available. Available metrics are: loss,mean_squared_error\n"
     ]
    },
    {
     "name": "stderr",
     "output_type": "stream",
     "text": [
      "WARNING:tensorflow:Early stopping conditioned on metric `val_loss` which is not available. Available metrics are: loss,mean_squared_error\n"
     ]
    },
    {
     "name": "stdout",
     "output_type": "stream",
     "text": [
      "95/95 [==============================] - 4s 47ms/step - loss: 0.5474 - mean_squared_error: 0.5474\n",
      "Epoch 20/30\n",
      "94/95 [============================>.] - ETA: 0s - loss: 0.5479 - mean_squared_error: 0.5479WARNING:tensorflow:Early stopping conditioned on metric `val_loss` which is not available. Available metrics are: loss,mean_squared_error\n"
     ]
    },
    {
     "name": "stderr",
     "output_type": "stream",
     "text": [
      "WARNING:tensorflow:Early stopping conditioned on metric `val_loss` which is not available. Available metrics are: loss,mean_squared_error\n"
     ]
    },
    {
     "name": "stdout",
     "output_type": "stream",
     "text": [
      "95/95 [==============================] - 5s 48ms/step - loss: 0.5463 - mean_squared_error: 0.5463\n",
      "Epoch 21/30\n",
      "94/95 [============================>.] - ETA: 0s - loss: 0.5434 - mean_squared_error: 0.5434WARNING:tensorflow:Early stopping conditioned on metric `val_loss` which is not available. Available metrics are: loss,mean_squared_error\n"
     ]
    },
    {
     "name": "stderr",
     "output_type": "stream",
     "text": [
      "WARNING:tensorflow:Early stopping conditioned on metric `val_loss` which is not available. Available metrics are: loss,mean_squared_error\n"
     ]
    },
    {
     "name": "stdout",
     "output_type": "stream",
     "text": [
      "95/95 [==============================] - 4s 47ms/step - loss: 0.5416 - mean_squared_error: 0.5416\n",
      "Epoch 22/30\n",
      "94/95 [============================>.] - ETA: 0s - loss: 0.5414 - mean_squared_error: 0.5414WARNING:tensorflow:Early stopping conditioned on metric `val_loss` which is not available. Available metrics are: loss,mean_squared_error\n"
     ]
    },
    {
     "name": "stderr",
     "output_type": "stream",
     "text": [
      "WARNING:tensorflow:Early stopping conditioned on metric `val_loss` which is not available. Available metrics are: loss,mean_squared_error\n"
     ]
    },
    {
     "name": "stdout",
     "output_type": "stream",
     "text": [
      "95/95 [==============================] - 4s 46ms/step - loss: 0.5392 - mean_squared_error: 0.5392\n",
      "Epoch 23/30\n",
      "94/95 [============================>.] - ETA: 0s - loss: 0.5434 - mean_squared_error: 0.5434WARNING:tensorflow:Early stopping conditioned on metric `val_loss` which is not available. Available metrics are: loss,mean_squared_error\n"
     ]
    },
    {
     "name": "stderr",
     "output_type": "stream",
     "text": [
      "WARNING:tensorflow:Early stopping conditioned on metric `val_loss` which is not available. Available metrics are: loss,mean_squared_error\n"
     ]
    },
    {
     "name": "stdout",
     "output_type": "stream",
     "text": [
      "95/95 [==============================] - 5s 48ms/step - loss: 0.5421 - mean_squared_error: 0.5421\n",
      "Epoch 24/30\n",
      "94/95 [============================>.] - ETA: 0s - loss: 0.5393 - mean_squared_error: 0.5393WARNING:tensorflow:Early stopping conditioned on metric `val_loss` which is not available. Available metrics are: loss,mean_squared_error\n"
     ]
    },
    {
     "name": "stderr",
     "output_type": "stream",
     "text": [
      "WARNING:tensorflow:Early stopping conditioned on metric `val_loss` which is not available. Available metrics are: loss,mean_squared_error\n"
     ]
    },
    {
     "name": "stdout",
     "output_type": "stream",
     "text": [
      "95/95 [==============================] - 4s 47ms/step - loss: 0.5385 - mean_squared_error: 0.5385\n",
      "Epoch 25/30\n",
      "95/95 [==============================] - ETA: 0s - loss: 0.5404 - mean_squared_error: 0.5404WARNING:tensorflow:Early stopping conditioned on metric `val_loss` which is not available. Available metrics are: loss,mean_squared_error\n"
     ]
    },
    {
     "name": "stderr",
     "output_type": "stream",
     "text": [
      "WARNING:tensorflow:Early stopping conditioned on metric `val_loss` which is not available. Available metrics are: loss,mean_squared_error\n"
     ]
    },
    {
     "name": "stdout",
     "output_type": "stream",
     "text": [
      "95/95 [==============================] - 4s 47ms/step - loss: 0.5404 - mean_squared_error: 0.5404\n",
      "Epoch 26/30\n",
      "94/95 [============================>.] - ETA: 0s - loss: 0.5416 - mean_squared_error: 0.5416WARNING:tensorflow:Early stopping conditioned on metric `val_loss` which is not available. Available metrics are: loss,mean_squared_error\n"
     ]
    },
    {
     "name": "stderr",
     "output_type": "stream",
     "text": [
      "WARNING:tensorflow:Early stopping conditioned on metric `val_loss` which is not available. Available metrics are: loss,mean_squared_error\n"
     ]
    },
    {
     "name": "stdout",
     "output_type": "stream",
     "text": [
      "95/95 [==============================] - 5s 48ms/step - loss: 0.5410 - mean_squared_error: 0.5410\n",
      "Epoch 27/30\n",
      "94/95 [============================>.] - ETA: 0s - loss: 0.5411 - mean_squared_error: 0.5411WARNING:tensorflow:Early stopping conditioned on metric `val_loss` which is not available. Available metrics are: loss,mean_squared_error\n"
     ]
    },
    {
     "name": "stderr",
     "output_type": "stream",
     "text": [
      "WARNING:tensorflow:Early stopping conditioned on metric `val_loss` which is not available. Available metrics are: loss,mean_squared_error\n"
     ]
    },
    {
     "name": "stdout",
     "output_type": "stream",
     "text": [
      "95/95 [==============================] - 5s 48ms/step - loss: 0.5407 - mean_squared_error: 0.5407\n",
      "Epoch 28/30\n",
      "95/95 [==============================] - ETA: 0s - loss: 0.5385 - mean_squared_error: 0.5385WARNING:tensorflow:Early stopping conditioned on metric `val_loss` which is not available. Available metrics are: loss,mean_squared_error\n"
     ]
    },
    {
     "name": "stderr",
     "output_type": "stream",
     "text": [
      "WARNING:tensorflow:Early stopping conditioned on metric `val_loss` which is not available. Available metrics are: loss,mean_squared_error\n"
     ]
    },
    {
     "name": "stdout",
     "output_type": "stream",
     "text": [
      "95/95 [==============================] - 4s 47ms/step - loss: 0.5385 - mean_squared_error: 0.5385\n",
      "Epoch 29/30\n",
      "94/95 [============================>.] - ETA: 0s - loss: 0.5386 - mean_squared_error: 0.5386WARNING:tensorflow:Early stopping conditioned on metric `val_loss` which is not available. Available metrics are: loss,mean_squared_error\n"
     ]
    },
    {
     "name": "stderr",
     "output_type": "stream",
     "text": [
      "WARNING:tensorflow:Early stopping conditioned on metric `val_loss` which is not available. Available metrics are: loss,mean_squared_error\n"
     ]
    },
    {
     "name": "stdout",
     "output_type": "stream",
     "text": [
      "95/95 [==============================] - 5s 47ms/step - loss: 0.5361 - mean_squared_error: 0.5361\n",
      "Epoch 30/30\n",
      "95/95 [==============================] - ETA: 0s - loss: 0.5370 - mean_squared_error: 0.5370WARNING:tensorflow:Early stopping conditioned on metric `val_loss` which is not available. Available metrics are: loss,mean_squared_error\n"
     ]
    },
    {
     "name": "stderr",
     "output_type": "stream",
     "text": [
      "WARNING:tensorflow:Early stopping conditioned on metric `val_loss` which is not available. Available metrics are: loss,mean_squared_error\n"
     ]
    },
    {
     "name": "stdout",
     "output_type": "stream",
     "text": [
      "95/95 [==============================] - 5s 48ms/step - loss: 0.5370 - mean_squared_error: 0.5370\n"
     ]
    },
    {
     "data": {
      "text/plain": [
       "<keras.callbacks.History at 0x7fe60d77c450>"
      ]
     },
     "execution_count": 50,
     "metadata": {},
     "output_type": "execute_result"
    }
   ],
   "source": [
    "callback = callbacks.EarlyStopping(monitor=\"val_loss\", patience=5)\n",
    "r2_vary_model_conv_plus_drop.fit(**kwargs, callbacks=[callback])"
   ]
  },
  {
   "cell_type": "code",
   "execution_count": 51,
   "metadata": {},
   "outputs": [
    {
     "name": "stdout",
     "output_type": "stream",
     "text": [
      "10/10 [==============================] - 0s 23ms/step\n"
     ]
    },
    {
     "data": {
      "image/png": "[encoded data removed]",
      "text/plain": [
       "<Figure size 640x480 with 1 Axes>"
      ]
     },
     "metadata": {},
     "output_type": "display_data"
    }
   ],
   "source": [
    "plot_LD_results(r2_vary_model_conv_plus_drop, r2_varied_test_tensors, r2_varied_test_labels, \"../r2_vary_change_conv_layer_order_plus_dropout_graphs\")"
   ]
  },
  {
   "cell_type": "code",
   "execution_count": 52,
   "metadata": {},
   "outputs": [
    {
     "name": "stdout",
     "output_type": "stream",
     "text": [
      "10/10 [==============================] - 0s 23ms/step\n",
      "10/10 [==============================] - 0s 24ms/step\n"
     ]
    },
    {
     "data": {
      "image/png": "[encoded data removed]",
      "text/plain": [
       "<Figure size 640x480 with 1 Axes>"
      ]
     },
     "metadata": {},
     "output_type": "display_data"
    }
   ],
   "source": [
    "plot_LD_results(r2_vary_model_conv_plus_drop, r2_varied_test_free_scrambled_tensors, r2_varied_test_labels, \"../r2_vary_change_conv_layer_order_plus_dropout_graphs/Free_scramble_test\")\n",
    "plot_LD_results(r2_vary_model_conv_plus_drop, r2_varied_test_partition_by_row_tensors, r2_varied_test_labels, \"../r2_vary_change_conv_layer_order_plus_dropout_graphs/Partition_by_row_test\")\n"
   ]
  },
  {
   "cell_type": "code",
   "execution_count": 53,
   "metadata": {},
   "outputs": [
    {
     "name": "stderr",
     "output_type": "stream",
     "text": [
      "2024-02-09 23:06:32.259048: I tensorflow/core/common_runtime/executor.cc:1197] [/device:CPU:0] (DEBUG INFO) Executor start aborting (this does not indicate an error and you can ignore this message): INVALID_ARGUMENT: You must feed a value for placeholder tensor 'conv1d_63_input' with dtype float and shape [?,20,300,2]\n",
      "\t [[{{node conv1d_63_input}}]]\n",
      "2024-02-09 23:06:32.392659: I tensorflow/core/common_runtime/executor.cc:1197] [/device:CPU:0] (DEBUG INFO) Executor start aborting (this does not indicate an error and you can ignore this message): INVALID_ARGUMENT: You must feed a value for placeholder tensor 'conv1d_63_input' with dtype float and shape [?,20,300,2]\n",
      "\t [[{{node conv1d_63_input}}]]\n",
      "2024-02-09 23:06:32.440451: I tensorflow/core/common_runtime/executor.cc:1197] [/device:CPU:0] (DEBUG INFO) Executor start aborting (this does not indicate an error and you can ignore this message): INVALID_ARGUMENT: You must feed a value for placeholder tensor 'inputs' with dtype float and shape [?,20,300,2]\n",
      "\t [[{{node inputs}}]]\n",
      "2024-02-09 23:06:32.469473: I tensorflow/core/common_runtime/executor.cc:1197] [/device:CPU:0] (DEBUG INFO) Executor start aborting (this does not indicate an error and you can ignore this message): INVALID_ARGUMENT: You must feed a value for placeholder tensor 'conv1d_63_input' with dtype float and shape [?,20,300,2]\n",
      "\t [[{{node conv1d_63_input}}]]\n",
      "2024-02-09 23:06:32.484216: I tensorflow/core/common_runtime/executor.cc:1197] [/device:CPU:0] (DEBUG INFO) Executor start aborting (this does not indicate an error and you can ignore this message): INVALID_ARGUMENT: You must feed a value for placeholder tensor 'inputs' with dtype float and shape [?,20,300,2]\n",
      "\t [[{{node inputs}}]]\n",
      "2024-02-09 23:06:32.520697: I tensorflow/core/common_runtime/executor.cc:1197] [/device:CPU:0] (DEBUG INFO) Executor start aborting (this does not indicate an error and you can ignore this message): INVALID_ARGUMENT: You must feed a value for placeholder tensor 'conv1d_63_input' with dtype float and shape [?,20,300,2]\n",
      "\t [[{{node conv1d_63_input}}]]\n",
      "2024-02-09 23:06:32.541495: I tensorflow/core/common_runtime/executor.cc:1197] [/device:CPU:0] (DEBUG INFO) Executor start aborting (this does not indicate an error and you can ignore this message): INVALID_ARGUMENT: You must feed a value for placeholder tensor 'inputs' with dtype float and shape [?,20,300,2]\n",
      "\t [[{{node inputs}}]]\n",
      "2024-02-09 23:06:32.551491: I tensorflow/core/common_runtime/executor.cc:1197] [/device:CPU:0] (DEBUG INFO) Executor start aborting (this does not indicate an error and you can ignore this message): INVALID_ARGUMENT: You must feed a value for placeholder tensor 'inputs' with dtype float and shape [?,1,148,64]\n",
      "\t [[{{node inputs}}]]\n",
      "2024-02-09 23:06:32.560480: I tensorflow/core/common_runtime/executor.cc:1197] [/device:CPU:0] (DEBUG INFO) Executor start aborting (this does not indicate an error and you can ignore this message): INVALID_ARGUMENT: You must feed a value for placeholder tensor 'inputs' with dtype float and shape [?,1,74,16]\n",
      "\t [[{{node inputs}}]]\n",
      "2024-02-09 23:06:32.593143: I tensorflow/core/common_runtime/executor.cc:1197] [/device:CPU:0] (DEBUG INFO) Executor start aborting (this does not indicate an error and you can ignore this message): INVALID_ARGUMENT: You must feed a value for placeholder tensor 'inputs' with dtype float and shape [?,20,300,2]\n",
      "\t [[{{node inputs}}]]\n",
      "2024-02-09 23:06:32.608580: I tensorflow/core/common_runtime/executor.cc:1197] [/device:CPU:0] (DEBUG INFO) Executor start aborting (this does not indicate an error and you can ignore this message): INVALID_ARGUMENT: You must feed a value for placeholder tensor 'inputs' with dtype float and shape [?,20,300,2]\n",
      "\t [[{{node inputs}}]]\n",
      "2024-02-09 23:06:32.745350: I tensorflow/core/common_runtime/executor.cc:1197] [/device:CPU:0] (DEBUG INFO) Executor start aborting (this does not indicate an error and you can ignore this message): INVALID_ARGUMENT: You must feed a value for placeholder tensor 'conv1d_63_input' with dtype float and shape [?,20,300,2]\n",
      "\t [[{{node conv1d_63_input}}]]\n",
      "2024-02-09 23:06:32.782441: I tensorflow/core/common_runtime/executor.cc:1197] [/device:CPU:0] (DEBUG INFO) Executor start aborting (this does not indicate an error and you can ignore this message): INVALID_ARGUMENT: You must feed a value for placeholder tensor 'inputs' with dtype float and shape [?,20,300,2]\n",
      "\t [[{{node inputs}}]]\n",
      "2024-02-09 23:06:32.794956: I tensorflow/core/common_runtime/executor.cc:1197] [/device:CPU:0] (DEBUG INFO) Executor start aborting (this does not indicate an error and you can ignore this message): INVALID_ARGUMENT: You must feed a value for placeholder tensor 'inputs' with dtype float and shape [?,20,300,2]\n",
      "\t [[{{node inputs}}]]\n",
      "2024-02-09 23:06:32.983286: I tensorflow/core/common_runtime/executor.cc:1197] [/device:CPU:0] (DEBUG INFO) Executor start aborting (this does not indicate an error and you can ignore this message): INVALID_ARGUMENT: You must feed a value for placeholder tensor 'inputs' with dtype float and shape [?,20,300,2]\n",
      "\t [[{{node inputs}}]]\n",
      "2024-02-09 23:06:33.040653: I tensorflow/core/common_runtime/executor.cc:1197] [/device:CPU:0] (DEBUG INFO) Executor start aborting (this does not indicate an error and you can ignore this message): INVALID_ARGUMENT: You must feed a value for placeholder tensor 'inputs' with dtype float and shape [?,1,148,64]\n",
      "\t [[{{node inputs}}]]\n",
      "2024-02-09 23:06:33.077676: I tensorflow/core/common_runtime/executor.cc:1197] [/device:CPU:0] (DEBUG INFO) Executor start aborting (this does not indicate an error and you can ignore this message): INVALID_ARGUMENT: You must feed a value for placeholder tensor 'inputs' with dtype float and shape [?,1,74,16]\n",
      "\t [[{{node inputs}}]]\n",
      "WARNING:absl:Found untraced functions such as _jit_compiled_convolution_op, _jit_compiled_convolution_op, _update_step_xla while saving (showing 3 of 3). These functions will not be directly callable after loading.\n",
      "2024-02-09 23:06:33.219074: I tensorflow/core/common_runtime/executor.cc:1197] [/device:CPU:0] (DEBUG INFO) Executor start aborting (this does not indicate an error and you can ignore this message): INVALID_ARGUMENT: You must feed a value for placeholder tensor 'serving_default_conv1d_63_input' with dtype float and shape [?,20,300,2]\n",
      "\t [[{{node serving_default_conv1d_63_input}}]]\n"
     ]
    },
    {
     "name": "stdout",
     "output_type": "stream",
     "text": [
      "INFO:tensorflow:Assets written to: ../r2_vary_model_conv_shift_dropout_after_second_conv_2_9_24/assets\n"
     ]
    },
    {
     "name": "stderr",
     "output_type": "stream",
     "text": [
      "INFO:tensorflow:Assets written to: ../r2_vary_model_conv_shift_dropout_after_second_conv_2_9_24/assets\n",
      "2024-02-09 23:06:33.928779: I tensorflow/core/common_runtime/executor.cc:1197] [/device:CPU:0] (DEBUG INFO) Executor start aborting (this does not indicate an error and you can ignore this message): INVALID_ARGUMENT: You must feed a value for placeholder tensor 'conv1d_57_input' with dtype float and shape [?,20,300,2]\n",
      "\t [[{{node conv1d_57_input}}]]\n",
      "2024-02-09 23:06:33.996534: I tensorflow/core/common_runtime/executor.cc:1197] [/device:CPU:0] (DEBUG INFO) Executor start aborting (this does not indicate an error and you can ignore this message): INVALID_ARGUMENT: You must feed a value for placeholder tensor 'conv1d_57_input' with dtype float and shape [?,20,300,2]\n",
      "\t [[{{node conv1d_57_input}}]]\n",
      "2024-02-09 23:06:34.023862: I tensorflow/core/common_runtime/executor.cc:1197] [/device:CPU:0] (DEBUG INFO) Executor start aborting (this does not indicate an error and you can ignore this message): INVALID_ARGUMENT: You must feed a value for placeholder tensor 'inputs' with dtype float and shape [?,20,300,2]\n",
      "\t [[{{node inputs}}]]\n",
      "2024-02-09 23:06:34.048191: I tensorflow/core/common_runtime/executor.cc:1197] [/device:CPU:0] (DEBUG INFO) Executor start aborting (this does not indicate an error and you can ignore this message): INVALID_ARGUMENT: You must feed a value for placeholder tensor 'conv1d_57_input' with dtype float and shape [?,20,300,2]\n",
      "\t [[{{node conv1d_57_input}}]]\n",
      "2024-02-09 23:06:34.058318: I tensorflow/core/common_runtime/executor.cc:1197] [/device:CPU:0] (DEBUG INFO) Executor start aborting (this does not indicate an error and you can ignore this message): INVALID_ARGUMENT: You must feed a value for placeholder tensor 'inputs' with dtype float and shape [?,20,300,2]\n",
      "\t [[{{node inputs}}]]\n",
      "2024-02-09 23:06:34.080708: I tensorflow/core/common_runtime/executor.cc:1197] [/device:CPU:0] (DEBUG INFO) Executor start aborting (this does not indicate an error and you can ignore this message): INVALID_ARGUMENT: You must feed a value for placeholder tensor 'conv1d_57_input' with dtype float and shape [?,20,300,2]\n",
      "\t [[{{node conv1d_57_input}}]]\n",
      "2024-02-09 23:06:34.088732: I tensorflow/core/common_runtime/executor.cc:1197] [/device:CPU:0] (DEBUG INFO) Executor start aborting (this does not indicate an error and you can ignore this message): INVALID_ARGUMENT: You must feed a value for placeholder tensor 'inputs' with dtype float and shape [?,20,300,2]\n",
      "\t [[{{node inputs}}]]\n",
      "2024-02-09 23:06:34.096217: I tensorflow/core/common_runtime/executor.cc:1197] [/device:CPU:0] (DEBUG INFO) Executor start aborting (this does not indicate an error and you can ignore this message): INVALID_ARGUMENT: You must feed a value for placeholder tensor 'inputs' with dtype float and shape [?,1,148,64]\n",
      "\t [[{{node inputs}}]]\n",
      "2024-02-09 23:06:34.104610: I tensorflow/core/common_runtime/executor.cc:1197] [/device:CPU:0] (DEBUG INFO) Executor start aborting (this does not indicate an error and you can ignore this message): INVALID_ARGUMENT: You must feed a value for placeholder tensor 'inputs' with dtype float and shape [?,16]\n",
      "\t [[{{node inputs}}]]\n",
      "2024-02-09 23:06:34.341756: I tensorflow/core/common_runtime/executor.cc:1197] [/device:CPU:0] (DEBUG INFO) Executor start aborting (this does not indicate an error and you can ignore this message): INVALID_ARGUMENT: You must feed a value for placeholder tensor 'inputs' with dtype float and shape [?,20,300,2]\n",
      "\t [[{{node inputs}}]]\n",
      "2024-02-09 23:06:34.353945: I tensorflow/core/common_runtime/executor.cc:1197] [/device:CPU:0] (DEBUG INFO) Executor start aborting (this does not indicate an error and you can ignore this message): INVALID_ARGUMENT: You must feed a value for placeholder tensor 'inputs' with dtype float and shape [?,20,300,2]\n",
      "\t [[{{node inputs}}]]\n",
      "2024-02-09 23:06:34.380141: I tensorflow/core/common_runtime/executor.cc:1197] [/device:CPU:0] (DEBUG INFO) Executor start aborting (this does not indicate an error and you can ignore this message): INVALID_ARGUMENT: You must feed a value for placeholder tensor 'conv1d_57_input' with dtype float and shape [?,20,300,2]\n",
      "\t [[{{node conv1d_57_input}}]]\n",
      "2024-02-09 23:06:34.402765: I tensorflow/core/common_runtime/executor.cc:1197] [/device:CPU:0] (DEBUG INFO) Executor start aborting (this does not indicate an error and you can ignore this message): INVALID_ARGUMENT: You must feed a value for placeholder tensor 'inputs' with dtype float and shape [?,20,300,2]\n",
      "\t [[{{node inputs}}]]\n",
      "2024-02-09 23:06:34.411874: I tensorflow/core/common_runtime/executor.cc:1197] [/device:CPU:0] (DEBUG INFO) Executor start aborting (this does not indicate an error and you can ignore this message): INVALID_ARGUMENT: You must feed a value for placeholder tensor 'inputs' with dtype float and shape [?,20,300,2]\n",
      "\t [[{{node inputs}}]]\n",
      "2024-02-09 23:06:34.527614: I tensorflow/core/common_runtime/executor.cc:1197] [/device:CPU:0] (DEBUG INFO) Executor start aborting (this does not indicate an error and you can ignore this message): INVALID_ARGUMENT: You must feed a value for placeholder tensor 'inputs' with dtype float and shape [?,20,300,2]\n",
      "\t [[{{node inputs}}]]\n",
      "2024-02-09 23:06:37.319971: I tensorflow/core/common_runtime/executor.cc:1197] [/device:CPU:0] (DEBUG INFO) Executor start aborting (this does not indicate an error and you can ignore this message): INVALID_ARGUMENT: You must feed a value for placeholder tensor 'inputs' with dtype float and shape [?,1,148,64]\n",
      "\t [[{{node inputs}}]]\n",
      "2024-02-09 23:06:37.404123: I tensorflow/core/common_runtime/executor.cc:1197] [/device:CPU:0] (DEBUG INFO) Executor start aborting (this does not indicate an error and you can ignore this message): INVALID_ARGUMENT: You must feed a value for placeholder tensor 'inputs' with dtype float and shape [?,16]\n",
      "\t [[{{node inputs}}]]\n",
      "WARNING:absl:Found untraced functions such as _jit_compiled_convolution_op, _jit_compiled_convolution_op, _update_step_xla while saving (showing 3 of 3). These functions will not be directly callable after loading.\n",
      "2024-02-09 23:06:37.496255: I tensorflow/core/common_runtime/executor.cc:1197] [/device:CPU:0] (DEBUG INFO) Executor start aborting (this does not indicate an error and you can ignore this message): INVALID_ARGUMENT: You must feed a value for placeholder tensor 'serving_default_conv1d_57_input' with dtype float and shape [?,20,300,2]\n",
      "\t [[{{node serving_default_conv1d_57_input}}]]\n"
     ]
    },
    {
     "name": "stdout",
     "output_type": "stream",
     "text": [
      "INFO:tensorflow:Assets written to: ../r2_vary_model_conv_shift_plus_dropout_at_end_2_9_24/assets\n"
     ]
    },
    {
     "name": "stderr",
     "output_type": "stream",
     "text": [
      "INFO:tensorflow:Assets written to: ../r2_vary_model_conv_shift_plus_dropout_at_end_2_9_24/assets\n"
     ]
    }
   ],
   "source": [
    "r2_vary_model_conv_plus_drop.save(\"../r2_vary_model_conv_shift_dropout_after_second_conv_2_9_24\")\n",
    "r2_vary_model_conv_plus_regular.save(\"../r2_vary_model_conv_shift_plus_dropout_at_end_2_9_24\")"
   ]
  },
  {
   "cell_type": "code",
   "execution_count": 54,
   "metadata": {},
   "outputs": [
    {
     "data": {
      "text/plain": [
       "(318, 20, 300, 2)"
      ]
     },
     "execution_count": 54,
     "metadata": {},
     "output_type": "execute_result"
    }
   ],
   "source": [
    "r2_varied_test_tensors.shape"
   ]
  },
  {
   "cell_type": "code",
   "execution_count": 60,
   "metadata": {},
   "outputs": [
    {
     "name": "stdout",
     "output_type": "stream",
     "text": [
      "Model: \"sequential_28\"\n",
      "_________________________________________________________________\n",
      " Layer (type)                Output Shape              Param #   \n",
      "=================================================================\n",
      " conv2d_5 (Conv2D)           (None, 8, 148, 64)        3264      \n",
      "                                                                 \n",
      " average_pooling2d_47 (Avera  (None, 1, 148, 64)       0         \n",
      " gePooling2D)                                                    \n",
      "                                                                 \n",
      " conv2d_6 (Conv2D)           (None, 1, 74, 16)         2064      \n",
      "                                                                 \n",
      " dropout_5 (Dropout)         (None, 1, 74, 16)         0         \n",
      "                                                                 \n",
      " average_pooling2d_48 (Avera  (None, 1, 18, 16)        0         \n",
      " gePooling2D)                                                    \n",
      "                                                                 \n",
      " global_average_pooling2d_22  (None, 16)               0         \n",
      "  (GlobalAveragePooling2D)                                       \n",
      "                                                                 \n",
      " dense_22 (Dense)            (None, 3)                 51        \n",
      "                                                                 \n",
      "=================================================================\n",
      "Total params: 5,379\n",
      "Trainable params: 5,379\n",
      "Non-trainable params: 0\n",
      "_________________________________________________________________\n"
     ]
    }
   ],
   "source": [
    "# New changes to the r^2 CNN 2/10/24\n",
    "def create_r2_2d_conv(input_shape: tuple, n_outputs: int):\n",
    "    model = Sequential()\n",
    "    model.add(\n",
    "        layers.Conv2D(\n",
    "            filters=64,\n",
    "            kernel_size=5,\n",
    "            strides=(2,2),\n",
    "            input_shape=input_shape,\n",
    "            activation=\"relu\",\n",
    "        )\n",
    "    )\n",
    "    # model.add(layers.Dropout(0.2)) \n",
    "    model.add(layers.AveragePooling2D(pool_size=(5, 1))) \n",
    "    model.add(layers.Conv2D(filters=16, kernel_size=(1,2), strides=2, activation=\"relu\")) \n",
    "    model.add(layers.Dropout(0.35)) # Can help prevent overfitting and make sure not some neurons take over, the arguement is not too big but not too small (0.35) because the previous conv1d layer should create 16 more feature maps for the CNN to work with\n",
    "    model.add(layers.AveragePooling2D(pool_size=(1, 4)))\n",
    "    model.add(layers.GlobalAveragePooling2D())\n",
    "    model.add(layers.Dense(n_outputs))\n",
    "    model.compile(optimizer=\"adam\", loss=\"mse\", metrics=[\"mean_squared_error\"])\n",
    "\n",
    "    return model, {}\n",
    "\n",
    "r2_vary_model_2d_conv, kwargs = create_r2_2d_conv(r2_varied_train_tensors.shape[1:], 3) \n",
    "\n",
    "kwargs.update(\n",
    "    x=r2_varied_train_tensors,\n",
    "    y=r2_varied_train_labels,\n",
    "    epochs=30,\n",
    ")\n",
    "\n",
    "# callback = callbacks.EarlyStopping(monitor=\"val_loss\", patience=5)\n",
    "# r2_vary_model_2d_conv.fit(**kwargs, callbacks=[callback])\n",
    "\n",
    "r2_vary_model_2d_conv.summary()"
   ]
  },
  {
   "cell_type": "code",
   "execution_count": 61,
   "metadata": {},
   "outputs": [
    {
     "name": "stdout",
     "output_type": "stream",
     "text": [
      "Epoch 1/30\n",
      "95/95 [==============================] - ETA: 0s - loss: 0.8362 - mean_squared_error: 0.8362WARNING:tensorflow:Early stopping conditioned on metric `val_loss` which is not available. Available metrics are: loss,mean_squared_error\n"
     ]
    },
    {
     "name": "stderr",
     "output_type": "stream",
     "text": [
      "WARNING:tensorflow:Early stopping conditioned on metric `val_loss` which is not available. Available metrics are: loss,mean_squared_error\n"
     ]
    },
    {
     "name": "stdout",
     "output_type": "stream",
     "text": [
      "95/95 [==============================] - 4s 29ms/step - loss: 0.8362 - mean_squared_error: 0.8362\n",
      "Epoch 2/30\n",
      "95/95 [==============================] - ETA: 0s - loss: 0.6130 - mean_squared_error: 0.6130WARNING:tensorflow:Early stopping conditioned on metric `val_loss` which is not available. Available metrics are: loss,mean_squared_error\n"
     ]
    },
    {
     "name": "stderr",
     "output_type": "stream",
     "text": [
      "WARNING:tensorflow:Early stopping conditioned on metric `val_loss` which is not available. Available metrics are: loss,mean_squared_error\n"
     ]
    },
    {
     "name": "stdout",
     "output_type": "stream",
     "text": [
      "95/95 [==============================] - 2s 26ms/step - loss: 0.6130 - mean_squared_error: 0.6130\n",
      "Epoch 3/30\n",
      "93/95 [============================>.] - ETA: 0s - loss: 0.5752 - mean_squared_error: 0.5752WARNING:tensorflow:Early stopping conditioned on metric `val_loss` which is not available. Available metrics are: loss,mean_squared_error\n"
     ]
    },
    {
     "name": "stderr",
     "output_type": "stream",
     "text": [
      "WARNING:tensorflow:Early stopping conditioned on metric `val_loss` which is not available. Available metrics are: loss,mean_squared_error\n"
     ]
    },
    {
     "name": "stdout",
     "output_type": "stream",
     "text": [
      "95/95 [==============================] - 2s 26ms/step - loss: 0.5719 - mean_squared_error: 0.5719\n",
      "Epoch 4/30\n",
      "94/95 [============================>.] - ETA: 0s - loss: 0.5548 - mean_squared_error: 0.5548WARNING:tensorflow:Early stopping conditioned on metric `val_loss` which is not available. Available metrics are: loss,mean_squared_error\n"
     ]
    },
    {
     "name": "stderr",
     "output_type": "stream",
     "text": [
      "WARNING:tensorflow:Early stopping conditioned on metric `val_loss` which is not available. Available metrics are: loss,mean_squared_error\n"
     ]
    },
    {
     "name": "stdout",
     "output_type": "stream",
     "text": [
      "95/95 [==============================] - 2s 22ms/step - loss: 0.5537 - mean_squared_error: 0.5537\n",
      "Epoch 5/30\n",
      "93/95 [============================>.] - ETA: 0s - loss: 0.5521 - mean_squared_error: 0.5521WARNING:tensorflow:Early stopping conditioned on metric `val_loss` which is not available. Available metrics are: loss,mean_squared_error\n"
     ]
    },
    {
     "name": "stderr",
     "output_type": "stream",
     "text": [
      "WARNING:tensorflow:Early stopping conditioned on metric `val_loss` which is not available. Available metrics are: loss,mean_squared_error\n"
     ]
    },
    {
     "name": "stdout",
     "output_type": "stream",
     "text": [
      "95/95 [==============================] - 2s 21ms/step - loss: 0.5510 - mean_squared_error: 0.5510\n",
      "Epoch 6/30\n",
      "94/95 [============================>.] - ETA: 0s - loss: 0.5510 - mean_squared_error: 0.5510WARNING:tensorflow:Early stopping conditioned on metric `val_loss` which is not available. Available metrics are: loss,mean_squared_error\n"
     ]
    },
    {
     "name": "stderr",
     "output_type": "stream",
     "text": [
      "WARNING:tensorflow:Early stopping conditioned on metric `val_loss` which is not available. Available metrics are: loss,mean_squared_error\n"
     ]
    },
    {
     "name": "stdout",
     "output_type": "stream",
     "text": [
      "95/95 [==============================] - 2s 23ms/step - loss: 0.5509 - mean_squared_error: 0.5509\n",
      "Epoch 7/30\n",
      "95/95 [==============================] - ETA: 0s - loss: 0.5417 - mean_squared_error: 0.5417WARNING:tensorflow:Early stopping conditioned on metric `val_loss` which is not available. Available metrics are: loss,mean_squared_error\n"
     ]
    },
    {
     "name": "stderr",
     "output_type": "stream",
     "text": [
      "WARNING:tensorflow:Early stopping conditioned on metric `val_loss` which is not available. Available metrics are: loss,mean_squared_error\n"
     ]
    },
    {
     "name": "stdout",
     "output_type": "stream",
     "text": [
      "95/95 [==============================] - 2s 21ms/step - loss: 0.5417 - mean_squared_error: 0.5417\n",
      "Epoch 8/30\n",
      "94/95 [============================>.] - ETA: 0s - loss: 0.5425 - mean_squared_error: 0.5425WARNING:tensorflow:Early stopping conditioned on metric `val_loss` which is not available. Available metrics are: loss,mean_squared_error\n"
     ]
    },
    {
     "name": "stderr",
     "output_type": "stream",
     "text": [
      "WARNING:tensorflow:Early stopping conditioned on metric `val_loss` which is not available. Available metrics are: loss,mean_squared_error\n"
     ]
    },
    {
     "name": "stdout",
     "output_type": "stream",
     "text": [
      "95/95 [==============================] - 2s 22ms/step - loss: 0.5415 - mean_squared_error: 0.5415\n",
      "Epoch 9/30\n",
      "94/95 [============================>.] - ETA: 0s - loss: 0.5344 - mean_squared_error: 0.5344WARNING:tensorflow:Early stopping conditioned on metric `val_loss` which is not available. Available metrics are: loss,mean_squared_error\n"
     ]
    },
    {
     "name": "stderr",
     "output_type": "stream",
     "text": [
      "WARNING:tensorflow:Early stopping conditioned on metric `val_loss` which is not available. Available metrics are: loss,mean_squared_error\n"
     ]
    },
    {
     "name": "stdout",
     "output_type": "stream",
     "text": [
      "95/95 [==============================] - 2s 22ms/step - loss: 0.5350 - mean_squared_error: 0.5350\n",
      "Epoch 10/30\n",
      "95/95 [==============================] - ETA: 0s - loss: 0.5331 - mean_squared_error: 0.5331WARNING:tensorflow:Early stopping conditioned on metric `val_loss` which is not available. Available metrics are: loss,mean_squared_error\n"
     ]
    },
    {
     "name": "stderr",
     "output_type": "stream",
     "text": [
      "WARNING:tensorflow:Early stopping conditioned on metric `val_loss` which is not available. Available metrics are: loss,mean_squared_error\n"
     ]
    },
    {
     "name": "stdout",
     "output_type": "stream",
     "text": [
      "95/95 [==============================] - 2s 22ms/step - loss: 0.5331 - mean_squared_error: 0.5331\n",
      "Epoch 11/30\n",
      "94/95 [============================>.] - ETA: 0s - loss: 0.5241 - mean_squared_error: 0.5241WARNING:tensorflow:Early stopping conditioned on metric `val_loss` which is not available. Available metrics are: loss,mean_squared_error\n"
     ]
    },
    {
     "name": "stderr",
     "output_type": "stream",
     "text": [
      "WARNING:tensorflow:Early stopping conditioned on metric `val_loss` which is not available. Available metrics are: loss,mean_squared_error\n"
     ]
    },
    {
     "name": "stdout",
     "output_type": "stream",
     "text": [
      "95/95 [==============================] - 2s 22ms/step - loss: 0.5236 - mean_squared_error: 0.5236\n",
      "Epoch 12/30\n",
      "95/95 [==============================] - ETA: 0s - loss: 0.5145 - mean_squared_error: 0.5145WARNING:tensorflow:Early stopping conditioned on metric `val_loss` which is not available. Available metrics are: loss,mean_squared_error\n"
     ]
    },
    {
     "name": "stderr",
     "output_type": "stream",
     "text": [
      "WARNING:tensorflow:Early stopping conditioned on metric `val_loss` which is not available. Available metrics are: loss,mean_squared_error\n"
     ]
    },
    {
     "name": "stdout",
     "output_type": "stream",
     "text": [
      "95/95 [==============================] - 2s 22ms/step - loss: 0.5145 - mean_squared_error: 0.5145\n",
      "Epoch 13/30\n",
      "93/95 [============================>.] - ETA: 0s - loss: 0.5053 - mean_squared_error: 0.5053WARNING:tensorflow:Early stopping conditioned on metric `val_loss` which is not available. Available metrics are: loss,mean_squared_error\n"
     ]
    },
    {
     "name": "stderr",
     "output_type": "stream",
     "text": [
      "WARNING:tensorflow:Early stopping conditioned on metric `val_loss` which is not available. Available metrics are: loss,mean_squared_error\n"
     ]
    },
    {
     "name": "stdout",
     "output_type": "stream",
     "text": [
      "95/95 [==============================] - 2s 21ms/step - loss: 0.5093 - mean_squared_error: 0.5093\n",
      "Epoch 14/30\n",
      "93/95 [============================>.] - ETA: 0s - loss: 0.4948 - mean_squared_error: 0.4948WARNING:tensorflow:Early stopping conditioned on metric `val_loss` which is not available. Available metrics are: loss,mean_squared_error\n"
     ]
    },
    {
     "name": "stderr",
     "output_type": "stream",
     "text": [
      "WARNING:tensorflow:Early stopping conditioned on metric `val_loss` which is not available. Available metrics are: loss,mean_squared_error\n"
     ]
    },
    {
     "name": "stdout",
     "output_type": "stream",
     "text": [
      "95/95 [==============================] - 2s 22ms/step - loss: 0.5020 - mean_squared_error: 0.5020\n",
      "Epoch 15/30\n",
      "93/95 [============================>.] - ETA: 0s - loss: 0.4774 - mean_squared_error: 0.4774WARNING:tensorflow:Early stopping conditioned on metric `val_loss` which is not available. Available metrics are: loss,mean_squared_error\n"
     ]
    },
    {
     "name": "stderr",
     "output_type": "stream",
     "text": [
      "WARNING:tensorflow:Early stopping conditioned on metric `val_loss` which is not available. Available metrics are: loss,mean_squared_error\n"
     ]
    },
    {
     "name": "stdout",
     "output_type": "stream",
     "text": [
      "95/95 [==============================] - 2s 21ms/step - loss: 0.4936 - mean_squared_error: 0.4936\n",
      "Epoch 16/30\n",
      "94/95 [============================>.] - ETA: 0s - loss: 0.4811 - mean_squared_error: 0.4811WARNING:tensorflow:Early stopping conditioned on metric `val_loss` which is not available. Available metrics are: loss,mean_squared_error\n"
     ]
    },
    {
     "name": "stderr",
     "output_type": "stream",
     "text": [
      "WARNING:tensorflow:Early stopping conditioned on metric `val_loss` which is not available. Available metrics are: loss,mean_squared_error\n"
     ]
    },
    {
     "name": "stdout",
     "output_type": "stream",
     "text": [
      "95/95 [==============================] - 2s 22ms/step - loss: 0.4875 - mean_squared_error: 0.4875\n",
      "Epoch 17/30\n",
      "93/95 [============================>.] - ETA: 0s - loss: 0.4766 - mean_squared_error: 0.4766WARNING:tensorflow:Early stopping conditioned on metric `val_loss` which is not available. Available metrics are: loss,mean_squared_error\n"
     ]
    },
    {
     "name": "stderr",
     "output_type": "stream",
     "text": [
      "WARNING:tensorflow:Early stopping conditioned on metric `val_loss` which is not available. Available metrics are: loss,mean_squared_error\n"
     ]
    },
    {
     "name": "stdout",
     "output_type": "stream",
     "text": [
      "95/95 [==============================] - 2s 22ms/step - loss: 0.4778 - mean_squared_error: 0.4778\n",
      "Epoch 18/30\n",
      "94/95 [============================>.] - ETA: 0s - loss: 0.4761 - mean_squared_error: 0.4761WARNING:tensorflow:Early stopping conditioned on metric `val_loss` which is not available. Available metrics are: loss,mean_squared_error\n"
     ]
    },
    {
     "name": "stderr",
     "output_type": "stream",
     "text": [
      "WARNING:tensorflow:Early stopping conditioned on metric `val_loss` which is not available. Available metrics are: loss,mean_squared_error\n"
     ]
    },
    {
     "name": "stdout",
     "output_type": "stream",
     "text": [
      "95/95 [==============================] - 2s 21ms/step - loss: 0.4753 - mean_squared_error: 0.4753\n",
      "Epoch 19/30\n",
      "93/95 [============================>.] - ETA: 0s - loss: 0.4617 - mean_squared_error: 0.4617WARNING:tensorflow:Early stopping conditioned on metric `val_loss` which is not available. Available metrics are: loss,mean_squared_error\n"
     ]
    },
    {
     "name": "stderr",
     "output_type": "stream",
     "text": [
      "WARNING:tensorflow:Early stopping conditioned on metric `val_loss` which is not available. Available metrics are: loss,mean_squared_error\n"
     ]
    },
    {
     "name": "stdout",
     "output_type": "stream",
     "text": [
      "95/95 [==============================] - 2s 21ms/step - loss: 0.4636 - mean_squared_error: 0.4636\n",
      "Epoch 20/30\n",
      "95/95 [==============================] - ETA: 0s - loss: 0.4611 - mean_squared_error: 0.4611WARNING:tensorflow:Early stopping conditioned on metric `val_loss` which is not available. Available metrics are: loss,mean_squared_error\n"
     ]
    },
    {
     "name": "stderr",
     "output_type": "stream",
     "text": [
      "WARNING:tensorflow:Early stopping conditioned on metric `val_loss` which is not available. Available metrics are: loss,mean_squared_error\n"
     ]
    },
    {
     "name": "stdout",
     "output_type": "stream",
     "text": [
      "95/95 [==============================] - 2s 24ms/step - loss: 0.4611 - mean_squared_error: 0.4611\n",
      "Epoch 21/30\n",
      "95/95 [==============================] - ETA: 0s - loss: 0.4591 - mean_squared_error: 0.4591WARNING:tensorflow:Early stopping conditioned on metric `val_loss` which is not available. Available metrics are: loss,mean_squared_error\n"
     ]
    },
    {
     "name": "stderr",
     "output_type": "stream",
     "text": [
      "WARNING:tensorflow:Early stopping conditioned on metric `val_loss` which is not available. Available metrics are: loss,mean_squared_error\n"
     ]
    },
    {
     "name": "stdout",
     "output_type": "stream",
     "text": [
      "95/95 [==============================] - 3s 28ms/step - loss: 0.4591 - mean_squared_error: 0.4591\n",
      "Epoch 22/30\n",
      "95/95 [==============================] - ETA: 0s - loss: 0.4481 - mean_squared_error: 0.4481WARNING:tensorflow:Early stopping conditioned on metric `val_loss` which is not available. Available metrics are: loss,mean_squared_error\n"
     ]
    },
    {
     "name": "stderr",
     "output_type": "stream",
     "text": [
      "WARNING:tensorflow:Early stopping conditioned on metric `val_loss` which is not available. Available metrics are: loss,mean_squared_error\n"
     ]
    },
    {
     "name": "stdout",
     "output_type": "stream",
     "text": [
      "95/95 [==============================] - 3s 28ms/step - loss: 0.4481 - mean_squared_error: 0.4481\n",
      "Epoch 23/30\n",
      "94/95 [============================>.] - ETA: 0s - loss: 0.4457 - mean_squared_error: 0.4457WARNING:tensorflow:Early stopping conditioned on metric `val_loss` which is not available. Available metrics are: loss,mean_squared_error\n"
     ]
    },
    {
     "name": "stderr",
     "output_type": "stream",
     "text": [
      "WARNING:tensorflow:Early stopping conditioned on metric `val_loss` which is not available. Available metrics are: loss,mean_squared_error\n"
     ]
    },
    {
     "name": "stdout",
     "output_type": "stream",
     "text": [
      "95/95 [==============================] - 2s 24ms/step - loss: 0.4489 - mean_squared_error: 0.4489\n",
      "Epoch 24/30\n",
      "95/95 [==============================] - ETA: 0s - loss: 0.4428 - mean_squared_error: 0.4428WARNING:tensorflow:Early stopping conditioned on metric `val_loss` which is not available. Available metrics are: loss,mean_squared_error\n"
     ]
    },
    {
     "name": "stderr",
     "output_type": "stream",
     "text": [
      "WARNING:tensorflow:Early stopping conditioned on metric `val_loss` which is not available. Available metrics are: loss,mean_squared_error\n"
     ]
    },
    {
     "name": "stdout",
     "output_type": "stream",
     "text": [
      "95/95 [==============================] - 2s 23ms/step - loss: 0.4428 - mean_squared_error: 0.4428\n",
      "Epoch 25/30\n",
      "94/95 [============================>.] - ETA: 0s - loss: 0.4368 - mean_squared_error: 0.4368WARNING:tensorflow:Early stopping conditioned on metric `val_loss` which is not available. Available metrics are: loss,mean_squared_error\n"
     ]
    },
    {
     "name": "stderr",
     "output_type": "stream",
     "text": [
      "WARNING:tensorflow:Early stopping conditioned on metric `val_loss` which is not available. Available metrics are: loss,mean_squared_error\n"
     ]
    },
    {
     "name": "stdout",
     "output_type": "stream",
     "text": [
      "95/95 [==============================] - 2s 24ms/step - loss: 0.4409 - mean_squared_error: 0.4409\n",
      "Epoch 26/30\n",
      "94/95 [============================>.] - ETA: 0s - loss: 0.4400 - mean_squared_error: 0.4400WARNING:tensorflow:Early stopping conditioned on metric `val_loss` which is not available. Available metrics are: loss,mean_squared_error\n"
     ]
    },
    {
     "name": "stderr",
     "output_type": "stream",
     "text": [
      "WARNING:tensorflow:Early stopping conditioned on metric `val_loss` which is not available. Available metrics are: loss,mean_squared_error\n"
     ]
    },
    {
     "name": "stdout",
     "output_type": "stream",
     "text": [
      "95/95 [==============================] - 2s 23ms/step - loss: 0.4388 - mean_squared_error: 0.4388\n",
      "Epoch 27/30\n",
      "95/95 [==============================] - ETA: 0s - loss: 0.4345 - mean_squared_error: 0.4345WARNING:tensorflow:Early stopping conditioned on metric `val_loss` which is not available. Available metrics are: loss,mean_squared_error\n"
     ]
    },
    {
     "name": "stderr",
     "output_type": "stream",
     "text": [
      "WARNING:tensorflow:Early stopping conditioned on metric `val_loss` which is not available. Available metrics are: loss,mean_squared_error\n"
     ]
    },
    {
     "name": "stdout",
     "output_type": "stream",
     "text": [
      "95/95 [==============================] - 2s 22ms/step - loss: 0.4345 - mean_squared_error: 0.4345\n",
      "Epoch 28/30\n",
      "94/95 [============================>.] - ETA: 0s - loss: 0.4359 - mean_squared_error: 0.4359WARNING:tensorflow:Early stopping conditioned on metric `val_loss` which is not available. Available metrics are: loss,mean_squared_error\n"
     ]
    },
    {
     "name": "stderr",
     "output_type": "stream",
     "text": [
      "WARNING:tensorflow:Early stopping conditioned on metric `val_loss` which is not available. Available metrics are: loss,mean_squared_error\n"
     ]
    },
    {
     "name": "stdout",
     "output_type": "stream",
     "text": [
      "95/95 [==============================] - 2s 22ms/step - loss: 0.4344 - mean_squared_error: 0.4344\n",
      "Epoch 29/30\n",
      "94/95 [============================>.] - ETA: 0s - loss: 0.4322 - mean_squared_error: 0.4322WARNING:tensorflow:Early stopping conditioned on metric `val_loss` which is not available. Available metrics are: loss,mean_squared_error\n"
     ]
    },
    {
     "name": "stderr",
     "output_type": "stream",
     "text": [
      "WARNING:tensorflow:Early stopping conditioned on metric `val_loss` which is not available. Available metrics are: loss,mean_squared_error\n"
     ]
    },
    {
     "name": "stdout",
     "output_type": "stream",
     "text": [
      "95/95 [==============================] - 2s 21ms/step - loss: 0.4316 - mean_squared_error: 0.4316\n",
      "Epoch 30/30\n",
      "93/95 [============================>.] - ETA: 0s - loss: 0.4257 - mean_squared_error: 0.4257WARNING:tensorflow:Early stopping conditioned on metric `val_loss` which is not available. Available metrics are: loss,mean_squared_error\n"
     ]
    },
    {
     "name": "stderr",
     "output_type": "stream",
     "text": [
      "WARNING:tensorflow:Early stopping conditioned on metric `val_loss` which is not available. Available metrics are: loss,mean_squared_error\n"
     ]
    },
    {
     "name": "stdout",
     "output_type": "stream",
     "text": [
      "95/95 [==============================] - 2s 22ms/step - loss: 0.4274 - mean_squared_error: 0.4274\n"
     ]
    },
    {
     "data": {
      "text/plain": [
       "<keras.callbacks.History at 0x7fe60d654210>"
      ]
     },
     "execution_count": 61,
     "metadata": {},
     "output_type": "execute_result"
    }
   ],
   "source": [
    "callback = callbacks.EarlyStopping(monitor=\"val_loss\", patience=5)\n",
    "r2_vary_model_2d_conv.fit(**kwargs, callbacks=[callback])"
   ]
  },
  {
   "cell_type": "code",
   "execution_count": 62,
   "metadata": {},
   "outputs": [
    {
     "name": "stdout",
     "output_type": "stream",
     "text": [
      "10/10 [==============================] - 0s 8ms/step\n"
     ]
    },
    {
     "data": {
      "image/png": "[encoded data removed]",
      "text/plain": [
       "<Figure size 640x480 with 1 Axes>"
      ]
     },
     "metadata": {},
     "output_type": "display_data"
    }
   ],
   "source": [
    "plot_LD_results(r2_vary_model_2d_conv, r2_varied_test_tensors, r2_varied_test_labels, \"../r2_vary_conv2d_model_graphs\")"
   ]
  },
  {
   "cell_type": "code",
   "execution_count": 69,
   "metadata": {},
   "outputs": [
    {
     "name": "stdout",
     "output_type": "stream",
     "text": [
      "Model: \"sequential_35\"\n",
      "_________________________________________________________________\n",
      " Layer (type)                Output Shape              Param #   \n",
      "=================================================================\n",
      " conv2d_18 (Conv2D)          (None, 8, 148, 64)        3264      \n",
      "                                                                 \n",
      " average_pooling2d_60 (Avera  (None, 1, 9, 64)         0         \n",
      " gePooling2D)                                                    \n",
      "                                                                 \n",
      " conv2d_19 (Conv2D)          (None, 1, 4, 16)          3088      \n",
      "                                                                 \n",
      " average_pooling2d_61 (Avera  (None, 1, 1, 16)         0         \n",
      " gePooling2D)                                                    \n",
      "                                                                 \n",
      " global_average_pooling2d_26  (None, 16)               0         \n",
      "  (GlobalAveragePooling2D)                                       \n",
      "                                                                 \n",
      " dense_26 (Dense)            (None, 3)                 51        \n",
      "                                                                 \n",
      "=================================================================\n",
      "Total params: 6,403\n",
      "Trainable params: 6,403\n",
      "Non-trainable params: 0\n",
      "_________________________________________________________________\n"
     ]
    }
   ],
   "source": [
    "# New changes to the r^2 CNN 2/10/24\n",
    "def create_r2_2d_conv_without_drop(input_shape: tuple, n_outputs: int):\n",
    "    model = Sequential()\n",
    "    model.add(\n",
    "        layers.Conv2D(\n",
    "            filters=64,\n",
    "            kernel_size=5,\n",
    "            strides=(2,2),\n",
    "            input_shape=input_shape,\n",
    "            activation=\"relu\",\n",
    "        )\n",
    "    )\n",
    "    # model.add(layers.Dropout(0.2)) \n",
    "    model.add(layers.AveragePooling2D(pool_size=(5, 15))) \n",
    "    model.add(layers.Conv2D(filters=16, kernel_size=(1,3), strides=2, activation=\"relu\")) \n",
    "    model.add(layers.AveragePooling2D(pool_size=(1, 4)))\n",
    "    model.add(layers.GlobalAveragePooling2D())\n",
    "    model.add(layers.Dense(n_outputs))\n",
    "    model.compile(optimizer=\"adam\", loss=\"mse\", metrics=[\"mean_squared_error\"])\n",
    "\n",
    "    return model, {}\n",
    "\n",
    "r2_vary_model_2d_conv_no_drop, kwargs = create_r2_2d_conv_without_drop(r2_varied_train_tensors.shape[1:], 3) \n",
    "\n",
    "kwargs.update(\n",
    "    x=r2_varied_train_tensors,\n",
    "    y=r2_varied_train_labels,\n",
    "    epochs=30,\n",
    ")\n",
    "\n",
    "# callback = callbacks.EarlyStopping(monitor=\"val_loss\", patience=5)\n",
    "# r2_vary_model_2d_conv_no_drop.fit(**kwargs, callbacks=[callback])\n",
    "\n",
    "r2_vary_model_2d_conv_no_drop.summary()"
   ]
  },
  {
   "cell_type": "code",
   "execution_count": 70,
   "metadata": {},
   "outputs": [
    {
     "name": "stdout",
     "output_type": "stream",
     "text": [
      "Epoch 1/30\n",
      "94/95 [============================>.] - ETA: 0s - loss: 0.9012 - mean_squared_error: 0.9012WARNING:tensorflow:Early stopping conditioned on metric `val_loss` which is not available. Available metrics are: loss,mean_squared_error\n"
     ]
    },
    {
     "name": "stderr",
     "output_type": "stream",
     "text": [
      "WARNING:tensorflow:Early stopping conditioned on metric `val_loss` which is not available. Available metrics are: loss,mean_squared_error\n"
     ]
    },
    {
     "name": "stdout",
     "output_type": "stream",
     "text": [
      "95/95 [==============================] - 4s 30ms/step - loss: 0.8996 - mean_squared_error: 0.8996\n",
      "Epoch 2/30\n",
      "93/95 [============================>.] - ETA: 0s - loss: 0.6111 - mean_squared_error: 0.6111WARNING:tensorflow:Early stopping conditioned on metric `val_loss` which is not available. Available metrics are: loss,mean_squared_error\n"
     ]
    },
    {
     "name": "stderr",
     "output_type": "stream",
     "text": [
      "WARNING:tensorflow:Early stopping conditioned on metric `val_loss` which is not available. Available metrics are: loss,mean_squared_error\n"
     ]
    },
    {
     "name": "stdout",
     "output_type": "stream",
     "text": [
      "95/95 [==============================] - 2s 22ms/step - loss: 0.6224 - mean_squared_error: 0.6224\n",
      "Epoch 3/30\n",
      "94/95 [============================>.] - ETA: 0s - loss: 0.5724 - mean_squared_error: 0.5724WARNING:tensorflow:Early stopping conditioned on metric `val_loss` which is not available. Available metrics are: loss,mean_squared_error\n"
     ]
    },
    {
     "name": "stderr",
     "output_type": "stream",
     "text": [
      "WARNING:tensorflow:Early stopping conditioned on metric `val_loss` which is not available. Available metrics are: loss,mean_squared_error\n"
     ]
    },
    {
     "name": "stdout",
     "output_type": "stream",
     "text": [
      "95/95 [==============================] - 2s 22ms/step - loss: 0.5691 - mean_squared_error: 0.5691\n",
      "Epoch 4/30\n",
      "94/95 [============================>.] - ETA: 0s - loss: 0.5407 - mean_squared_error: 0.5407WARNING:tensorflow:Early stopping conditioned on metric `val_loss` which is not available. Available metrics are: loss,mean_squared_error\n"
     ]
    },
    {
     "name": "stderr",
     "output_type": "stream",
     "text": [
      "WARNING:tensorflow:Early stopping conditioned on metric `val_loss` which is not available. Available metrics are: loss,mean_squared_error\n"
     ]
    },
    {
     "name": "stdout",
     "output_type": "stream",
     "text": [
      "95/95 [==============================] - 2s 21ms/step - loss: 0.5449 - mean_squared_error: 0.5449\n",
      "Epoch 5/30\n",
      "95/95 [==============================] - ETA: 0s - loss: 0.5410 - mean_squared_error: 0.5410WARNING:tensorflow:Early stopping conditioned on metric `val_loss` which is not available. Available metrics are: loss,mean_squared_error\n"
     ]
    },
    {
     "name": "stderr",
     "output_type": "stream",
     "text": [
      "WARNING:tensorflow:Early stopping conditioned on metric `val_loss` which is not available. Available metrics are: loss,mean_squared_error\n"
     ]
    },
    {
     "name": "stdout",
     "output_type": "stream",
     "text": [
      "95/95 [==============================] - 2s 21ms/step - loss: 0.5410 - mean_squared_error: 0.5410\n",
      "Epoch 6/30\n",
      "94/95 [============================>.] - ETA: 0s - loss: 0.5319 - mean_squared_error: 0.5319WARNING:tensorflow:Early stopping conditioned on metric `val_loss` which is not available. Available metrics are: loss,mean_squared_error\n"
     ]
    },
    {
     "name": "stderr",
     "output_type": "stream",
     "text": [
      "WARNING:tensorflow:Early stopping conditioned on metric `val_loss` which is not available. Available metrics are: loss,mean_squared_error\n"
     ]
    },
    {
     "name": "stdout",
     "output_type": "stream",
     "text": [
      "95/95 [==============================] - 2s 21ms/step - loss: 0.5330 - mean_squared_error: 0.5330\n",
      "Epoch 7/30\n",
      "95/95 [==============================] - ETA: 0s - loss: 0.5193 - mean_squared_error: 0.5193WARNING:tensorflow:Early stopping conditioned on metric `val_loss` which is not available. Available metrics are: loss,mean_squared_error\n"
     ]
    },
    {
     "name": "stderr",
     "output_type": "stream",
     "text": [
      "WARNING:tensorflow:Early stopping conditioned on metric `val_loss` which is not available. Available metrics are: loss,mean_squared_error\n"
     ]
    },
    {
     "name": "stdout",
     "output_type": "stream",
     "text": [
      "95/95 [==============================] - 2s 22ms/step - loss: 0.5193 - mean_squared_error: 0.5193\n",
      "Epoch 8/30\n",
      "94/95 [============================>.] - ETA: 0s - loss: 0.4993 - mean_squared_error: 0.4993WARNING:tensorflow:Early stopping conditioned on metric `val_loss` which is not available. Available metrics are: loss,mean_squared_error\n"
     ]
    },
    {
     "name": "stderr",
     "output_type": "stream",
     "text": [
      "WARNING:tensorflow:Early stopping conditioned on metric `val_loss` which is not available. Available metrics are: loss,mean_squared_error\n"
     ]
    },
    {
     "name": "stdout",
     "output_type": "stream",
     "text": [
      "95/95 [==============================] - 2s 20ms/step - loss: 0.4971 - mean_squared_error: 0.4971\n",
      "Epoch 9/30\n",
      "93/95 [============================>.] - ETA: 0s - loss: 0.4849 - mean_squared_error: 0.4849WARNING:tensorflow:Early stopping conditioned on metric `val_loss` which is not available. Available metrics are: loss,mean_squared_error\n"
     ]
    },
    {
     "name": "stderr",
     "output_type": "stream",
     "text": [
      "WARNING:tensorflow:Early stopping conditioned on metric `val_loss` which is not available. Available metrics are: loss,mean_squared_error\n"
     ]
    },
    {
     "name": "stdout",
     "output_type": "stream",
     "text": [
      "95/95 [==============================] - 2s 21ms/step - loss: 0.4862 - mean_squared_error: 0.4862\n",
      "Epoch 10/30\n",
      "93/95 [============================>.] - ETA: 0s - loss: 0.4748 - mean_squared_error: 0.4748WARNING:tensorflow:Early stopping conditioned on metric `val_loss` which is not available. Available metrics are: loss,mean_squared_error\n"
     ]
    },
    {
     "name": "stderr",
     "output_type": "stream",
     "text": [
      "WARNING:tensorflow:Early stopping conditioned on metric `val_loss` which is not available. Available metrics are: loss,mean_squared_error\n"
     ]
    },
    {
     "name": "stdout",
     "output_type": "stream",
     "text": [
      "95/95 [==============================] - 2s 20ms/step - loss: 0.4778 - mean_squared_error: 0.4778\n",
      "Epoch 11/30\n",
      "94/95 [============================>.] - ETA: 0s - loss: 0.4842 - mean_squared_error: 0.4842WARNING:tensorflow:Early stopping conditioned on metric `val_loss` which is not available. Available metrics are: loss,mean_squared_error\n"
     ]
    },
    {
     "name": "stderr",
     "output_type": "stream",
     "text": [
      "WARNING:tensorflow:Early stopping conditioned on metric `val_loss` which is not available. Available metrics are: loss,mean_squared_error\n"
     ]
    },
    {
     "name": "stdout",
     "output_type": "stream",
     "text": [
      "95/95 [==============================] - 2s 19ms/step - loss: 0.4818 - mean_squared_error: 0.4818\n",
      "Epoch 12/30\n",
      "94/95 [============================>.] - ETA: 0s - loss: 0.4762 - mean_squared_error: 0.4762WARNING:tensorflow:Early stopping conditioned on metric `val_loss` which is not available. Available metrics are: loss,mean_squared_error\n"
     ]
    },
    {
     "name": "stderr",
     "output_type": "stream",
     "text": [
      "WARNING:tensorflow:Early stopping conditioned on metric `val_loss` which is not available. Available metrics are: loss,mean_squared_error\n"
     ]
    },
    {
     "name": "stdout",
     "output_type": "stream",
     "text": [
      "95/95 [==============================] - 2s 19ms/step - loss: 0.4766 - mean_squared_error: 0.4766\n",
      "Epoch 13/30\n",
      "94/95 [============================>.] - ETA: 0s - loss: 0.4749 - mean_squared_error: 0.4749WARNING:tensorflow:Early stopping conditioned on metric `val_loss` which is not available. Available metrics are: loss,mean_squared_error\n"
     ]
    },
    {
     "name": "stderr",
     "output_type": "stream",
     "text": [
      "WARNING:tensorflow:Early stopping conditioned on metric `val_loss` which is not available. Available metrics are: loss,mean_squared_error\n"
     ]
    },
    {
     "name": "stdout",
     "output_type": "stream",
     "text": [
      "95/95 [==============================] - 2s 19ms/step - loss: 0.4721 - mean_squared_error: 0.4721\n",
      "Epoch 14/30\n",
      "94/95 [============================>.] - ETA: 0s - loss: 0.4696 - mean_squared_error: 0.4696WARNING:tensorflow:Early stopping conditioned on metric `val_loss` which is not available. Available metrics are: loss,mean_squared_error\n"
     ]
    },
    {
     "name": "stderr",
     "output_type": "stream",
     "text": [
      "WARNING:tensorflow:Early stopping conditioned on metric `val_loss` which is not available. Available metrics are: loss,mean_squared_error\n"
     ]
    },
    {
     "name": "stdout",
     "output_type": "stream",
     "text": [
      "95/95 [==============================] - 2s 19ms/step - loss: 0.4688 - mean_squared_error: 0.4688\n",
      "Epoch 15/30\n",
      "94/95 [============================>.] - ETA: 0s - loss: 0.4740 - mean_squared_error: 0.4740WARNING:tensorflow:Early stopping conditioned on metric `val_loss` which is not available. Available metrics are: loss,mean_squared_error\n"
     ]
    },
    {
     "name": "stderr",
     "output_type": "stream",
     "text": [
      "WARNING:tensorflow:Early stopping conditioned on metric `val_loss` which is not available. Available metrics are: loss,mean_squared_error\n"
     ]
    },
    {
     "name": "stdout",
     "output_type": "stream",
     "text": [
      "95/95 [==============================] - 2s 21ms/step - loss: 0.4722 - mean_squared_error: 0.4722\n",
      "Epoch 16/30\n",
      "94/95 [============================>.] - ETA: 0s - loss: 0.4721 - mean_squared_error: 0.4721WARNING:tensorflow:Early stopping conditioned on metric `val_loss` which is not available. Available metrics are: loss,mean_squared_error\n"
     ]
    },
    {
     "name": "stderr",
     "output_type": "stream",
     "text": [
      "WARNING:tensorflow:Early stopping conditioned on metric `val_loss` which is not available. Available metrics are: loss,mean_squared_error\n"
     ]
    },
    {
     "name": "stdout",
     "output_type": "stream",
     "text": [
      "95/95 [==============================] - 2s 22ms/step - loss: 0.4702 - mean_squared_error: 0.4702\n",
      "Epoch 17/30\n",
      "93/95 [============================>.] - ETA: 0s - loss: 0.4676 - mean_squared_error: 0.4676WARNING:tensorflow:Early stopping conditioned on metric `val_loss` which is not available. Available metrics are: loss,mean_squared_error\n"
     ]
    },
    {
     "name": "stderr",
     "output_type": "stream",
     "text": [
      "WARNING:tensorflow:Early stopping conditioned on metric `val_loss` which is not available. Available metrics are: loss,mean_squared_error\n"
     ]
    },
    {
     "name": "stdout",
     "output_type": "stream",
     "text": [
      "95/95 [==============================] - 2s 22ms/step - loss: 0.4652 - mean_squared_error: 0.4652\n",
      "Epoch 18/30\n",
      "93/95 [============================>.] - ETA: 0s - loss: 0.4634 - mean_squared_error: 0.4634WARNING:tensorflow:Early stopping conditioned on metric `val_loss` which is not available. Available metrics are: loss,mean_squared_error\n"
     ]
    },
    {
     "name": "stderr",
     "output_type": "stream",
     "text": [
      "WARNING:tensorflow:Early stopping conditioned on metric `val_loss` which is not available. Available metrics are: loss,mean_squared_error\n"
     ]
    },
    {
     "name": "stdout",
     "output_type": "stream",
     "text": [
      "95/95 [==============================] - 2s 20ms/step - loss: 0.4615 - mean_squared_error: 0.4615\n",
      "Epoch 19/30\n",
      "94/95 [============================>.] - ETA: 0s - loss: 0.4622 - mean_squared_error: 0.4622WARNING:tensorflow:Early stopping conditioned on metric `val_loss` which is not available. Available metrics are: loss,mean_squared_error\n"
     ]
    },
    {
     "name": "stderr",
     "output_type": "stream",
     "text": [
      "WARNING:tensorflow:Early stopping conditioned on metric `val_loss` which is not available. Available metrics are: loss,mean_squared_error\n"
     ]
    },
    {
     "name": "stdout",
     "output_type": "stream",
     "text": [
      "95/95 [==============================] - 2s 19ms/step - loss: 0.4606 - mean_squared_error: 0.4606\n",
      "Epoch 20/30\n",
      "93/95 [============================>.] - ETA: 0s - loss: 0.4527 - mean_squared_error: 0.4527WARNING:tensorflow:Early stopping conditioned on metric `val_loss` which is not available. Available metrics are: loss,mean_squared_error\n"
     ]
    },
    {
     "name": "stderr",
     "output_type": "stream",
     "text": [
      "WARNING:tensorflow:Early stopping conditioned on metric `val_loss` which is not available. Available metrics are: loss,mean_squared_error\n"
     ]
    },
    {
     "name": "stdout",
     "output_type": "stream",
     "text": [
      "95/95 [==============================] - 2s 19ms/step - loss: 0.4569 - mean_squared_error: 0.4569\n",
      "Epoch 21/30\n",
      "94/95 [============================>.] - ETA: 0s - loss: 0.4565 - mean_squared_error: 0.4565WARNING:tensorflow:Early stopping conditioned on metric `val_loss` which is not available. Available metrics are: loss,mean_squared_error\n"
     ]
    },
    {
     "name": "stderr",
     "output_type": "stream",
     "text": [
      "WARNING:tensorflow:Early stopping conditioned on metric `val_loss` which is not available. Available metrics are: loss,mean_squared_error\n"
     ]
    },
    {
     "name": "stdout",
     "output_type": "stream",
     "text": [
      "95/95 [==============================] - 2s 19ms/step - loss: 0.4542 - mean_squared_error: 0.4542\n",
      "Epoch 22/30\n",
      "94/95 [============================>.] - ETA: 0s - loss: 0.4575 - mean_squared_error: 0.4575WARNING:tensorflow:Early stopping conditioned on metric `val_loss` which is not available. Available metrics are: loss,mean_squared_error\n"
     ]
    },
    {
     "name": "stderr",
     "output_type": "stream",
     "text": [
      "WARNING:tensorflow:Early stopping conditioned on metric `val_loss` which is not available. Available metrics are: loss,mean_squared_error\n"
     ]
    },
    {
     "name": "stdout",
     "output_type": "stream",
     "text": [
      "95/95 [==============================] - 2s 19ms/step - loss: 0.4573 - mean_squared_error: 0.4573\n",
      "Epoch 23/30\n",
      "94/95 [============================>.] - ETA: 0s - loss: 0.4534 - mean_squared_error: 0.4534WARNING:tensorflow:Early stopping conditioned on metric `val_loss` which is not available. Available metrics are: loss,mean_squared_error\n"
     ]
    },
    {
     "name": "stderr",
     "output_type": "stream",
     "text": [
      "WARNING:tensorflow:Early stopping conditioned on metric `val_loss` which is not available. Available metrics are: loss,mean_squared_error\n"
     ]
    },
    {
     "name": "stdout",
     "output_type": "stream",
     "text": [
      "95/95 [==============================] - 2s 19ms/step - loss: 0.4533 - mean_squared_error: 0.4533\n",
      "Epoch 24/30\n",
      "93/95 [============================>.] - ETA: 0s - loss: 0.4438 - mean_squared_error: 0.4438WARNING:tensorflow:Early stopping conditioned on metric `val_loss` which is not available. Available metrics are: loss,mean_squared_error\n"
     ]
    },
    {
     "name": "stderr",
     "output_type": "stream",
     "text": [
      "WARNING:tensorflow:Early stopping conditioned on metric `val_loss` which is not available. Available metrics are: loss,mean_squared_error\n"
     ]
    },
    {
     "name": "stdout",
     "output_type": "stream",
     "text": [
      "95/95 [==============================] - 2s 19ms/step - loss: 0.4489 - mean_squared_error: 0.4489\n",
      "Epoch 25/30\n",
      "94/95 [============================>.] - ETA: 0s - loss: 0.4486 - mean_squared_error: 0.4486WARNING:tensorflow:Early stopping conditioned on metric `val_loss` which is not available. Available metrics are: loss,mean_squared_error\n"
     ]
    },
    {
     "name": "stderr",
     "output_type": "stream",
     "text": [
      "WARNING:tensorflow:Early stopping conditioned on metric `val_loss` which is not available. Available metrics are: loss,mean_squared_error\n"
     ]
    },
    {
     "name": "stdout",
     "output_type": "stream",
     "text": [
      "95/95 [==============================] - 2s 19ms/step - loss: 0.4473 - mean_squared_error: 0.4473\n",
      "Epoch 26/30\n",
      "93/95 [============================>.] - ETA: 0s - loss: 0.4470 - mean_squared_error: 0.4470WARNING:tensorflow:Early stopping conditioned on metric `val_loss` which is not available. Available metrics are: loss,mean_squared_error\n"
     ]
    },
    {
     "name": "stderr",
     "output_type": "stream",
     "text": [
      "WARNING:tensorflow:Early stopping conditioned on metric `val_loss` which is not available. Available metrics are: loss,mean_squared_error\n"
     ]
    },
    {
     "name": "stdout",
     "output_type": "stream",
     "text": [
      "95/95 [==============================] - 2s 19ms/step - loss: 0.4453 - mean_squared_error: 0.4453\n",
      "Epoch 27/30\n",
      "94/95 [============================>.] - ETA: 0s - loss: 0.4445 - mean_squared_error: 0.4445WARNING:tensorflow:Early stopping conditioned on metric `val_loss` which is not available. Available metrics are: loss,mean_squared_error\n"
     ]
    },
    {
     "name": "stderr",
     "output_type": "stream",
     "text": [
      "WARNING:tensorflow:Early stopping conditioned on metric `val_loss` which is not available. Available metrics are: loss,mean_squared_error\n"
     ]
    },
    {
     "name": "stdout",
     "output_type": "stream",
     "text": [
      "95/95 [==============================] - 2s 18ms/step - loss: 0.4424 - mean_squared_error: 0.4424\n",
      "Epoch 28/30\n",
      "94/95 [============================>.] - ETA: 0s - loss: 0.4418 - mean_squared_error: 0.4418WARNING:tensorflow:Early stopping conditioned on metric `val_loss` which is not available. Available metrics are: loss,mean_squared_error\n"
     ]
    },
    {
     "name": "stderr",
     "output_type": "stream",
     "text": [
      "WARNING:tensorflow:Early stopping conditioned on metric `val_loss` which is not available. Available metrics are: loss,mean_squared_error\n"
     ]
    },
    {
     "name": "stdout",
     "output_type": "stream",
     "text": [
      "95/95 [==============================] - 2s 19ms/step - loss: 0.4409 - mean_squared_error: 0.4409\n",
      "Epoch 29/30\n",
      "94/95 [============================>.] - ETA: 0s - loss: 0.4446 - mean_squared_error: 0.4446WARNING:tensorflow:Early stopping conditioned on metric `val_loss` which is not available. Available metrics are: loss,mean_squared_error\n"
     ]
    },
    {
     "name": "stderr",
     "output_type": "stream",
     "text": [
      "WARNING:tensorflow:Early stopping conditioned on metric `val_loss` which is not available. Available metrics are: loss,mean_squared_error\n"
     ]
    },
    {
     "name": "stdout",
     "output_type": "stream",
     "text": [
      "95/95 [==============================] - 2s 19ms/step - loss: 0.4446 - mean_squared_error: 0.4446\n",
      "Epoch 30/30\n",
      "94/95 [============================>.] - ETA: 0s - loss: 0.4404 - mean_squared_error: 0.4404WARNING:tensorflow:Early stopping conditioned on metric `val_loss` which is not available. Available metrics are: loss,mean_squared_error\n"
     ]
    },
    {
     "name": "stderr",
     "output_type": "stream",
     "text": [
      "WARNING:tensorflow:Early stopping conditioned on metric `val_loss` which is not available. Available metrics are: loss,mean_squared_error\n"
     ]
    },
    {
     "name": "stdout",
     "output_type": "stream",
     "text": [
      "95/95 [==============================] - 2s 19ms/step - loss: 0.4385 - mean_squared_error: 0.4385\n"
     ]
    },
    {
     "data": {
      "text/plain": [
       "<keras.callbacks.History at 0x7fe60c82f110>"
      ]
     },
     "execution_count": 70,
     "metadata": {},
     "output_type": "execute_result"
    }
   ],
   "source": [
    "callback = callbacks.EarlyStopping(monitor=\"val_loss\", patience=5)\n",
    "r2_vary_model_2d_conv_no_drop.fit(**kwargs, callbacks=[callback])"
   ]
  },
  {
   "cell_type": "code",
   "execution_count": 71,
   "metadata": {},
   "outputs": [
    {
     "name": "stdout",
     "output_type": "stream",
     "text": [
      "10/10 [==============================] - 0s 6ms/step\n"
     ]
    },
    {
     "data": {
      "image/png": "[encoded data removed]",
      "text/plain": [
       "<Figure size 640x480 with 1 Axes>"
      ]
     },
     "metadata": {},
     "output_type": "display_data"
    }
   ],
   "source": [
    "plot_LD_results(r2_vary_model_2d_conv_no_drop, r2_varied_test_tensors, r2_varied_test_labels, \"../r2_vary_conv2d_model_no_drop_graphs\")"
   ]
  },
  {
   "cell_type": "code",
   "execution_count": 73,
   "metadata": {},
   "outputs": [
    {
     "name": "stdout",
     "output_type": "stream",
     "text": [
      "10/10 [==============================] - 0s 8ms/step\n",
      "10/10 [==============================] - 0s 7ms/step\n"
     ]
    },
    {
     "data": {
      "image/png": "[encoded data removed]",
      "text/plain": [
       "<Figure size 640x480 with 1 Axes>"
      ]
     },
     "metadata": {},
     "output_type": "display_data"
    }
   ],
   "source": [
    "# One with dropout layer \n",
    "plot_LD_results(r2_vary_model_2d_conv, r2_varied_test_free_scrambled_tensors, r2_varied_test_labels, \"../r2_vary_conv2d_plus_drop_model_graphs/Free_Scramble_Test\")\n",
    "plot_LD_results(r2_vary_model_2d_conv, r2_varied_test_partition_by_row_tensors, r2_varied_test_labels, \"../r2_vary_conv2d_plus_drop_model_graphs/Parition_by_row_Test\")\n"
   ]
  },
  {
   "cell_type": "code",
   "execution_count": 72,
   "metadata": {},
   "outputs": [
    {
     "name": "stdout",
     "output_type": "stream",
     "text": [
      "10/10 [==============================] - 0s 7ms/step\n",
      "10/10 [==============================] - 0s 6ms/step\n"
     ]
    },
    {
     "data": {
      "image/png": "[encoded data removed]",
      "text/plain": [
       "<Figure size 640x480 with 1 Axes>"
      ]
     },
     "metadata": {},
     "output_type": "display_data"
    }
   ],
   "source": [
    "plot_LD_results(r2_vary_model_2d_conv_no_drop, r2_varied_test_free_scrambled_tensors, r2_varied_test_labels, \"../r2_vary_conv2d_model_no_drop_graphs/Free_scramble_test\")\n",
    "plot_LD_results(r2_vary_model_2d_conv_no_drop, r2_varied_test_partition_by_row_tensors, r2_varied_test_labels, \"../r2_vary_conv2d_model_no_drop_graphs/Parition_by_row_test\")"
   ]
  }
 ],
 "metadata": {
  "kernelspec": {
   "display_name": "dfe-cnn",
   "language": "python",
   "name": "python3"
  },
  "language_info": {
   "codemirror_mode": {
    "name": "ipython",
    "version": 3
   },
   "file_extension": ".py",
   "mimetype": "text/x-python",
   "name": "python",
   "nbconvert_exporter": "python",
   "pygments_lexer": "ipython3",
   "version": "3.11.4"
  }
 },
 "nbformat": 4,
 "nbformat_minor": 2
}
